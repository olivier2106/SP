{
  "nbformat": 4,
  "nbformat_minor": 0,
  "metadata": {
    "kernelspec": {
      "display_name": "Python 3",
      "language": "python",
      "name": "python3"
    },
    "language_info": {
      "codemirror_mode": {
        "name": "ipython",
        "version": 3
      },
      "file_extension": ".py",
      "mimetype": "text/x-python",
      "name": "python",
      "nbconvert_exporter": "python",
      "pygments_lexer": "ipython3",
      "version": "3.6.7"
    },
    "colab": {
      "name": "vix_ux_intraday.ipynb",
      "provenance": [],
      "collapsed_sections": [
        "tiTVaDItbUbN",
        "qerRdYNVbUgi",
        "dVCybAvEbUoI",
        "3BdYTua7bUrP",
        "LEsfbr96bU0t",
        "4OpGKKarbU5j",
        "a5Up4soBbVCY",
        "7hc0nIoWbVGS",
        "O-kfZkxtbVJP",
        "9hsvU9cjbVMY"
      ],
      "include_colab_link": true
    }
  },
  "cells": [
    {
      "cell_type": "markdown",
      "metadata": {
        "id": "view-in-github",
        "colab_type": "text"
      },
      "source": [
        "<a href=\"https://colab.research.google.com/github/olivier2106/SP/blob/master/vix_ux_intraday.ipynb\" target=\"_parent\"><img src=\"https://colab.research.google.com/assets/colab-badge.svg\" alt=\"Open In Colab\"/></a>"
      ]
    },
    {
      "cell_type": "code",
      "metadata": {
        "id": "rxIJgOl5bT52",
        "colab_type": "code",
        "colab": {}
      },
      "source": [
        "import pandas as pd\n",
        "import numpy as np\n",
        "import matplotlib.pyplot as plt"
      ],
      "execution_count": 0,
      "outputs": []
    },
    {
      "cell_type": "code",
      "metadata": {
        "id": "kaGaWA-U7pti",
        "colab_type": "code",
        "outputId": "ca9ba10a-b5f2-4375-af6e-c9dd578f30ce",
        "colab": {
          "resources": {
            "http://localhost:8080/nbextensions/google.colab/files.js": {
              "data": "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",
              "ok": true,
              "headers": [
                [
                  "content-type",
                  "application/javascript"
                ]
              ],
              "status": 200,
              "status_text": ""
            }
          },
          "base_uri": "https://localhost:8080/",
          "height": 343
        }
      },
      "source": [
        "from google.colab import files\n",
        "uploaded = files.upload()"
      ],
      "execution_count": 0,
      "outputs": [
        {
          "output_type": "display_data",
          "data": {
            "text/html": [
              "\n",
              "     <input type=\"file\" id=\"files-c6ac4c0b-96f7-4f53-ae92-910241d4fe7b\" name=\"files[]\" multiple disabled />\n",
              "     <output id=\"result-c6ac4c0b-96f7-4f53-ae92-910241d4fe7b\">\n",
              "      Upload widget is only available when the cell has been executed in the\n",
              "      current browser session. Please rerun this cell to enable.\n",
              "      </output>\n",
              "      <script src=\"/nbextensions/google.colab/files.js\"></script> "
            ],
            "text/plain": [
              "<IPython.core.display.HTML object>"
            ]
          },
          "metadata": {
            "tags": []
          }
        },
        {
          "output_type": "stream",
          "text": [
            "Saving ES_01-01-2012_01-05-2020.csv to ES_01-01-2012_01-05-2020.csv\n",
            "Saving SPX_01-01-2012_01-05-2020.csv to SPX_01-01-2012_01-05-2020.csv\n",
            "Saving TVIX_01-01-2012_01-05-2020.csv to TVIX_01-01-2012_01-05-2020.csv\n",
            "Saving UX1_01-01-2012_01-05-2020.csv to UX1_01-01-2012_01-05-2020.csv\n",
            "Saving UX2_01-01-2012_01-05-2020.csv to UX2_01-01-2012_01-05-2020.csv\n",
            "Saving UX3_01-01-2012_01-05-2020.csv to UX3_01-01-2012_01-05-2020.csv\n",
            "Saving VIX_01-01-2012_01-05-2020.csv to VIX_01-01-2012_01-05-2020.csv\n",
            "Saving VXX_.csv to VXX_.csv\n",
            "Saving VXX_old_01-01-2012_01-19-2019.csv to VXX_old_01-01-2012_01-19-2019.csv\n"
          ],
          "name": "stdout"
        }
      ]
    },
    {
      "cell_type": "code",
      "metadata": {
        "id": "FB0OcXhCbUDM",
        "colab_type": "code",
        "colab": {}
      },
      "source": [
        "#just use the name to which file is saved"
      ],
      "execution_count": 0,
      "outputs": []
    },
    {
      "cell_type": "code",
      "metadata": {
        "id": "IxrINXNVbUEd",
        "colab_type": "code",
        "colab": {}
      },
      "source": [
        "vxx = pd.read_csv('VXX_old_01-01-2012_01-19-2019.csv')\n",
        "spx = pd.read_csv('SPX_01-01-2012_01-05-2020.csv')\n",
        "tvix = pd.read_csv('TVIX_01-01-2012_01-05-2020.csv')\n",
        "\"\"\"\n",
        "ux1 = pd.read_csv('UX1_01-01-2012_01-05-2020.csv')\n",
        "ux2 = pd.read_csv('UX2_01-01-2012_01-05-2020.csv')\n",
        "ux3 = pd.read_csv('UX3_01-01-2012_01-05-2020.csv')\n",
        "\"\"\""
      ],
      "execution_count": 0,
      "outputs": []
    },
    {
      "cell_type": "code",
      "metadata": {
        "id": "isPckVsIbUEk",
        "colab_type": "code",
        "colab": {}
      },
      "source": [
        "aggregation_col = ['Date and Time']"
      ],
      "execution_count": 0,
      "outputs": []
    },
    {
      "cell_type": "markdown",
      "metadata": {
        "id": "4_679AAHbUE2",
        "colab_type": "text"
      },
      "source": [
        "# VXX"
      ]
    },
    {
      "cell_type": "code",
      "metadata": {
        "id": "S2DZsF0-bUE4",
        "colab_type": "code",
        "colab": {}
      },
      "source": [
        "columns_to_study = [''Close'']\n",
        "# [ 'Open', 'High', 'Low', 'Close', 'Volume', 'Tick Count', 'Up Ticks', 'Down Ticks', 'Same Ticks',\n",
        " #                  'adjusted_close']"
      ],
      "execution_count": 0,
      "outputs": []
    },
    {
      "cell_type": "code",
      "metadata": {
        "id": "m-NHnbpeZNJL",
        "colab_type": "code",
        "outputId": "9e7ab121-6c10-441f-df79-1bc958f6d70a",
        "colab": {
          "base_uri": "https://localhost:8080/",
          "height": 586
        }
      },
      "source": [
        "#il faut ensuite determiner le prix de reference, ie le close du jour d avant"
      ],
      "execution_count": 0,
      "outputs": [
        {
          "output_type": "execute_result",
          "data": {
            "text/html": [
              "<div>\n",
              "<style scoped>\n",
              "    .dataframe tbody tr th:only-of-type {\n",
              "        vertical-align: middle;\n",
              "    }\n",
              "\n",
              "    .dataframe tbody tr th {\n",
              "        vertical-align: top;\n",
              "    }\n",
              "\n",
              "    .dataframe thead th {\n",
              "        text-align: right;\n",
              "    }\n",
              "</style>\n",
              "<table border=\"1\" class=\"dataframe\">\n",
              "  <thead>\n",
              "    <tr style=\"text-align: right;\">\n",
              "      <th></th>\n",
              "      <th>Open_vxx</th>\n",
              "      <th>High_vxx</th>\n",
              "      <th>Low_vxx</th>\n",
              "      <th>Close_vxx</th>\n",
              "      <th>Volume_vxx</th>\n",
              "      <th>Tick Count_vxx</th>\n",
              "      <th>Up Ticks_vxx</th>\n",
              "      <th>Down Ticks_vxx</th>\n",
              "      <th>Same Ticks_vxx</th>\n",
              "      <th>adjusted_close_vxx</th>\n",
              "      <th>Date and Time</th>\n",
              "    </tr>\n",
              "  </thead>\n",
              "  <tbody>\n",
              "    <tr>\n",
              "      <th>0</th>\n",
              "      <td>19.00</td>\n",
              "      <td>19.20</td>\n",
              "      <td>18.85</td>\n",
              "      <td>19.15</td>\n",
              "      <td>744</td>\n",
              "      <td>76</td>\n",
              "      <td>12</td>\n",
              "      <td>9</td>\n",
              "      <td>55</td>\n",
              "      <td>19.15</td>\n",
              "      <td>07/02/2012 13:10</td>\n",
              "    </tr>\n",
              "    <tr>\n",
              "      <th>1</th>\n",
              "      <td>19.15</td>\n",
              "      <td>19.35</td>\n",
              "      <td>19.10</td>\n",
              "      <td>19.30</td>\n",
              "      <td>176</td>\n",
              "      <td>25</td>\n",
              "      <td>5</td>\n",
              "      <td>3</td>\n",
              "      <td>17</td>\n",
              "      <td>19.30</td>\n",
              "      <td>07/02/2012 13:20</td>\n",
              "    </tr>\n",
              "    <tr>\n",
              "      <th>2</th>\n",
              "      <td>19.35</td>\n",
              "      <td>19.50</td>\n",
              "      <td>19.35</td>\n",
              "      <td>19.45</td>\n",
              "      <td>120</td>\n",
              "      <td>49</td>\n",
              "      <td>8</td>\n",
              "      <td>5</td>\n",
              "      <td>36</td>\n",
              "      <td>19.45</td>\n",
              "      <td>07/02/2012 13:30</td>\n",
              "    </tr>\n",
              "    <tr>\n",
              "      <th>3</th>\n",
              "      <td>19.45</td>\n",
              "      <td>19.45</td>\n",
              "      <td>19.40</td>\n",
              "      <td>19.45</td>\n",
              "      <td>134</td>\n",
              "      <td>41</td>\n",
              "      <td>3</td>\n",
              "      <td>3</td>\n",
              "      <td>35</td>\n",
              "      <td>19.45</td>\n",
              "      <td>07/02/2012 13:40</td>\n",
              "    </tr>\n",
              "    <tr>\n",
              "      <th>4</th>\n",
              "      <td>19.45</td>\n",
              "      <td>19.45</td>\n",
              "      <td>19.30</td>\n",
              "      <td>19.30</td>\n",
              "      <td>65</td>\n",
              "      <td>12</td>\n",
              "      <td>0</td>\n",
              "      <td>3</td>\n",
              "      <td>9</td>\n",
              "      <td>19.30</td>\n",
              "      <td>07/02/2012 13:50</td>\n",
              "    </tr>\n",
              "    <tr>\n",
              "      <th>...</th>\n",
              "      <td>...</td>\n",
              "      <td>...</td>\n",
              "      <td>...</td>\n",
              "      <td>...</td>\n",
              "      <td>...</td>\n",
              "      <td>...</td>\n",
              "      <td>...</td>\n",
              "      <td>...</td>\n",
              "      <td>...</td>\n",
              "      <td>...</td>\n",
              "      <td>...</td>\n",
              "    </tr>\n",
              "    <tr>\n",
              "      <th>203711</th>\n",
              "      <td>14.80</td>\n",
              "      <td>14.85</td>\n",
              "      <td>14.65</td>\n",
              "      <td>14.70</td>\n",
              "      <td>2818</td>\n",
              "      <td>489</td>\n",
              "      <td>42</td>\n",
              "      <td>46</td>\n",
              "      <td>401</td>\n",
              "      <td>14.70</td>\n",
              "      <td>12/31/2019 21:10</td>\n",
              "    </tr>\n",
              "    <tr>\n",
              "      <th>203712</th>\n",
              "      <td>14.71</td>\n",
              "      <td>14.75</td>\n",
              "      <td>14.60</td>\n",
              "      <td>14.63</td>\n",
              "      <td>2718</td>\n",
              "      <td>472</td>\n",
              "      <td>44</td>\n",
              "      <td>48</td>\n",
              "      <td>380</td>\n",
              "      <td>14.63</td>\n",
              "      <td>12/31/2019 21:20</td>\n",
              "    </tr>\n",
              "    <tr>\n",
              "      <th>203713</th>\n",
              "      <td>14.65</td>\n",
              "      <td>14.65</td>\n",
              "      <td>14.60</td>\n",
              "      <td>14.61</td>\n",
              "      <td>476</td>\n",
              "      <td>81</td>\n",
              "      <td>11</td>\n",
              "      <td>12</td>\n",
              "      <td>58</td>\n",
              "      <td>14.61</td>\n",
              "      <td>12/31/2019 21:40</td>\n",
              "    </tr>\n",
              "    <tr>\n",
              "      <th>203714</th>\n",
              "      <td>14.60</td>\n",
              "      <td>14.65</td>\n",
              "      <td>14.60</td>\n",
              "      <td>14.61</td>\n",
              "      <td>221</td>\n",
              "      <td>37</td>\n",
              "      <td>5</td>\n",
              "      <td>6</td>\n",
              "      <td>26</td>\n",
              "      <td>14.61</td>\n",
              "      <td>12/31/2019 21:50</td>\n",
              "    </tr>\n",
              "    <tr>\n",
              "      <th>203715</th>\n",
              "      <td>14.60</td>\n",
              "      <td>14.60</td>\n",
              "      <td>14.55</td>\n",
              "      <td>14.55</td>\n",
              "      <td>399</td>\n",
              "      <td>99</td>\n",
              "      <td>8</td>\n",
              "      <td>12</td>\n",
              "      <td>79</td>\n",
              "      <td>14.55</td>\n",
              "      <td>12/31/2019 22:00</td>\n",
              "    </tr>\n",
              "  </tbody>\n",
              "</table>\n",
              "<p>203716 rows × 11 columns</p>\n",
              "</div>"
            ],
            "text/plain": [
              "        Open_vxx  High_vxx  ...  adjusted_close_vxx     Date and Time\n",
              "0          19.00     19.20  ...               19.15  07/02/2012 13:10\n",
              "1          19.15     19.35  ...               19.30  07/02/2012 13:20\n",
              "2          19.35     19.50  ...               19.45  07/02/2012 13:30\n",
              "3          19.45     19.45  ...               19.45  07/02/2012 13:40\n",
              "4          19.45     19.45  ...               19.30  07/02/2012 13:50\n",
              "...          ...       ...  ...                 ...               ...\n",
              "203711     14.80     14.85  ...               14.70  12/31/2019 21:10\n",
              "203712     14.71     14.75  ...               14.63  12/31/2019 21:20\n",
              "203713     14.65     14.65  ...               14.61  12/31/2019 21:40\n",
              "203714     14.60     14.65  ...               14.61  12/31/2019 21:50\n",
              "203715     14.60     14.60  ...               14.55  12/31/2019 22:00\n",
              "\n",
              "[203716 rows x 11 columns]"
            ]
          },
          "metadata": {
            "tags": []
          },
          "execution_count": 10
        }
      ]
    },
    {
      "cell_type": "code",
      "metadata": {
        "id": "Yz1vnft0bUNZ",
        "colab_type": "code",
        "colab": {}
      },
      "source": [
        "vxx['adjusted_close'] = vxx['Close']\n",
        "                                                           \n",
        "vxx['adjusted_close'] = vxx['adjusted_close'].fillna(method = 'ffill')"
      ],
      "execution_count": 0,
      "outputs": []
    },
    {
      "cell_type": "code",
      "metadata": {
        "id": "MjR2q8d1bUNu",
        "colab_type": "code",
        "outputId": "11110385-edc4-4019-a6bf-fa4abb41ba11",
        "colab": {
          "base_uri": "https://localhost:8080/",
          "height": 168
        }
      },
      "source": [
        "vxx['adjusted_close'].describe()"
      ],
      "execution_count": 0,
      "outputs": [
        {
          "output_type": "execute_result",
          "data": {
            "text/plain": [
              "count    203716.000000\n",
              "mean         15.803210\n",
              "std           3.187328\n",
              "min           9.600000\n",
              "25%          13.700000\n",
              "50%          15.250000\n",
              "75%          17.280000\n",
              "max          33.200000\n",
              "Name: adjusted_close, dtype: float64"
            ]
          },
          "metadata": {
            "tags": []
          },
          "execution_count": 8
        }
      ]
    },
    {
      "cell_type": "code",
      "metadata": {
        "scrolled": true,
        "id": "Yf0O8TwCbUOB",
        "colab_type": "code",
        "outputId": "a599ab39-f700-4e6b-ae0b-05df8e6cfcf3",
        "colab": {
          "base_uri": "https://localhost:8080/",
          "height": 84
        }
      },
      "source": [
        "vxx.columns"
      ],
      "execution_count": 0,
      "outputs": [
        {
          "output_type": "execute_result",
          "data": {
            "text/plain": [
              "Index(['Open_vxx', 'High_vxx', 'Low_vxx', 'Close_vxx', 'Volume_vxx',\n",
              "       'Tick Count_vxx', 'Up Ticks_vxx', 'Down Ticks_vxx', 'Same Ticks_vxx',\n",
              "       'adjusted_close_vxx', 'Date and Time'],\n",
              "      dtype='object')"
            ]
          },
          "metadata": {
            "tags": []
          },
          "execution_count": 11
        }
      ]
    },
    {
      "cell_type": "code",
      "metadata": {
        "id": "NRffPkNRbUOK",
        "colab_type": "code",
        "outputId": "8c20f5b6-fd7f-4a48-bc81-8336f1beee6d",
        "colab": {
          "base_uri": "https://localhost:8080/",
          "height": 320
        }
      },
      "source": [
        "vxx = vxx[columns_to_study + aggregation_col]\n",
        "vxx.columns = [f'{col}_vxx' if col in columns_to_study else col for col in vxx.columns]"
      ],
      "execution_count": 0,
      "outputs": [
        {
          "output_type": "error",
          "ename": "KeyError",
          "evalue": "ignored",
          "traceback": [
            "\u001b[0;31m---------------------------------------------------------------------------\u001b[0m",
            "\u001b[0;31mKeyError\u001b[0m                                  Traceback (most recent call last)",
            "\u001b[0;32m<ipython-input-12-a78585ecab4f>\u001b[0m in \u001b[0;36m<module>\u001b[0;34m()\u001b[0m\n\u001b[0;32m----> 1\u001b[0;31m \u001b[0mvxx\u001b[0m \u001b[0;34m=\u001b[0m \u001b[0mvxx\u001b[0m\u001b[0;34m[\u001b[0m\u001b[0mcolumns_to_study\u001b[0m \u001b[0;34m+\u001b[0m \u001b[0maggregation_col\u001b[0m\u001b[0;34m]\u001b[0m\u001b[0;34m\u001b[0m\u001b[0;34m\u001b[0m\u001b[0m\n\u001b[0m\u001b[1;32m      2\u001b[0m \u001b[0mvxx\u001b[0m\u001b[0;34m.\u001b[0m\u001b[0mcolumns\u001b[0m \u001b[0;34m=\u001b[0m \u001b[0;34m[\u001b[0m\u001b[0;34mf'{col}_vxx'\u001b[0m \u001b[0;32mif\u001b[0m \u001b[0mcol\u001b[0m \u001b[0;32min\u001b[0m \u001b[0mcolumns_to_study\u001b[0m \u001b[0;32melse\u001b[0m \u001b[0mcol\u001b[0m \u001b[0;32mfor\u001b[0m \u001b[0mcol\u001b[0m \u001b[0;32min\u001b[0m \u001b[0mvxx\u001b[0m\u001b[0;34m.\u001b[0m\u001b[0mcolumns\u001b[0m\u001b[0;34m]\u001b[0m\u001b[0;34m\u001b[0m\u001b[0;34m\u001b[0m\u001b[0m\n",
            "\u001b[0;32m/usr/local/lib/python3.6/dist-packages/pandas/core/frame.py\u001b[0m in \u001b[0;36m__getitem__\u001b[0;34m(self, key)\u001b[0m\n\u001b[1;32m   2999\u001b[0m             \u001b[0;32mif\u001b[0m \u001b[0mis_iterator\u001b[0m\u001b[0;34m(\u001b[0m\u001b[0mkey\u001b[0m\u001b[0;34m)\u001b[0m\u001b[0;34m:\u001b[0m\u001b[0;34m\u001b[0m\u001b[0;34m\u001b[0m\u001b[0m\n\u001b[1;32m   3000\u001b[0m                 \u001b[0mkey\u001b[0m \u001b[0;34m=\u001b[0m \u001b[0mlist\u001b[0m\u001b[0;34m(\u001b[0m\u001b[0mkey\u001b[0m\u001b[0;34m)\u001b[0m\u001b[0;34m\u001b[0m\u001b[0;34m\u001b[0m\u001b[0m\n\u001b[0;32m-> 3001\u001b[0;31m             \u001b[0mindexer\u001b[0m \u001b[0;34m=\u001b[0m \u001b[0mself\u001b[0m\u001b[0;34m.\u001b[0m\u001b[0mloc\u001b[0m\u001b[0;34m.\u001b[0m\u001b[0m_convert_to_indexer\u001b[0m\u001b[0;34m(\u001b[0m\u001b[0mkey\u001b[0m\u001b[0;34m,\u001b[0m \u001b[0maxis\u001b[0m\u001b[0;34m=\u001b[0m\u001b[0;36m1\u001b[0m\u001b[0;34m,\u001b[0m \u001b[0mraise_missing\u001b[0m\u001b[0;34m=\u001b[0m\u001b[0;32mTrue\u001b[0m\u001b[0;34m)\u001b[0m\u001b[0;34m\u001b[0m\u001b[0;34m\u001b[0m\u001b[0m\n\u001b[0m\u001b[1;32m   3002\u001b[0m \u001b[0;34m\u001b[0m\u001b[0m\n\u001b[1;32m   3003\u001b[0m         \u001b[0;31m# take() does not accept boolean indexers\u001b[0m\u001b[0;34m\u001b[0m\u001b[0;34m\u001b[0m\u001b[0;34m\u001b[0m\u001b[0m\n",
            "\u001b[0;32m/usr/local/lib/python3.6/dist-packages/pandas/core/indexing.py\u001b[0m in \u001b[0;36m_convert_to_indexer\u001b[0;34m(self, obj, axis, is_setter, raise_missing)\u001b[0m\n\u001b[1;32m   1283\u001b[0m                 \u001b[0;31m# When setting, missing keys are not allowed, even with .loc:\u001b[0m\u001b[0;34m\u001b[0m\u001b[0;34m\u001b[0m\u001b[0;34m\u001b[0m\u001b[0m\n\u001b[1;32m   1284\u001b[0m                 \u001b[0mkwargs\u001b[0m \u001b[0;34m=\u001b[0m \u001b[0;34m{\u001b[0m\u001b[0;34m\"raise_missing\"\u001b[0m\u001b[0;34m:\u001b[0m \u001b[0;32mTrue\u001b[0m \u001b[0;32mif\u001b[0m \u001b[0mis_setter\u001b[0m \u001b[0;32melse\u001b[0m \u001b[0mraise_missing\u001b[0m\u001b[0;34m}\u001b[0m\u001b[0;34m\u001b[0m\u001b[0;34m\u001b[0m\u001b[0m\n\u001b[0;32m-> 1285\u001b[0;31m                 \u001b[0;32mreturn\u001b[0m \u001b[0mself\u001b[0m\u001b[0;34m.\u001b[0m\u001b[0m_get_listlike_indexer\u001b[0m\u001b[0;34m(\u001b[0m\u001b[0mobj\u001b[0m\u001b[0;34m,\u001b[0m \u001b[0maxis\u001b[0m\u001b[0;34m,\u001b[0m \u001b[0;34m**\u001b[0m\u001b[0mkwargs\u001b[0m\u001b[0;34m)\u001b[0m\u001b[0;34m[\u001b[0m\u001b[0;36m1\u001b[0m\u001b[0;34m]\u001b[0m\u001b[0;34m\u001b[0m\u001b[0;34m\u001b[0m\u001b[0m\n\u001b[0m\u001b[1;32m   1286\u001b[0m         \u001b[0;32melse\u001b[0m\u001b[0;34m:\u001b[0m\u001b[0;34m\u001b[0m\u001b[0;34m\u001b[0m\u001b[0m\n\u001b[1;32m   1287\u001b[0m             \u001b[0;32mtry\u001b[0m\u001b[0;34m:\u001b[0m\u001b[0;34m\u001b[0m\u001b[0;34m\u001b[0m\u001b[0m\n",
            "\u001b[0;32m/usr/local/lib/python3.6/dist-packages/pandas/core/indexing.py\u001b[0m in \u001b[0;36m_get_listlike_indexer\u001b[0;34m(self, key, axis, raise_missing)\u001b[0m\n\u001b[1;32m   1090\u001b[0m \u001b[0;34m\u001b[0m\u001b[0m\n\u001b[1;32m   1091\u001b[0m         self._validate_read_indexer(\n\u001b[0;32m-> 1092\u001b[0;31m             \u001b[0mkeyarr\u001b[0m\u001b[0;34m,\u001b[0m \u001b[0mindexer\u001b[0m\u001b[0;34m,\u001b[0m \u001b[0mo\u001b[0m\u001b[0;34m.\u001b[0m\u001b[0m_get_axis_number\u001b[0m\u001b[0;34m(\u001b[0m\u001b[0maxis\u001b[0m\u001b[0;34m)\u001b[0m\u001b[0;34m,\u001b[0m \u001b[0mraise_missing\u001b[0m\u001b[0;34m=\u001b[0m\u001b[0mraise_missing\u001b[0m\u001b[0;34m\u001b[0m\u001b[0;34m\u001b[0m\u001b[0m\n\u001b[0m\u001b[1;32m   1093\u001b[0m         )\n\u001b[1;32m   1094\u001b[0m         \u001b[0;32mreturn\u001b[0m \u001b[0mkeyarr\u001b[0m\u001b[0;34m,\u001b[0m \u001b[0mindexer\u001b[0m\u001b[0;34m\u001b[0m\u001b[0;34m\u001b[0m\u001b[0m\n",
            "\u001b[0;32m/usr/local/lib/python3.6/dist-packages/pandas/core/indexing.py\u001b[0m in \u001b[0;36m_validate_read_indexer\u001b[0;34m(self, key, indexer, axis, raise_missing)\u001b[0m\n\u001b[1;32m   1183\u001b[0m             \u001b[0;32mif\u001b[0m \u001b[0;32mnot\u001b[0m \u001b[0;34m(\u001b[0m\u001b[0mself\u001b[0m\u001b[0;34m.\u001b[0m\u001b[0mname\u001b[0m \u001b[0;34m==\u001b[0m \u001b[0;34m\"loc\"\u001b[0m \u001b[0;32mand\u001b[0m \u001b[0;32mnot\u001b[0m \u001b[0mraise_missing\u001b[0m\u001b[0;34m)\u001b[0m\u001b[0;34m:\u001b[0m\u001b[0;34m\u001b[0m\u001b[0;34m\u001b[0m\u001b[0m\n\u001b[1;32m   1184\u001b[0m                 \u001b[0mnot_found\u001b[0m \u001b[0;34m=\u001b[0m \u001b[0mlist\u001b[0m\u001b[0;34m(\u001b[0m\u001b[0mset\u001b[0m\u001b[0;34m(\u001b[0m\u001b[0mkey\u001b[0m\u001b[0;34m)\u001b[0m \u001b[0;34m-\u001b[0m \u001b[0mset\u001b[0m\u001b[0;34m(\u001b[0m\u001b[0max\u001b[0m\u001b[0;34m)\u001b[0m\u001b[0;34m)\u001b[0m\u001b[0;34m\u001b[0m\u001b[0;34m\u001b[0m\u001b[0m\n\u001b[0;32m-> 1185\u001b[0;31m                 \u001b[0;32mraise\u001b[0m \u001b[0mKeyError\u001b[0m\u001b[0;34m(\u001b[0m\u001b[0;34m\"{} not in index\"\u001b[0m\u001b[0;34m.\u001b[0m\u001b[0mformat\u001b[0m\u001b[0;34m(\u001b[0m\u001b[0mnot_found\u001b[0m\u001b[0;34m)\u001b[0m\u001b[0;34m)\u001b[0m\u001b[0;34m\u001b[0m\u001b[0;34m\u001b[0m\u001b[0m\n\u001b[0m\u001b[1;32m   1186\u001b[0m \u001b[0;34m\u001b[0m\u001b[0m\n\u001b[1;32m   1187\u001b[0m             \u001b[0;31m# we skip the warning on Categorical/Interval\u001b[0m\u001b[0;34m\u001b[0m\u001b[0;34m\u001b[0m\u001b[0;34m\u001b[0m\u001b[0m\n",
            "\u001b[0;31mKeyError\u001b[0m: \"['Open', 'Volume', 'adjusted_close', 'High', 'Tick Count', 'Low', 'Close', 'Same Ticks', 'Up Ticks', 'Down Ticks'] not in index\""
          ]
        }
      ]
    },
    {
      "cell_type": "code",
      "metadata": {
        "id": "0DpjQV0kbUVA",
        "colab_type": "code",
        "colab": {}
      },
      "source": [
        "def add_volats(df, name):\n",
        "    df[f'volat_{name}_c_to_c_1d'] = df[f'Close_{name}'].rolling(24).std()\n",
        "    df[f'volat_{name}_c_to_c_5d'] = df[f'Close_{name}'].rolling(24 * 5).std()\n",
        "    df[f'volat_{name}_c_to_c_1m'] = df[f'Close_{name}'].rolling(24 * 5 * 5).std()"
      ],
      "execution_count": 0,
      "outputs": []
    },
    {
      "cell_type": "code",
      "metadata": {
        "id": "jFOyq5gobUVJ",
        "colab_type": "code",
        "colab": {}
      },
      "source": [
        "def add_ratio_ma(df, name, param = 'Close'):\n",
        "    df[f'ratio_ma_{param}_{name}_10min_1d'] = df[f'{param}_{name}']/df[f'{param}_{name}'].rolling(24).mean()\n",
        "    df[f'ratio_ma_{param}_{name}_1d_5d'] = df[f'{param}_{name}'].rolling(24).mean()/df[f'{param}_{name}'].rolling(24 * 5).mean()\n",
        "    df[f'ratio_ma_{param}_{name}_1d_20d'] = df[f'{param}_{name}'].rolling(24).mean()/df[f'{param}_{name}'].rolling(24 * 5 * 5).mean()\n"
      ],
      "execution_count": 0,
      "outputs": []
    },
    {
      "cell_type": "code",
      "metadata": {
        "id": "27YYsgMgbUVR",
        "colab_type": "code",
        "colab": {}
      },
      "source": [
        "def add_return(df, name):\n",
        "    df[f'return_{name}_c_to_c_1d'] = df[f'Close_{name}'] - df[f'Close_{name}'].shift(9*6)\n",
        "    df[f'return_{name}_c_to_c_1w'] = df[f'Close_{name}'] - df[f'Close_{name}'].shift(9*6*5)\n",
        "    df[f'return_{name}_c_to_c_1m'] = df[f'Close_{name}'] - df[f'Close_{name}'].shift(9*6*5*4)\n"
      ],
      "execution_count": 0,
      "outputs": []
    },
    {
      "cell_type": "code",
      "metadata": {
        "id": "wFpSTW--bUVZ",
        "colab_type": "code",
        "colab": {}
      },
      "source": [
        "add_volats(vxx, 'vxx')"
      ],
      "execution_count": 0,
      "outputs": []
    },
    {
      "cell_type": "code",
      "metadata": {
        "id": "h7Mc1_OCbUVg",
        "colab_type": "code",
        "colab": {}
      },
      "source": [
        "add_return(vxx, 'vxx')"
      ],
      "execution_count": 0,
      "outputs": []
    },
    {
      "cell_type": "code",
      "metadata": {
        "id": "5XGmG1F5bUa-",
        "colab_type": "code",
        "outputId": "6167d0bb-e52a-4c19-d1da-cfff2c1630e8",
        "colab": {
          "base_uri": "https://localhost:8080/",
          "height": 118
        }
      },
      "source": [
        "vxx.columns"
      ],
      "execution_count": 0,
      "outputs": [
        {
          "output_type": "execute_result",
          "data": {
            "text/plain": [
              "Index(['Open_vxx', 'High_vxx', 'Low_vxx', 'Close_vxx', 'Volume_vxx',\n",
              "       'Tick Count_vxx', 'Up Ticks_vxx', 'Down Ticks_vxx', 'Same Ticks_vxx',\n",
              "       'adjusted_close_vxx', 'Date and Time', 'volat_vxx_c_to_c_1d',\n",
              "       'volat_vxx_c_to_c_5d', 'volat_vxx_c_to_c_1m', 'return_vxx_c_to_c_1d',\n",
              "       'return_vxx_c_to_c_1w', 'return_vxx_c_to_c_1m'],\n",
              "      dtype='object')"
            ]
          },
          "metadata": {
            "tags": []
          },
          "execution_count": 16
        }
      ]
    },
    {
      "cell_type": "code",
      "metadata": {
        "id": "lKTdcJ5ybUbH",
        "colab_type": "code",
        "colab": {}
      },
      "source": [
        "add_ratio_ma(vxx, 'vxx')\n",
        "add_ratio_ma(vxx, 'vxx', 'Volume')\n",
        "add_ratio_ma(vxx, 'vxx', 'adjusted_close')"
      ],
      "execution_count": 0,
      "outputs": []
    },
    {
      "cell_type": "markdown",
      "metadata": {
        "id": "tiTVaDItbUbN",
        "colab_type": "text"
      },
      "source": [
        "# SPX"
      ]
    },
    {
      "cell_type": "code",
      "metadata": {
        "id": "4AmAzfxSbUbQ",
        "colab_type": "code",
        "colab": {}
      },
      "source": [
        "columns_to_study = [ 'Open', 'High', 'Low', 'Close', 'Tick Count', 'Up Ticks', 'Down Ticks', 'Same Ticks', 'adjusted_close']"
      ],
      "execution_count": 0,
      "outputs": []
    },
    {
      "cell_type": "code",
      "metadata": {
        "id": "0x24DcSIbUbZ",
        "colab_type": "code",
        "colab": {}
      },
      "source": [
        "spx['adjusted_close'] = spx['Close']\n",
        "spx['adjusted_close'] = spx['adjusted_close'].fillna(method = 'ffill')"
      ],
      "execution_count": 0,
      "outputs": []
    },
    {
      "cell_type": "code",
      "metadata": {
        "id": "CXOcZxKYbUgD",
        "colab_type": "code",
        "outputId": "f92e447b-8489-49d9-d78e-f6c91b95cde2",
        "colab": {
          "base_uri": "https://localhost:8080/",
          "height": 84
        }
      },
      "source": [
        "spx.columns"
      ],
      "execution_count": 0,
      "outputs": [
        {
          "output_type": "execute_result",
          "data": {
            "text/plain": [
              "Index(['Unnamed: 0', 'Symbol', 'Date', 'Time', 'Open', 'High', 'Low', 'Close',\n",
              "       'Tick Count', 'Up Ticks', 'Down Ticks', 'Same Ticks', 'Date and Time',\n",
              "       'adjusted_close'],\n",
              "      dtype='object')"
            ]
          },
          "metadata": {
            "tags": []
          },
          "execution_count": 17
        }
      ]
    },
    {
      "cell_type": "code",
      "metadata": {
        "id": "mrSNvPINbUgL",
        "colab_type": "code",
        "colab": {}
      },
      "source": [
        "spx = spx[columns_to_study + aggregation_col]\n",
        "spx.columns = [f'{col}_spx' if col in columns_to_study else col for col in spx.columns]"
      ],
      "execution_count": 0,
      "outputs": []
    },
    {
      "cell_type": "code",
      "metadata": {
        "id": "zGOflGb6bUgZ",
        "colab_type": "code",
        "colab": {}
      },
      "source": [
        "add_volats(spx, 'spx')\n",
        "add_ratio_ma(spx, 'spx')\n",
        "add_ratio_ma(spx, 'spx', 'adjusted_close')\n",
        "add_return(spx, 'spx')"
      ],
      "execution_count": 0,
      "outputs": []
    },
    {
      "cell_type": "code",
      "metadata": {
        "id": "ejVigCg5Z43q",
        "colab_type": "code",
        "outputId": "d34cf70b-b669-4f6d-8d18-439b32c387e3",
        "colab": {
          "base_uri": "https://localhost:8080/",
          "height": 606
        }
      },
      "source": [
        ""
      ],
      "execution_count": 0,
      "outputs": [
        {
          "output_type": "execute_result",
          "data": {
            "text/html": [
              "<div>\n",
              "<style scoped>\n",
              "    .dataframe tbody tr th:only-of-type {\n",
              "        vertical-align: middle;\n",
              "    }\n",
              "\n",
              "    .dataframe tbody tr th {\n",
              "        vertical-align: top;\n",
              "    }\n",
              "\n",
              "    .dataframe thead th {\n",
              "        text-align: right;\n",
              "    }\n",
              "</style>\n",
              "<table border=\"1\" class=\"dataframe\">\n",
              "  <thead>\n",
              "    <tr style=\"text-align: right;\">\n",
              "      <th></th>\n",
              "      <th>Open_spx</th>\n",
              "      <th>High_spx</th>\n",
              "      <th>Low_spx</th>\n",
              "      <th>Close_spx</th>\n",
              "      <th>Tick Count_spx</th>\n",
              "      <th>Up Ticks_spx</th>\n",
              "      <th>Down Ticks_spx</th>\n",
              "      <th>Same Ticks_spx</th>\n",
              "      <th>adjusted_close_spx</th>\n",
              "      <th>Date and Time</th>\n",
              "      <th>volat_spx_c_to_c_1d</th>\n",
              "      <th>volat_spx_c_to_c_5d</th>\n",
              "      <th>volat_spx_c_to_c_1m</th>\n",
              "      <th>ratio_ma_Close_spx_10min_1d</th>\n",
              "      <th>ratio_ma_Close_spx_1d_5d</th>\n",
              "      <th>ratio_ma_Close_spx_1d_20d</th>\n",
              "      <th>ratio_ma_adjusted_close_spx_10min_1d</th>\n",
              "      <th>ratio_ma_adjusted_close_spx_1d_5d</th>\n",
              "      <th>ratio_ma_adjusted_close_spx_1d_20d</th>\n",
              "      <th>return_spx_c_to_c_1d</th>\n",
              "      <th>return_spx_c_to_c_1w</th>\n",
              "      <th>return_spx_c_to_c_1m</th>\n",
              "    </tr>\n",
              "  </thead>\n",
              "  <tbody>\n",
              "    <tr>\n",
              "      <th>0</th>\n",
              "      <td>1258.86</td>\n",
              "      <td>1281.39</td>\n",
              "      <td>1258.86</td>\n",
              "      <td>1281.34</td>\n",
              "      <td>120</td>\n",
              "      <td>86</td>\n",
              "      <td>28</td>\n",
              "      <td>6</td>\n",
              "      <td>1281.34</td>\n",
              "      <td>01/03/2012 14:40</td>\n",
              "      <td>NaN</td>\n",
              "      <td>NaN</td>\n",
              "      <td>NaN</td>\n",
              "      <td>NaN</td>\n",
              "      <td>NaN</td>\n",
              "      <td>NaN</td>\n",
              "      <td>NaN</td>\n",
              "      <td>NaN</td>\n",
              "      <td>NaN</td>\n",
              "      <td>NaN</td>\n",
              "      <td>NaN</td>\n",
              "      <td>NaN</td>\n",
              "    </tr>\n",
              "    <tr>\n",
              "      <th>1</th>\n",
              "      <td>1281.27</td>\n",
              "      <td>1281.92</td>\n",
              "      <td>1279.32</td>\n",
              "      <td>1279.90</td>\n",
              "      <td>120</td>\n",
              "      <td>39</td>\n",
              "      <td>71</td>\n",
              "      <td>10</td>\n",
              "      <td>1279.90</td>\n",
              "      <td>01/03/2012 14:50</td>\n",
              "      <td>NaN</td>\n",
              "      <td>NaN</td>\n",
              "      <td>NaN</td>\n",
              "      <td>NaN</td>\n",
              "      <td>NaN</td>\n",
              "      <td>NaN</td>\n",
              "      <td>NaN</td>\n",
              "      <td>NaN</td>\n",
              "      <td>NaN</td>\n",
              "      <td>NaN</td>\n",
              "      <td>NaN</td>\n",
              "      <td>NaN</td>\n",
              "    </tr>\n",
              "    <tr>\n",
              "      <th>2</th>\n",
              "      <td>1279.94</td>\n",
              "      <td>1280.85</td>\n",
              "      <td>1279.79</td>\n",
              "      <td>1280.13</td>\n",
              "      <td>120</td>\n",
              "      <td>54</td>\n",
              "      <td>57</td>\n",
              "      <td>9</td>\n",
              "      <td>1280.13</td>\n",
              "      <td>01/03/2012 15:00</td>\n",
              "      <td>NaN</td>\n",
              "      <td>NaN</td>\n",
              "      <td>NaN</td>\n",
              "      <td>NaN</td>\n",
              "      <td>NaN</td>\n",
              "      <td>NaN</td>\n",
              "      <td>NaN</td>\n",
              "      <td>NaN</td>\n",
              "      <td>NaN</td>\n",
              "      <td>NaN</td>\n",
              "      <td>NaN</td>\n",
              "      <td>NaN</td>\n",
              "    </tr>\n",
              "    <tr>\n",
              "      <th>3</th>\n",
              "      <td>1280.11</td>\n",
              "      <td>1284.09</td>\n",
              "      <td>1279.43</td>\n",
              "      <td>1283.53</td>\n",
              "      <td>120</td>\n",
              "      <td>58</td>\n",
              "      <td>55</td>\n",
              "      <td>7</td>\n",
              "      <td>1283.53</td>\n",
              "      <td>01/03/2012 15:10</td>\n",
              "      <td>NaN</td>\n",
              "      <td>NaN</td>\n",
              "      <td>NaN</td>\n",
              "      <td>NaN</td>\n",
              "      <td>NaN</td>\n",
              "      <td>NaN</td>\n",
              "      <td>NaN</td>\n",
              "      <td>NaN</td>\n",
              "      <td>NaN</td>\n",
              "      <td>NaN</td>\n",
              "      <td>NaN</td>\n",
              "      <td>NaN</td>\n",
              "    </tr>\n",
              "    <tr>\n",
              "      <th>4</th>\n",
              "      <td>1283.65</td>\n",
              "      <td>1284.16</td>\n",
              "      <td>1283.28</td>\n",
              "      <td>1283.91</td>\n",
              "      <td>120</td>\n",
              "      <td>40</td>\n",
              "      <td>63</td>\n",
              "      <td>17</td>\n",
              "      <td>1283.91</td>\n",
              "      <td>01/03/2012 15:20</td>\n",
              "      <td>NaN</td>\n",
              "      <td>NaN</td>\n",
              "      <td>NaN</td>\n",
              "      <td>NaN</td>\n",
              "      <td>NaN</td>\n",
              "      <td>NaN</td>\n",
              "      <td>NaN</td>\n",
              "      <td>NaN</td>\n",
              "      <td>NaN</td>\n",
              "      <td>NaN</td>\n",
              "      <td>NaN</td>\n",
              "      <td>NaN</td>\n",
              "    </tr>\n",
              "    <tr>\n",
              "      <th>...</th>\n",
              "      <td>...</td>\n",
              "      <td>...</td>\n",
              "      <td>...</td>\n",
              "      <td>...</td>\n",
              "      <td>...</td>\n",
              "      <td>...</td>\n",
              "      <td>...</td>\n",
              "      <td>...</td>\n",
              "      <td>...</td>\n",
              "      <td>...</td>\n",
              "      <td>...</td>\n",
              "      <td>...</td>\n",
              "      <td>...</td>\n",
              "      <td>...</td>\n",
              "      <td>...</td>\n",
              "      <td>...</td>\n",
              "      <td>...</td>\n",
              "      <td>...</td>\n",
              "      <td>...</td>\n",
              "      <td>...</td>\n",
              "      <td>...</td>\n",
              "      <td>...</td>\n",
              "    </tr>\n",
              "    <tr>\n",
              "      <th>84085</th>\n",
              "      <td>3224.92</td>\n",
              "      <td>3227.06</td>\n",
              "      <td>3224.92</td>\n",
              "      <td>3226.01</td>\n",
              "      <td>600</td>\n",
              "      <td>247</td>\n",
              "      <td>219</td>\n",
              "      <td>134</td>\n",
              "      <td>3226.01</td>\n",
              "      <td>12/31/2019 20:50</td>\n",
              "      <td>2.836591</td>\n",
              "      <td>10.084568</td>\n",
              "      <td>32.653612</td>\n",
              "      <td>1.002101</td>\n",
              "      <td>0.997139</td>\n",
              "      <td>1.006591</td>\n",
              "      <td>1.002101</td>\n",
              "      <td>0.997139</td>\n",
              "      <td>1.006591</td>\n",
              "      <td>0.00</td>\n",
              "      <td>20.64</td>\n",
              "      <td>125.60</td>\n",
              "    </tr>\n",
              "    <tr>\n",
              "      <th>84086</th>\n",
              "      <td>3225.98</td>\n",
              "      <td>3231.72</td>\n",
              "      <td>3224.86</td>\n",
              "      <td>3230.56</td>\n",
              "      <td>600</td>\n",
              "      <td>312</td>\n",
              "      <td>229</td>\n",
              "      <td>59</td>\n",
              "      <td>3230.56</td>\n",
              "      <td>12/31/2019 21:00</td>\n",
              "      <td>3.588939</td>\n",
              "      <td>10.057165</td>\n",
              "      <td>32.597113</td>\n",
              "      <td>1.003330</td>\n",
              "      <td>0.997339</td>\n",
              "      <td>1.006729</td>\n",
              "      <td>1.003330</td>\n",
              "      <td>0.997339</td>\n",
              "      <td>1.006729</td>\n",
              "      <td>2.69</td>\n",
              "      <td>25.19</td>\n",
              "      <td>129.53</td>\n",
              "    </tr>\n",
              "    <tr>\n",
              "      <th>84087</th>\n",
              "      <td>3229.70</td>\n",
              "      <td>3230.78</td>\n",
              "      <td>3229.70</td>\n",
              "      <td>3230.78</td>\n",
              "      <td>600</td>\n",
              "      <td>53</td>\n",
              "      <td>2</td>\n",
              "      <td>545</td>\n",
              "      <td>3230.78</td>\n",
              "      <td>12/31/2019 21:10</td>\n",
              "      <td>4.135934</td>\n",
              "      <td>10.008364</td>\n",
              "      <td>32.534098</td>\n",
              "      <td>1.003208</td>\n",
              "      <td>0.997550</td>\n",
              "      <td>1.006872</td>\n",
              "      <td>1.003208</td>\n",
              "      <td>0.997550</td>\n",
              "      <td>1.006872</td>\n",
              "      <td>6.71</td>\n",
              "      <td>12.14</td>\n",
              "      <td>127.76</td>\n",
              "    </tr>\n",
              "    <tr>\n",
              "      <th>84088</th>\n",
              "      <td>3230.78</td>\n",
              "      <td>3230.78</td>\n",
              "      <td>3230.78</td>\n",
              "      <td>3230.78</td>\n",
              "      <td>600</td>\n",
              "      <td>0</td>\n",
              "      <td>0</td>\n",
              "      <td>600</td>\n",
              "      <td>3230.78</td>\n",
              "      <td>12/31/2019 21:20</td>\n",
              "      <td>4.467939</td>\n",
              "      <td>9.941428</td>\n",
              "      <td>32.465816</td>\n",
              "      <td>1.003002</td>\n",
              "      <td>0.997781</td>\n",
              "      <td>1.007029</td>\n",
              "      <td>1.003002</td>\n",
              "      <td>0.997781</td>\n",
              "      <td>1.007029</td>\n",
              "      <td>7.11</td>\n",
              "      <td>12.99</td>\n",
              "      <td>129.45</td>\n",
              "    </tr>\n",
              "    <tr>\n",
              "      <th>84089</th>\n",
              "      <td>3230.78</td>\n",
              "      <td>3230.78</td>\n",
              "      <td>3230.78</td>\n",
              "      <td>3230.78</td>\n",
              "      <td>2</td>\n",
              "      <td>0</td>\n",
              "      <td>0</td>\n",
              "      <td>2</td>\n",
              "      <td>3230.78</td>\n",
              "      <td>12/31/2019 21:25</td>\n",
              "      <td>4.777488</td>\n",
              "      <td>9.870486</td>\n",
              "      <td>32.404289</td>\n",
              "      <td>1.002820</td>\n",
              "      <td>0.997990</td>\n",
              "      <td>1.007165</td>\n",
              "      <td>1.002820</td>\n",
              "      <td>0.997990</td>\n",
              "      <td>1.007165</td>\n",
              "      <td>7.70</td>\n",
              "      <td>13.12</td>\n",
              "      <td>129.99</td>\n",
              "    </tr>\n",
              "  </tbody>\n",
              "</table>\n",
              "<p>84090 rows × 22 columns</p>\n",
              "</div>"
            ],
            "text/plain": [
              "       Open_spx  High_spx  ...  return_spx_c_to_c_1w  return_spx_c_to_c_1m\n",
              "0       1258.86   1281.39  ...                   NaN                   NaN\n",
              "1       1281.27   1281.92  ...                   NaN                   NaN\n",
              "2       1279.94   1280.85  ...                   NaN                   NaN\n",
              "3       1280.11   1284.09  ...                   NaN                   NaN\n",
              "4       1283.65   1284.16  ...                   NaN                   NaN\n",
              "...         ...       ...  ...                   ...                   ...\n",
              "84085   3224.92   3227.06  ...                 20.64                125.60\n",
              "84086   3225.98   3231.72  ...                 25.19                129.53\n",
              "84087   3229.70   3230.78  ...                 12.14                127.76\n",
              "84088   3230.78   3230.78  ...                 12.99                129.45\n",
              "84089   3230.78   3230.78  ...                 13.12                129.99\n",
              "\n",
              "[84090 rows x 22 columns]"
            ]
          },
          "metadata": {
            "tags": []
          },
          "execution_count": 25
        }
      ]
    },
    {
      "cell_type": "markdown",
      "metadata": {
        "id": "qerRdYNVbUgi",
        "colab_type": "text"
      },
      "source": [
        "## TVIX"
      ]
    },
    {
      "cell_type": "code",
      "metadata": {
        "id": "V4J-FZ0XbUjq",
        "colab_type": "code",
        "colab": {}
      },
      "source": [
        "columns_to_study = [ 'Open', 'High', 'Low', 'Close', 'Volume', 'Tick Count', 'Up Ticks', 'Down Ticks', 'Same Ticks']"
      ],
      "execution_count": 0,
      "outputs": []
    },
    {
      "cell_type": "code",
      "metadata": {
        "id": "4MmyWDzWbUk0",
        "colab_type": "code",
        "outputId": "7cde9eab-c327-4d70-c004-7dfb8920e0af",
        "colab": {
          "base_uri": "https://localhost:8080/",
          "height": 84
        }
      },
      "source": [
        "vix.columns"
      ],
      "execution_count": 0,
      "outputs": [
        {
          "output_type": "execute_result",
          "data": {
            "text/plain": [
              "Index(['Unnamed: 0', 'Symbol', 'Time', 'Date', 'Open', 'High', 'Low', 'Close',\n",
              "       'Volume', 'Tick Count', 'Up Ticks', 'Down Ticks', 'Same Ticks',\n",
              "       'Date and Time'],\n",
              "      dtype='object')"
            ]
          },
          "metadata": {
            "tags": []
          },
          "execution_count": 27
        }
      ]
    },
    {
      "cell_type": "code",
      "metadata": {
        "id": "ovpiRnuubUk7",
        "colab_type": "code",
        "colab": {}
      },
      "source": [
        "vix = vix[columns_to_study + aggregation_col]\n",
        "vix.columns = [f'{col}_vix' if col in columns_to_study else col for col in vix.columns]"
      ],
      "execution_count": 0,
      "outputs": []
    },
    {
      "cell_type": "code",
      "metadata": {
        "id": "OfmQGCqJbUlD",
        "colab_type": "code",
        "colab": {}
      },
      "source": [
        "add_volats(vix, 'vix')\n",
        "add_ratio_ma(vix, 'vix')\n",
        "add_ratio_ma(vix, 'vix', 'Volume')"
      ],
      "execution_count": 0,
      "outputs": []
    },
    {
      "cell_type": "markdown",
      "metadata": {
        "id": "dVCybAvEbUoI",
        "colab_type": "text"
      },
      "source": [
        "# UX 1 - 2 - 3"
      ]
    },
    {
      "cell_type": "markdown",
      "metadata": {
        "id": "EF5zSTMgbUoK",
        "colab_type": "text"
      },
      "source": [
        "http://www.cfasociety.org/nashville/SiteCollectionDocuments/CFA%20Volatility%20Indices%20201203.ppt"
      ]
    },
    {
      "cell_type": "code",
      "metadata": {
        "id": "GF_NOCGLbUoM",
        "colab_type": "code",
        "colab": {}
      },
      "source": [
        "columns_to_study = [ 'Open', 'High', 'Low', 'Close', 'Volume', 'Tick Count', 'Up Ticks', 'Down Ticks', 'Same Ticks']"
      ],
      "execution_count": 0,
      "outputs": []
    },
    {
      "cell_type": "code",
      "metadata": {
        "id": "vZncx26obUoa",
        "colab_type": "code",
        "colab": {}
      },
      "source": [
        "ux1 = ux1[columns_to_study + aggregation_col]\n",
        "ux1['returns_ux1'] = ux1.Close - ux1.Close.shift(9 * 6 * 5)\n",
        "ux1.columns = [f'{col}_ux1' if col in columns_to_study else col for col in ux1.columns]"
      ],
      "execution_count": 0,
      "outputs": []
    },
    {
      "cell_type": "code",
      "metadata": {
        "id": "5lNzrqMibUof",
        "colab_type": "code",
        "colab": {}
      },
      "source": [
        "ux2 = ux2[columns_to_study + aggregation_col]\n",
        "ux2.columns = [f'{col}_ux2' if col in columns_to_study else col for col in ux2.columns]"
      ],
      "execution_count": 0,
      "outputs": []
    },
    {
      "cell_type": "code",
      "metadata": {
        "id": "WwrS1ivJbUol",
        "colab_type": "code",
        "colab": {}
      },
      "source": [
        "ux3 = ux3[columns_to_study + aggregation_col]\n",
        "ux3.columns = [f'{col}_ux3' if col in columns_to_study else col for col in ux3.columns]"
      ],
      "execution_count": 0,
      "outputs": []
    },
    {
      "cell_type": "code",
      "metadata": {
        "id": "ipwxgsD3bUqM",
        "colab_type": "code",
        "colab": {}
      },
      "source": [
        "add_volats(ux1, 'ux1')\n",
        "add_ratio_ma(ux1, 'ux1')\n",
        "add_ratio_ma(ux1, 'ux1', 'Volume')"
      ],
      "execution_count": 0,
      "outputs": []
    },
    {
      "cell_type": "code",
      "metadata": {
        "id": "zPIeBuYgbUqU",
        "colab_type": "code",
        "colab": {}
      },
      "source": [
        "add_volats(ux2, 'ux2')\n",
        "add_ratio_ma(ux2, 'ux2')\n",
        "add_ratio_ma(ux2, 'ux2', 'Volume')"
      ],
      "execution_count": 0,
      "outputs": []
    },
    {
      "cell_type": "code",
      "metadata": {
        "id": "gPIoAOmTbUq_",
        "colab_type": "code",
        "colab": {}
      },
      "source": [
        "add_volats(ux3, 'ux3')\n",
        "add_ratio_ma(ux3, 'ux3')\n",
        "add_ratio_ma(ux3, 'ux3', 'Volume')"
      ],
      "execution_count": 0,
      "outputs": []
    },
    {
      "cell_type": "code",
      "metadata": {
        "id": "PgDqQq5LbUrI",
        "colab_type": "code",
        "colab": {}
      },
      "source": [
        ""
      ],
      "execution_count": 0,
      "outputs": []
    },
    {
      "cell_type": "markdown",
      "metadata": {
        "id": "3BdYTua7bUrP",
        "colab_type": "text"
      },
      "source": [
        "# Merge everything"
      ]
    },
    {
      "cell_type": "code",
      "metadata": {
        "id": "CXQtJpZUbUrR",
        "colab_type": "code",
        "colab": {}
      },
      "source": [
        "df = vix.merge(spx)"
      ],
      "execution_count": 0,
      "outputs": []
    },
    {
      "cell_type": "code",
      "metadata": {
        "id": "54On-hi9bUsk",
        "colab_type": "code",
        "colab": {}
      },
      "source": [
        "df = df.merge(vix, on = 'Date and Time')"
      ],
      "execution_count": 0,
      "outputs": []
    },
    {
      "cell_type": "code",
      "metadata": {
        "id": "9Lv635FCbUsp",
        "colab_type": "code",
        "colab": {}
      },
      "source": [
        "df = df.merge(ux1, on = 'Date and Time')"
      ],
      "execution_count": 0,
      "outputs": []
    },
    {
      "cell_type": "code",
      "metadata": {
        "id": "NlkilOlVbUs_",
        "colab_type": "code",
        "colab": {}
      },
      "source": [
        "df = df.merge(ux2, on = 'Date and Time')"
      ],
      "execution_count": 0,
      "outputs": []
    },
    {
      "cell_type": "code",
      "metadata": {
        "id": "6_lXfdgfbUtG",
        "colab_type": "code",
        "colab": {}
      },
      "source": [
        "df = df.merge(ux3, on = 'Date and Time')"
      ],
      "execution_count": 0,
      "outputs": []
    },
    {
      "cell_type": "code",
      "metadata": {
        "id": "PzsReHvKaU79",
        "colab_type": "code",
        "outputId": "6419f849-0321-468e-dc4b-c455eb31b02b",
        "colab": {
          "base_uri": "https://localhost:8080/",
          "height": 606
        }
      },
      "source": [
        "df"
      ],
      "execution_count": 0,
      "outputs": [
        {
          "output_type": "execute_result",
          "data": {
            "text/html": [
              "<div>\n",
              "<style scoped>\n",
              "    .dataframe tbody tr th:only-of-type {\n",
              "        vertical-align: middle;\n",
              "    }\n",
              "\n",
              "    .dataframe tbody tr th {\n",
              "        vertical-align: top;\n",
              "    }\n",
              "\n",
              "    .dataframe thead th {\n",
              "        text-align: right;\n",
              "    }\n",
              "</style>\n",
              "<table border=\"1\" class=\"dataframe\">\n",
              "  <thead>\n",
              "    <tr style=\"text-align: right;\">\n",
              "      <th></th>\n",
              "      <th>Open_vix_x</th>\n",
              "      <th>High_vix_x</th>\n",
              "      <th>Low_vix_x</th>\n",
              "      <th>Close_vix_x</th>\n",
              "      <th>Volume_vix_x</th>\n",
              "      <th>Tick Count_vix_x</th>\n",
              "      <th>Up Ticks_vix_x</th>\n",
              "      <th>Down Ticks_vix_x</th>\n",
              "      <th>Same Ticks_vix_x</th>\n",
              "      <th>Date and Time</th>\n",
              "      <th>volat_vix_c_to_c_1d_x</th>\n",
              "      <th>volat_vix_c_to_c_5d_x</th>\n",
              "      <th>volat_vix_c_to_c_1m_x</th>\n",
              "      <th>ratio_ma_Close_vix_10min_1d_x</th>\n",
              "      <th>ratio_ma_Close_vix_1d_5d_x</th>\n",
              "      <th>ratio_ma_Close_vix_1d_20d_x</th>\n",
              "      <th>ratio_ma_Volume_vix_10min_1d_x</th>\n",
              "      <th>ratio_ma_Volume_vix_1d_5d_x</th>\n",
              "      <th>ratio_ma_Volume_vix_1d_20d_x</th>\n",
              "      <th>Open_spx</th>\n",
              "      <th>High_spx</th>\n",
              "      <th>Low_spx</th>\n",
              "      <th>Close_spx</th>\n",
              "      <th>Tick Count_spx</th>\n",
              "      <th>Up Ticks_spx</th>\n",
              "      <th>Down Ticks_spx</th>\n",
              "      <th>Same Ticks_spx</th>\n",
              "      <th>adjusted_close_spx</th>\n",
              "      <th>volat_spx_c_to_c_1d</th>\n",
              "      <th>volat_spx_c_to_c_5d</th>\n",
              "      <th>volat_spx_c_to_c_1m</th>\n",
              "      <th>ratio_ma_Close_spx_10min_1d</th>\n",
              "      <th>ratio_ma_Close_spx_1d_5d</th>\n",
              "      <th>ratio_ma_Close_spx_1d_20d</th>\n",
              "      <th>ratio_ma_adjusted_close_spx_10min_1d</th>\n",
              "      <th>ratio_ma_adjusted_close_spx_1d_5d</th>\n",
              "      <th>ratio_ma_adjusted_close_spx_1d_20d</th>\n",
              "      <th>return_spx_c_to_c_1d</th>\n",
              "      <th>return_spx_c_to_c_1w</th>\n",
              "      <th>return_spx_c_to_c_1m</th>\n",
              "      <th>...</th>\n",
              "      <th>ratio_ma_Close_ux1_1d_20d</th>\n",
              "      <th>ratio_ma_Volume_ux1_10min_1d</th>\n",
              "      <th>ratio_ma_Volume_ux1_1d_5d</th>\n",
              "      <th>ratio_ma_Volume_ux1_1d_20d</th>\n",
              "      <th>Open_ux2</th>\n",
              "      <th>High_ux2</th>\n",
              "      <th>Low_ux2</th>\n",
              "      <th>Close_ux2</th>\n",
              "      <th>Volume_ux2</th>\n",
              "      <th>Tick Count_ux2</th>\n",
              "      <th>Up Ticks_ux2</th>\n",
              "      <th>Down Ticks_ux2</th>\n",
              "      <th>Same Ticks_ux2</th>\n",
              "      <th>volat_ux2_c_to_c_1d</th>\n",
              "      <th>volat_ux2_c_to_c_5d</th>\n",
              "      <th>volat_ux2_c_to_c_1m</th>\n",
              "      <th>ratio_ma_Close_ux2_10min_1d</th>\n",
              "      <th>ratio_ma_Close_ux2_1d_5d</th>\n",
              "      <th>ratio_ma_Close_ux2_1d_20d</th>\n",
              "      <th>ratio_ma_Volume_ux2_10min_1d</th>\n",
              "      <th>ratio_ma_Volume_ux2_1d_5d</th>\n",
              "      <th>ratio_ma_Volume_ux2_1d_20d</th>\n",
              "      <th>Open_ux3</th>\n",
              "      <th>High_ux3</th>\n",
              "      <th>Low_ux3</th>\n",
              "      <th>Close_ux3</th>\n",
              "      <th>Volume_ux3</th>\n",
              "      <th>Tick Count_ux3</th>\n",
              "      <th>Up Ticks_ux3</th>\n",
              "      <th>Down Ticks_ux3</th>\n",
              "      <th>Same Ticks_ux3</th>\n",
              "      <th>volat_ux3_c_to_c_1d</th>\n",
              "      <th>volat_ux3_c_to_c_5d</th>\n",
              "      <th>volat_ux3_c_to_c_1m</th>\n",
              "      <th>ratio_ma_Close_ux3_10min_1d</th>\n",
              "      <th>ratio_ma_Close_ux3_1d_5d</th>\n",
              "      <th>ratio_ma_Close_ux3_1d_20d</th>\n",
              "      <th>ratio_ma_Volume_ux3_10min_1d</th>\n",
              "      <th>ratio_ma_Volume_ux3_1d_5d</th>\n",
              "      <th>ratio_ma_Volume_ux3_1d_20d</th>\n",
              "    </tr>\n",
              "  </thead>\n",
              "  <tbody>\n",
              "    <tr>\n",
              "      <th>0</th>\n",
              "      <td>4.8000</td>\n",
              "      <td>4.8500</td>\n",
              "      <td>4.7000</td>\n",
              "      <td>4.7000</td>\n",
              "      <td>787001</td>\n",
              "      <td>1234</td>\n",
              "      <td>196</td>\n",
              "      <td>212</td>\n",
              "      <td>826</td>\n",
              "      <td>07/02/2012 14:40</td>\n",
              "      <td>0.085685</td>\n",
              "      <td>0.255362</td>\n",
              "      <td>0.405252</td>\n",
              "      <td>0.974851</td>\n",
              "      <td>0.954974</td>\n",
              "      <td>0.842751</td>\n",
              "      <td>17.620477</td>\n",
              "      <td>0.440480</td>\n",
              "      <td>0.286456</td>\n",
              "      <td>1362.33</td>\n",
              "      <td>1364.45</td>\n",
              "      <td>1360.93</td>\n",
              "      <td>1364.10</td>\n",
              "      <td>120</td>\n",
              "      <td>68</td>\n",
              "      <td>47</td>\n",
              "      <td>5</td>\n",
              "      <td>1364.10</td>\n",
              "      <td>2.674408</td>\n",
              "      <td>16.086486</td>\n",
              "      <td>15.419275</td>\n",
              "      <td>1.004531</td>\n",
              "      <td>1.016453</td>\n",
              "      <td>1.018794</td>\n",
              "      <td>1.004531</td>\n",
              "      <td>1.016453</td>\n",
              "      <td>1.018794</td>\n",
              "      <td>49.91</td>\n",
              "      <td>30.15</td>\n",
              "      <td>44.74</td>\n",
              "      <td>...</td>\n",
              "      <td>NaN</td>\n",
              "      <td>NaN</td>\n",
              "      <td>NaN</td>\n",
              "      <td>NaN</td>\n",
              "      <td>21.60</td>\n",
              "      <td>21.71</td>\n",
              "      <td>21.51</td>\n",
              "      <td>21.58</td>\n",
              "      <td>475</td>\n",
              "      <td>177</td>\n",
              "      <td>38</td>\n",
              "      <td>32</td>\n",
              "      <td>107</td>\n",
              "      <td>NaN</td>\n",
              "      <td>NaN</td>\n",
              "      <td>NaN</td>\n",
              "      <td>NaN</td>\n",
              "      <td>NaN</td>\n",
              "      <td>NaN</td>\n",
              "      <td>NaN</td>\n",
              "      <td>NaN</td>\n",
              "      <td>NaN</td>\n",
              "      <td>23.25</td>\n",
              "      <td>23.33</td>\n",
              "      <td>23.15</td>\n",
              "      <td>23.23</td>\n",
              "      <td>257</td>\n",
              "      <td>83</td>\n",
              "      <td>14</td>\n",
              "      <td>14</td>\n",
              "      <td>55</td>\n",
              "      <td>NaN</td>\n",
              "      <td>NaN</td>\n",
              "      <td>NaN</td>\n",
              "      <td>NaN</td>\n",
              "      <td>NaN</td>\n",
              "      <td>NaN</td>\n",
              "      <td>NaN</td>\n",
              "      <td>NaN</td>\n",
              "      <td>NaN</td>\n",
              "    </tr>\n",
              "    <tr>\n",
              "      <th>1</th>\n",
              "      <td>4.7100</td>\n",
              "      <td>4.7100</td>\n",
              "      <td>4.5700</td>\n",
              "      <td>4.5899</td>\n",
              "      <td>1000263</td>\n",
              "      <td>1816</td>\n",
              "      <td>227</td>\n",
              "      <td>223</td>\n",
              "      <td>1366</td>\n",
              "      <td>07/02/2012 14:50</td>\n",
              "      <td>0.094579</td>\n",
              "      <td>0.253296</td>\n",
              "      <td>0.407838</td>\n",
              "      <td>0.954821</td>\n",
              "      <td>0.953789</td>\n",
              "      <td>0.840582</td>\n",
              "      <td>11.592777</td>\n",
              "      <td>0.788539</td>\n",
              "      <td>0.554845</td>\n",
              "      <td>1364.30</td>\n",
              "      <td>1366.35</td>\n",
              "      <td>1364.30</td>\n",
              "      <td>1365.74</td>\n",
              "      <td>120</td>\n",
              "      <td>63</td>\n",
              "      <td>48</td>\n",
              "      <td>9</td>\n",
              "      <td>1365.74</td>\n",
              "      <td>2.959452</td>\n",
              "      <td>16.304055</td>\n",
              "      <td>15.466582</td>\n",
              "      <td>1.005368</td>\n",
              "      <td>1.016601</td>\n",
              "      <td>1.019110</td>\n",
              "      <td>1.005368</td>\n",
              "      <td>1.016601</td>\n",
              "      <td>1.019110</td>\n",
              "      <td>50.66</td>\n",
              "      <td>32.93</td>\n",
              "      <td>47.79</td>\n",
              "      <td>...</td>\n",
              "      <td>NaN</td>\n",
              "      <td>NaN</td>\n",
              "      <td>NaN</td>\n",
              "      <td>NaN</td>\n",
              "      <td>21.55</td>\n",
              "      <td>21.55</td>\n",
              "      <td>21.20</td>\n",
              "      <td>21.30</td>\n",
              "      <td>1482</td>\n",
              "      <td>488</td>\n",
              "      <td>110</td>\n",
              "      <td>119</td>\n",
              "      <td>259</td>\n",
              "      <td>NaN</td>\n",
              "      <td>NaN</td>\n",
              "      <td>NaN</td>\n",
              "      <td>NaN</td>\n",
              "      <td>NaN</td>\n",
              "      <td>NaN</td>\n",
              "      <td>NaN</td>\n",
              "      <td>NaN</td>\n",
              "      <td>NaN</td>\n",
              "      <td>23.20</td>\n",
              "      <td>23.21</td>\n",
              "      <td>22.90</td>\n",
              "      <td>22.98</td>\n",
              "      <td>331</td>\n",
              "      <td>166</td>\n",
              "      <td>26</td>\n",
              "      <td>33</td>\n",
              "      <td>107</td>\n",
              "      <td>NaN</td>\n",
              "      <td>NaN</td>\n",
              "      <td>NaN</td>\n",
              "      <td>NaN</td>\n",
              "      <td>NaN</td>\n",
              "      <td>NaN</td>\n",
              "      <td>NaN</td>\n",
              "      <td>NaN</td>\n",
              "      <td>NaN</td>\n",
              "    </tr>\n",
              "    <tr>\n",
              "      <th>2</th>\n",
              "      <td>4.5900</td>\n",
              "      <td>4.6000</td>\n",
              "      <td>4.5300</td>\n",
              "      <td>4.5600</td>\n",
              "      <td>600198</td>\n",
              "      <td>1478</td>\n",
              "      <td>177</td>\n",
              "      <td>186</td>\n",
              "      <td>1115</td>\n",
              "      <td>07/02/2012 15:00</td>\n",
              "      <td>0.102156</td>\n",
              "      <td>0.252493</td>\n",
              "      <td>0.410570</td>\n",
              "      <td>0.951819</td>\n",
              "      <td>0.952139</td>\n",
              "      <td>0.838032</td>\n",
              "      <td>5.397632</td>\n",
              "      <td>0.972518</td>\n",
              "      <td>0.711351</td>\n",
              "      <td>1365.68</td>\n",
              "      <td>1366.15</td>\n",
              "      <td>1363.69</td>\n",
              "      <td>1363.69</td>\n",
              "      <td>120</td>\n",
              "      <td>34</td>\n",
              "      <td>75</td>\n",
              "      <td>11</td>\n",
              "      <td>1363.69</td>\n",
              "      <td>3.048460</td>\n",
              "      <td>16.484036</td>\n",
              "      <td>15.506067</td>\n",
              "      <td>1.003591</td>\n",
              "      <td>1.016658</td>\n",
              "      <td>1.019325</td>\n",
              "      <td>1.003591</td>\n",
              "      <td>1.016658</td>\n",
              "      <td>1.019325</td>\n",
              "      <td>47.59</td>\n",
              "      <td>29.95</td>\n",
              "      <td>45.64</td>\n",
              "      <td>...</td>\n",
              "      <td>NaN</td>\n",
              "      <td>NaN</td>\n",
              "      <td>NaN</td>\n",
              "      <td>NaN</td>\n",
              "      <td>21.25</td>\n",
              "      <td>21.30</td>\n",
              "      <td>21.10</td>\n",
              "      <td>21.22</td>\n",
              "      <td>1668</td>\n",
              "      <td>342</td>\n",
              "      <td>65</td>\n",
              "      <td>62</td>\n",
              "      <td>215</td>\n",
              "      <td>NaN</td>\n",
              "      <td>NaN</td>\n",
              "      <td>NaN</td>\n",
              "      <td>NaN</td>\n",
              "      <td>NaN</td>\n",
              "      <td>NaN</td>\n",
              "      <td>NaN</td>\n",
              "      <td>NaN</td>\n",
              "      <td>NaN</td>\n",
              "      <td>22.96</td>\n",
              "      <td>23.05</td>\n",
              "      <td>22.84</td>\n",
              "      <td>23.00</td>\n",
              "      <td>419</td>\n",
              "      <td>169</td>\n",
              "      <td>30</td>\n",
              "      <td>28</td>\n",
              "      <td>111</td>\n",
              "      <td>NaN</td>\n",
              "      <td>NaN</td>\n",
              "      <td>NaN</td>\n",
              "      <td>NaN</td>\n",
              "      <td>NaN</td>\n",
              "      <td>NaN</td>\n",
              "      <td>NaN</td>\n",
              "      <td>NaN</td>\n",
              "      <td>NaN</td>\n",
              "    </tr>\n",
              "    <tr>\n",
              "      <th>3</th>\n",
              "      <td>4.5600</td>\n",
              "      <td>4.7700</td>\n",
              "      <td>4.5588</td>\n",
              "      <td>4.7490</td>\n",
              "      <td>891071</td>\n",
              "      <td>2126</td>\n",
              "      <td>308</td>\n",
              "      <td>299</td>\n",
              "      <td>1519</td>\n",
              "      <td>07/02/2012 15:10</td>\n",
              "      <td>0.095848</td>\n",
              "      <td>0.248312</td>\n",
              "      <td>0.412464</td>\n",
              "      <td>0.993091</td>\n",
              "      <td>0.951734</td>\n",
              "      <td>0.836738</td>\n",
              "      <td>6.036683</td>\n",
              "      <td>1.212727</td>\n",
              "      <td>0.936887</td>\n",
              "      <td>1363.51</td>\n",
              "      <td>1363.76</td>\n",
              "      <td>1355.80</td>\n",
              "      <td>1356.60</td>\n",
              "      <td>120</td>\n",
              "      <td>53</td>\n",
              "      <td>63</td>\n",
              "      <td>4</td>\n",
              "      <td>1356.60</td>\n",
              "      <td>3.003990</td>\n",
              "      <td>16.575235</td>\n",
              "      <td>15.521330</td>\n",
              "      <td>0.998339</td>\n",
              "      <td>1.016527</td>\n",
              "      <td>1.019308</td>\n",
              "      <td>0.998339</td>\n",
              "      <td>1.016527</td>\n",
              "      <td>1.019308</td>\n",
              "      <td>38.19</td>\n",
              "      <td>24.44</td>\n",
              "      <td>41.74</td>\n",
              "      <td>...</td>\n",
              "      <td>NaN</td>\n",
              "      <td>NaN</td>\n",
              "      <td>NaN</td>\n",
              "      <td>NaN</td>\n",
              "      <td>21.25</td>\n",
              "      <td>21.85</td>\n",
              "      <td>21.24</td>\n",
              "      <td>21.75</td>\n",
              "      <td>1649</td>\n",
              "      <td>390</td>\n",
              "      <td>80</td>\n",
              "      <td>66</td>\n",
              "      <td>244</td>\n",
              "      <td>NaN</td>\n",
              "      <td>NaN</td>\n",
              "      <td>NaN</td>\n",
              "      <td>NaN</td>\n",
              "      <td>NaN</td>\n",
              "      <td>NaN</td>\n",
              "      <td>NaN</td>\n",
              "      <td>NaN</td>\n",
              "      <td>NaN</td>\n",
              "      <td>23.00</td>\n",
              "      <td>23.50</td>\n",
              "      <td>23.00</td>\n",
              "      <td>23.45</td>\n",
              "      <td>453</td>\n",
              "      <td>204</td>\n",
              "      <td>47</td>\n",
              "      <td>37</td>\n",
              "      <td>120</td>\n",
              "      <td>NaN</td>\n",
              "      <td>NaN</td>\n",
              "      <td>NaN</td>\n",
              "      <td>NaN</td>\n",
              "      <td>NaN</td>\n",
              "      <td>NaN</td>\n",
              "      <td>NaN</td>\n",
              "      <td>NaN</td>\n",
              "      <td>NaN</td>\n",
              "    </tr>\n",
              "    <tr>\n",
              "      <th>4</th>\n",
              "      <td>4.7477</td>\n",
              "      <td>4.7700</td>\n",
              "      <td>4.5824</td>\n",
              "      <td>4.6100</td>\n",
              "      <td>420382</td>\n",
              "      <td>1137</td>\n",
              "      <td>148</td>\n",
              "      <td>167</td>\n",
              "      <td>822</td>\n",
              "      <td>07/02/2012 15:20</td>\n",
              "      <td>0.095873</td>\n",
              "      <td>0.245462</td>\n",
              "      <td>0.414920</td>\n",
              "      <td>0.966804</td>\n",
              "      <td>0.950558</td>\n",
              "      <td>0.834612</td>\n",
              "      <td>2.546299</td>\n",
              "      <td>1.318792</td>\n",
              "      <td>1.043571</td>\n",
              "      <td>1356.60</td>\n",
              "      <td>1360.09</td>\n",
              "      <td>1356.46</td>\n",
              "      <td>1359.60</td>\n",
              "      <td>120</td>\n",
              "      <td>69</td>\n",
              "      <td>40</td>\n",
              "      <td>11</td>\n",
              "      <td>1359.60</td>\n",
              "      <td>2.952994</td>\n",
              "      <td>16.690044</td>\n",
              "      <td>15.540198</td>\n",
              "      <td>1.000443</td>\n",
              "      <td>1.016439</td>\n",
              "      <td>1.019357</td>\n",
              "      <td>1.000443</td>\n",
              "      <td>1.016439</td>\n",
              "      <td>1.019357</td>\n",
              "      <td>41.63</td>\n",
              "      <td>29.08</td>\n",
              "      <td>45.27</td>\n",
              "      <td>...</td>\n",
              "      <td>NaN</td>\n",
              "      <td>NaN</td>\n",
              "      <td>NaN</td>\n",
              "      <td>NaN</td>\n",
              "      <td>21.80</td>\n",
              "      <td>21.80</td>\n",
              "      <td>21.40</td>\n",
              "      <td>21.50</td>\n",
              "      <td>930</td>\n",
              "      <td>200</td>\n",
              "      <td>20</td>\n",
              "      <td>28</td>\n",
              "      <td>152</td>\n",
              "      <td>NaN</td>\n",
              "      <td>NaN</td>\n",
              "      <td>NaN</td>\n",
              "      <td>NaN</td>\n",
              "      <td>NaN</td>\n",
              "      <td>NaN</td>\n",
              "      <td>NaN</td>\n",
              "      <td>NaN</td>\n",
              "      <td>NaN</td>\n",
              "      <td>23.43</td>\n",
              "      <td>23.44</td>\n",
              "      <td>23.10</td>\n",
              "      <td>23.15</td>\n",
              "      <td>180</td>\n",
              "      <td>62</td>\n",
              "      <td>5</td>\n",
              "      <td>15</td>\n",
              "      <td>42</td>\n",
              "      <td>NaN</td>\n",
              "      <td>NaN</td>\n",
              "      <td>NaN</td>\n",
              "      <td>NaN</td>\n",
              "      <td>NaN</td>\n",
              "      <td>NaN</td>\n",
              "      <td>NaN</td>\n",
              "      <td>NaN</td>\n",
              "      <td>NaN</td>\n",
              "    </tr>\n",
              "    <tr>\n",
              "      <th>...</th>\n",
              "      <td>...</td>\n",
              "      <td>...</td>\n",
              "      <td>...</td>\n",
              "      <td>...</td>\n",
              "      <td>...</td>\n",
              "      <td>...</td>\n",
              "      <td>...</td>\n",
              "      <td>...</td>\n",
              "      <td>...</td>\n",
              "      <td>...</td>\n",
              "      <td>...</td>\n",
              "      <td>...</td>\n",
              "      <td>...</td>\n",
              "      <td>...</td>\n",
              "      <td>...</td>\n",
              "      <td>...</td>\n",
              "      <td>...</td>\n",
              "      <td>...</td>\n",
              "      <td>...</td>\n",
              "      <td>...</td>\n",
              "      <td>...</td>\n",
              "      <td>...</td>\n",
              "      <td>...</td>\n",
              "      <td>...</td>\n",
              "      <td>...</td>\n",
              "      <td>...</td>\n",
              "      <td>...</td>\n",
              "      <td>...</td>\n",
              "      <td>...</td>\n",
              "      <td>...</td>\n",
              "      <td>...</td>\n",
              "      <td>...</td>\n",
              "      <td>...</td>\n",
              "      <td>...</td>\n",
              "      <td>...</td>\n",
              "      <td>...</td>\n",
              "      <td>...</td>\n",
              "      <td>...</td>\n",
              "      <td>...</td>\n",
              "      <td>...</td>\n",
              "      <td>...</td>\n",
              "      <td>...</td>\n",
              "      <td>...</td>\n",
              "      <td>...</td>\n",
              "      <td>...</td>\n",
              "      <td>...</td>\n",
              "      <td>...</td>\n",
              "      <td>...</td>\n",
              "      <td>...</td>\n",
              "      <td>...</td>\n",
              "      <td>...</td>\n",
              "      <td>...</td>\n",
              "      <td>...</td>\n",
              "      <td>...</td>\n",
              "      <td>...</td>\n",
              "      <td>...</td>\n",
              "      <td>...</td>\n",
              "      <td>...</td>\n",
              "      <td>...</td>\n",
              "      <td>...</td>\n",
              "      <td>...</td>\n",
              "      <td>...</td>\n",
              "      <td>...</td>\n",
              "      <td>...</td>\n",
              "      <td>...</td>\n",
              "      <td>...</td>\n",
              "      <td>...</td>\n",
              "      <td>...</td>\n",
              "      <td>...</td>\n",
              "      <td>...</td>\n",
              "      <td>...</td>\n",
              "      <td>...</td>\n",
              "      <td>...</td>\n",
              "      <td>...</td>\n",
              "      <td>...</td>\n",
              "      <td>...</td>\n",
              "      <td>...</td>\n",
              "      <td>...</td>\n",
              "      <td>...</td>\n",
              "      <td>...</td>\n",
              "      <td>...</td>\n",
              "    </tr>\n",
              "    <tr>\n",
              "      <th>72407</th>\n",
              "      <td>51.7800</td>\n",
              "      <td>52.0000</td>\n",
              "      <td>51.7400</td>\n",
              "      <td>51.9300</td>\n",
              "      <td>97199</td>\n",
              "      <td>721</td>\n",
              "      <td>220</td>\n",
              "      <td>205</td>\n",
              "      <td>296</td>\n",
              "      <td>12/31/2019 20:40</td>\n",
              "      <td>1.595777</td>\n",
              "      <td>1.169130</td>\n",
              "      <td>2.143865</td>\n",
              "      <td>0.965031</td>\n",
              "      <td>0.974383</td>\n",
              "      <td>1.041005</td>\n",
              "      <td>0.808424</td>\n",
              "      <td>1.519375</td>\n",
              "      <td>2.414168</td>\n",
              "      <td>3224.16</td>\n",
              "      <td>3225.28</td>\n",
              "      <td>3223.98</td>\n",
              "      <td>3224.92</td>\n",
              "      <td>600</td>\n",
              "      <td>200</td>\n",
              "      <td>249</td>\n",
              "      <td>151</td>\n",
              "      <td>3224.92</td>\n",
              "      <td>2.450960</td>\n",
              "      <td>10.172071</td>\n",
              "      <td>32.730264</td>\n",
              "      <td>1.001866</td>\n",
              "      <td>0.996991</td>\n",
              "      <td>1.006534</td>\n",
              "      <td>1.001866</td>\n",
              "      <td>0.996991</td>\n",
              "      <td>1.006534</td>\n",
              "      <td>-2.22</td>\n",
              "      <td>19.55</td>\n",
              "      <td>125.97</td>\n",
              "      <td>...</td>\n",
              "      <td>1.021579</td>\n",
              "      <td>1.480264</td>\n",
              "      <td>1.800481</td>\n",
              "      <td>2.363993</td>\n",
              "      <td>16.80</td>\n",
              "      <td>16.85</td>\n",
              "      <td>16.80</td>\n",
              "      <td>16.80</td>\n",
              "      <td>1191</td>\n",
              "      <td>282</td>\n",
              "      <td>42</td>\n",
              "      <td>43</td>\n",
              "      <td>197</td>\n",
              "      <td>0.220523</td>\n",
              "      <td>0.150815</td>\n",
              "      <td>0.317539</td>\n",
              "      <td>0.985313</td>\n",
              "      <td>0.989410</td>\n",
              "      <td>1.019314</td>\n",
              "      <td>1.579750</td>\n",
              "      <td>1.498021</td>\n",
              "      <td>2.142438</td>\n",
              "      <td>17.02</td>\n",
              "      <td>17.03</td>\n",
              "      <td>17.02</td>\n",
              "      <td>17.03</td>\n",
              "      <td>34</td>\n",
              "      <td>15</td>\n",
              "      <td>1</td>\n",
              "      <td>0</td>\n",
              "      <td>14</td>\n",
              "      <td>0.177076</td>\n",
              "      <td>0.135125</td>\n",
              "      <td>0.276650</td>\n",
              "      <td>0.989781</td>\n",
              "      <td>0.991138</td>\n",
              "      <td>1.018437</td>\n",
              "      <td>0.185160</td>\n",
              "      <td>1.135357</td>\n",
              "      <td>1.222292</td>\n",
              "    </tr>\n",
              "    <tr>\n",
              "      <th>72408</th>\n",
              "      <td>51.9300</td>\n",
              "      <td>51.9397</td>\n",
              "      <td>51.1700</td>\n",
              "      <td>51.4200</td>\n",
              "      <td>208266</td>\n",
              "      <td>1673</td>\n",
              "      <td>430</td>\n",
              "      <td>468</td>\n",
              "      <td>775</td>\n",
              "      <td>12/31/2019 20:50</td>\n",
              "      <td>1.604730</td>\n",
              "      <td>1.218927</td>\n",
              "      <td>2.143156</td>\n",
              "      <td>0.958857</td>\n",
              "      <td>0.971511</td>\n",
              "      <td>1.037381</td>\n",
              "      <td>1.687835</td>\n",
              "      <td>1.573327</td>\n",
              "      <td>2.470472</td>\n",
              "      <td>3224.92</td>\n",
              "      <td>3227.06</td>\n",
              "      <td>3224.92</td>\n",
              "      <td>3226.01</td>\n",
              "      <td>600</td>\n",
              "      <td>247</td>\n",
              "      <td>219</td>\n",
              "      <td>134</td>\n",
              "      <td>3226.01</td>\n",
              "      <td>2.836591</td>\n",
              "      <td>10.084568</td>\n",
              "      <td>32.653612</td>\n",
              "      <td>1.002101</td>\n",
              "      <td>0.997139</td>\n",
              "      <td>1.006591</td>\n",
              "      <td>1.002101</td>\n",
              "      <td>0.997139</td>\n",
              "      <td>1.006591</td>\n",
              "      <td>0.00</td>\n",
              "      <td>20.64</td>\n",
              "      <td>125.60</td>\n",
              "      <td>...</td>\n",
              "      <td>1.019642</td>\n",
              "      <td>2.443843</td>\n",
              "      <td>1.926349</td>\n",
              "      <td>2.495681</td>\n",
              "      <td>16.81</td>\n",
              "      <td>16.81</td>\n",
              "      <td>16.72</td>\n",
              "      <td>16.78</td>\n",
              "      <td>1925</td>\n",
              "      <td>472</td>\n",
              "      <td>34</td>\n",
              "      <td>34</td>\n",
              "      <td>404</td>\n",
              "      <td>0.217529</td>\n",
              "      <td>0.155995</td>\n",
              "      <td>0.317264</td>\n",
              "      <td>0.985513</td>\n",
              "      <td>0.988189</td>\n",
              "      <td>1.017855</td>\n",
              "      <td>2.380339</td>\n",
              "      <td>1.567948</td>\n",
              "      <td>2.277399</td>\n",
              "      <td>17.00</td>\n",
              "      <td>17.00</td>\n",
              "      <td>16.96</td>\n",
              "      <td>16.98</td>\n",
              "      <td>156</td>\n",
              "      <td>54</td>\n",
              "      <td>3</td>\n",
              "      <td>3</td>\n",
              "      <td>48</td>\n",
              "      <td>0.174874</td>\n",
              "      <td>0.139459</td>\n",
              "      <td>0.276645</td>\n",
              "      <td>0.987999</td>\n",
              "      <td>0.990172</td>\n",
              "      <td>1.017260</td>\n",
              "      <td>0.849172</td>\n",
              "      <td>1.170117</td>\n",
              "      <td>1.221925</td>\n",
              "    </tr>\n",
              "    <tr>\n",
              "      <th>72409</th>\n",
              "      <td>51.4000</td>\n",
              "      <td>51.9500</td>\n",
              "      <td>50.9200</td>\n",
              "      <td>51.3375</td>\n",
              "      <td>502667</td>\n",
              "      <td>3759</td>\n",
              "      <td>925</td>\n",
              "      <td>983</td>\n",
              "      <td>1851</td>\n",
              "      <td>12/31/2019 21:00</td>\n",
              "      <td>1.589903</td>\n",
              "      <td>1.268485</td>\n",
              "      <td>2.142631</td>\n",
              "      <td>0.960768</td>\n",
              "      <td>0.968533</td>\n",
              "      <td>1.033628</td>\n",
              "      <td>3.547701</td>\n",
              "      <td>1.735784</td>\n",
              "      <td>2.796323</td>\n",
              "      <td>3225.98</td>\n",
              "      <td>3231.72</td>\n",
              "      <td>3224.86</td>\n",
              "      <td>3230.56</td>\n",
              "      <td>600</td>\n",
              "      <td>312</td>\n",
              "      <td>229</td>\n",
              "      <td>59</td>\n",
              "      <td>3230.56</td>\n",
              "      <td>3.588939</td>\n",
              "      <td>10.057165</td>\n",
              "      <td>32.597113</td>\n",
              "      <td>1.003330</td>\n",
              "      <td>0.997339</td>\n",
              "      <td>1.006729</td>\n",
              "      <td>1.003330</td>\n",
              "      <td>0.997339</td>\n",
              "      <td>1.006729</td>\n",
              "      <td>2.69</td>\n",
              "      <td>25.19</td>\n",
              "      <td>129.53</td>\n",
              "      <td>...</td>\n",
              "      <td>1.017538</td>\n",
              "      <td>4.528274</td>\n",
              "      <td>2.205371</td>\n",
              "      <td>2.960066</td>\n",
              "      <td>16.80</td>\n",
              "      <td>16.90</td>\n",
              "      <td>16.75</td>\n",
              "      <td>16.82</td>\n",
              "      <td>7012</td>\n",
              "      <td>1610</td>\n",
              "      <td>110</td>\n",
              "      <td>106</td>\n",
              "      <td>1394</td>\n",
              "      <td>0.210051</td>\n",
              "      <td>0.160001</td>\n",
              "      <td>0.316909</td>\n",
              "      <td>0.989145</td>\n",
              "      <td>0.987041</td>\n",
              "      <td>1.016488</td>\n",
              "      <td>6.521780</td>\n",
              "      <td>1.899700</td>\n",
              "      <td>2.931313</td>\n",
              "      <td>16.98</td>\n",
              "      <td>17.11</td>\n",
              "      <td>16.98</td>\n",
              "      <td>17.07</td>\n",
              "      <td>3555</td>\n",
              "      <td>806</td>\n",
              "      <td>48</td>\n",
              "      <td>43</td>\n",
              "      <td>715</td>\n",
              "      <td>0.165463</td>\n",
              "      <td>0.141860</td>\n",
              "      <td>0.276710</td>\n",
              "      <td>0.994200</td>\n",
              "      <td>0.989330</td>\n",
              "      <td>1.016246</td>\n",
              "      <td>10.959538</td>\n",
              "      <td>1.770284</td>\n",
              "      <td>2.075867</td>\n",
              "    </tr>\n",
              "    <tr>\n",
              "      <th>72410</th>\n",
              "      <td>51.3200</td>\n",
              "      <td>51.3200</td>\n",
              "      <td>50.6800</td>\n",
              "      <td>50.8200</td>\n",
              "      <td>69792</td>\n",
              "      <td>386</td>\n",
              "      <td>90</td>\n",
              "      <td>96</td>\n",
              "      <td>200</td>\n",
              "      <td>12/31/2019 21:10</td>\n",
              "      <td>1.580546</td>\n",
              "      <td>1.328167</td>\n",
              "      <td>2.142276</td>\n",
              "      <td>0.954915</td>\n",
              "      <td>0.965193</td>\n",
              "      <td>1.029467</td>\n",
              "      <td>0.492071</td>\n",
              "      <td>1.741132</td>\n",
              "      <td>2.798274</td>\n",
              "      <td>3229.70</td>\n",
              "      <td>3230.78</td>\n",
              "      <td>3229.70</td>\n",
              "      <td>3230.78</td>\n",
              "      <td>600</td>\n",
              "      <td>53</td>\n",
              "      <td>2</td>\n",
              "      <td>545</td>\n",
              "      <td>3230.78</td>\n",
              "      <td>4.135934</td>\n",
              "      <td>10.008364</td>\n",
              "      <td>32.534098</td>\n",
              "      <td>1.003208</td>\n",
              "      <td>0.997550</td>\n",
              "      <td>1.006872</td>\n",
              "      <td>1.003208</td>\n",
              "      <td>0.997550</td>\n",
              "      <td>1.006872</td>\n",
              "      <td>6.71</td>\n",
              "      <td>12.14</td>\n",
              "      <td>127.76</td>\n",
              "      <td>...</td>\n",
              "      <td>1.015167</td>\n",
              "      <td>1.925247</td>\n",
              "      <td>2.322732</td>\n",
              "      <td>3.146215</td>\n",
              "      <td>16.80</td>\n",
              "      <td>16.80</td>\n",
              "      <td>16.70</td>\n",
              "      <td>16.73</td>\n",
              "      <td>1718</td>\n",
              "      <td>355</td>\n",
              "      <td>32</td>\n",
              "      <td>36</td>\n",
              "      <td>287</td>\n",
              "      <td>0.203754</td>\n",
              "      <td>0.165270</td>\n",
              "      <td>0.316530</td>\n",
              "      <td>0.985349</td>\n",
              "      <td>0.985680</td>\n",
              "      <td>1.014905</td>\n",
              "      <td>1.518954</td>\n",
              "      <td>1.963756</td>\n",
              "      <td>3.060026</td>\n",
              "      <td>17.05</td>\n",
              "      <td>17.05</td>\n",
              "      <td>16.98</td>\n",
              "      <td>17.01</td>\n",
              "      <td>934</td>\n",
              "      <td>253</td>\n",
              "      <td>17</td>\n",
              "      <td>21</td>\n",
              "      <td>215</td>\n",
              "      <td>0.157212</td>\n",
              "      <td>0.145258</td>\n",
              "      <td>0.276723</td>\n",
              "      <td>0.991764</td>\n",
              "      <td>0.988416</td>\n",
              "      <td>1.015140</td>\n",
              "      <td>2.620222</td>\n",
              "      <td>1.878733</td>\n",
              "      <td>2.259856</td>\n",
              "    </tr>\n",
              "    <tr>\n",
              "      <th>72411</th>\n",
              "      <td>50.8300</td>\n",
              "      <td>50.9600</td>\n",
              "      <td>50.2100</td>\n",
              "      <td>50.6000</td>\n",
              "      <td>39501</td>\n",
              "      <td>385</td>\n",
              "      <td>98</td>\n",
              "      <td>107</td>\n",
              "      <td>180</td>\n",
              "      <td>12/31/2019 21:20</td>\n",
              "      <td>1.530398</td>\n",
              "      <td>1.391111</td>\n",
              "      <td>2.142250</td>\n",
              "      <td>0.954998</td>\n",
              "      <td>0.961550</td>\n",
              "      <td>1.024920</td>\n",
              "      <td>0.281295</td>\n",
              "      <td>1.732360</td>\n",
              "      <td>2.776019</td>\n",
              "      <td>3230.78</td>\n",
              "      <td>3230.78</td>\n",
              "      <td>3230.78</td>\n",
              "      <td>3230.78</td>\n",
              "      <td>600</td>\n",
              "      <td>0</td>\n",
              "      <td>0</td>\n",
              "      <td>600</td>\n",
              "      <td>3230.78</td>\n",
              "      <td>4.467939</td>\n",
              "      <td>9.941428</td>\n",
              "      <td>32.465816</td>\n",
              "      <td>1.003002</td>\n",
              "      <td>0.997781</td>\n",
              "      <td>1.007029</td>\n",
              "      <td>1.003002</td>\n",
              "      <td>0.997781</td>\n",
              "      <td>1.007029</td>\n",
              "      <td>7.11</td>\n",
              "      <td>12.99</td>\n",
              "      <td>129.45</td>\n",
              "      <td>...</td>\n",
              "      <td>1.012441</td>\n",
              "      <td>1.731900</td>\n",
              "      <td>2.514084</td>\n",
              "      <td>3.355911</td>\n",
              "      <td>16.70</td>\n",
              "      <td>16.75</td>\n",
              "      <td>16.60</td>\n",
              "      <td>16.62</td>\n",
              "      <td>2575</td>\n",
              "      <td>417</td>\n",
              "      <td>35</td>\n",
              "      <td>43</td>\n",
              "      <td>339</td>\n",
              "      <td>0.197649</td>\n",
              "      <td>0.174021</td>\n",
              "      <td>0.316201</td>\n",
              "      <td>0.980700</td>\n",
              "      <td>0.984080</td>\n",
              "      <td>1.012986</td>\n",
              "      <td>2.083404</td>\n",
              "      <td>2.082111</td>\n",
              "      <td>3.305777</td>\n",
              "      <td>17.05</td>\n",
              "      <td>17.05</td>\n",
              "      <td>16.90</td>\n",
              "      <td>16.90</td>\n",
              "      <td>596</td>\n",
              "      <td>150</td>\n",
              "      <td>11</td>\n",
              "      <td>18</td>\n",
              "      <td>121</td>\n",
              "      <td>0.148835</td>\n",
              "      <td>0.150722</td>\n",
              "      <td>0.276716</td>\n",
              "      <td>0.986741</td>\n",
              "      <td>0.987285</td>\n",
              "      <td>1.013705</td>\n",
              "      <td>1.565160</td>\n",
              "      <td>1.998557</td>\n",
              "      <td>2.399040</td>\n",
              "    </tr>\n",
              "  </tbody>\n",
              "</table>\n",
              "<p>72412 rows × 113 columns</p>\n",
              "</div>"
            ],
            "text/plain": [
              "       Open_vix_x  ...  ratio_ma_Volume_ux3_1d_20d\n",
              "0          4.8000  ...                         NaN\n",
              "1          4.7100  ...                         NaN\n",
              "2          4.5900  ...                         NaN\n",
              "3          4.5600  ...                         NaN\n",
              "4          4.7477  ...                         NaN\n",
              "...           ...  ...                         ...\n",
              "72407     51.7800  ...                    1.222292\n",
              "72408     51.9300  ...                    1.221925\n",
              "72409     51.4000  ...                    2.075867\n",
              "72410     51.3200  ...                    2.259856\n",
              "72411     50.8300  ...                    2.399040\n",
              "\n",
              "[72412 rows x 113 columns]"
            ]
          },
          "metadata": {
            "tags": []
          },
          "execution_count": 42
        }
      ]
    },
    {
      "cell_type": "code",
      "metadata": {
        "id": "q7_pPeuZbUtN",
        "colab_type": "code",
        "colab": {}
      },
      "source": [
        "df['delta_with_future_1m'] = df['Close_vix_x'] - df['Close_ux1']\n",
        "df['delta_with_future_2m'] = df['Close_vix_x'] - df['Close_ux2']\n",
        "df['delta_with_future_3m'] = df['Close_vix_x'] - df['Close_ux3']"
      ],
      "execution_count": 0,
      "outputs": []
    },
    {
      "cell_type": "code",
      "metadata": {
        "id": "9RZd3RWCbUwN",
        "colab_type": "code",
        "colab": {}
      },
      "source": [
        "def add_rollings(df, name):\n",
        "    df[f'mae_{name}_1d'] = df[name].rolling(6*9).std()\n",
        "    df[f'mae_{name}_1w'] = df[name].rolling(6*9*5).std()\n",
        "    df[f'mae_{name}_1m'] = df[name].rolling(6*9*5*4).std()"
      ],
      "execution_count": 0,
      "outputs": []
    },
    {
      "cell_type": "code",
      "metadata": {
        "id": "9a_KLtqwbUwd",
        "colab_type": "code",
        "colab": {}
      },
      "source": [
        "add_rollings(df, 'delta_with_future_1m')\n",
        "add_rollings(df, 'delta_with_future_2m')\n",
        "add_rollings(df, 'delta_with_future_3m')"
      ],
      "execution_count": 0,
      "outputs": []
    },
    {
      "cell_type": "markdown",
      "metadata": {
        "id": "GqSv_YEZbUwj",
        "colab_type": "text"
      },
      "source": [
        "# Time related"
      ]
    },
    {
      "cell_type": "code",
      "metadata": {
        "id": "r8QV7deVbUwl",
        "colab_type": "code",
        "colab": {}
      },
      "source": [
        "df['Date and Time'] = pd.to_datetime(df['Date and Time'])\n",
        "df['day'] = df['Date and Time'].dt.dayofweek\n",
        "df['hour'] = df['Date and Time'].dt.hour\n",
        "df['minute'] = df['Date and Time'].dt.minute\n",
        "df['month'] = df['Date and Time'].dt.month"
      ],
      "execution_count": 0,
      "outputs": []
    },
    {
      "cell_type": "markdown",
      "metadata": {
        "id": "oBDYrJ25bUwu",
        "colab_type": "text"
      },
      "source": [
        "# Build target"
      ]
    },
    {
      "cell_type": "code",
      "metadata": {
        "id": "tHBp_uNtbUwv",
        "colab_type": "code",
        "colab": {}
      },
      "source": [
        "target_series = 0.125*df['Close_vix_x'] + df['Close_spx']"
      ],
      "execution_count": 0,
      "outputs": []
    },
    {
      "cell_type": "code",
      "metadata": {
        "id": "A4PEnXGlh9xF",
        "colab_type": "code",
        "colab": {}
      },
      "source": [
        "#we needto have the right reference point, ie 9pm previous day\n",
        "#we determine this point and define it as ref\n",
        "df['partial_reference_tvix']=np.where((df.hour==20)&(df.minute==50)),df['Close_vix_x'],0)\n",
        "df['reference_tvix']=df['partial_reference_tvix'].fillna(method='ffill')"
      ],
      "execution_count": 0,
      "outputs": []
    },
    {
      "cell_type": "code",
      "metadata": {
        "id": "SPeTVD6xmgPI",
        "colab_type": "code",
        "colab": {}
      },
      "source": [
        "#we do the same for the other\n",
        "df['partial_reference_spx']=np.where((df.hour==20)&(df.minute==50)),df['Close_spx_x'],0)\n",
        "df['reference_spx']=df['partial_reference_spx'].fillna(method='ffill')"
      ],
      "execution_count": 0,
      "outputs": []
    },
    {
      "cell_type": "code",
      "metadata": {
        "id": "JMwliBIRnDZb",
        "colab_type": "code",
        "colab": {}
      },
      "source": [
        "#we create the target\n",
        "df['target']=df['reference_tvix'].shift(-1)+"
      ],
      "execution_count": 0,
      "outputs": []
    },
    {
      "cell_type": "code",
      "metadata": {
        "id": "PxW73T9nhB1t",
        "colab_type": "code",
        "outputId": "22233cac-76da-4eb1-b368-367a3a91e4ac",
        "colab": {
          "base_uri": "https://localhost:8080/",
          "height": 446
        }
      },
      "source": [
        "df.head()"
      ],
      "execution_count": 0,
      "outputs": [
        {
          "output_type": "execute_result",
          "data": {
            "text/html": [
              "<div>\n",
              "<style scoped>\n",
              "    .dataframe tbody tr th:only-of-type {\n",
              "        vertical-align: middle;\n",
              "    }\n",
              "\n",
              "    .dataframe tbody tr th {\n",
              "        vertical-align: top;\n",
              "    }\n",
              "\n",
              "    .dataframe thead th {\n",
              "        text-align: right;\n",
              "    }\n",
              "</style>\n",
              "<table border=\"1\" class=\"dataframe\">\n",
              "  <thead>\n",
              "    <tr style=\"text-align: right;\">\n",
              "      <th></th>\n",
              "      <th>Open_vix_x</th>\n",
              "      <th>High_vix_x</th>\n",
              "      <th>Low_vix_x</th>\n",
              "      <th>Close_vix_x</th>\n",
              "      <th>Volume_vix_x</th>\n",
              "      <th>Tick Count_vix_x</th>\n",
              "      <th>Up Ticks_vix_x</th>\n",
              "      <th>Down Ticks_vix_x</th>\n",
              "      <th>Same Ticks_vix_x</th>\n",
              "      <th>Date and Time</th>\n",
              "      <th>volat_vix_c_to_c_1d_x</th>\n",
              "      <th>volat_vix_c_to_c_5d_x</th>\n",
              "      <th>volat_vix_c_to_c_1m_x</th>\n",
              "      <th>ratio_ma_Close_vix_10min_1d_x</th>\n",
              "      <th>ratio_ma_Close_vix_1d_5d_x</th>\n",
              "      <th>ratio_ma_Close_vix_1d_20d_x</th>\n",
              "      <th>ratio_ma_Volume_vix_10min_1d_x</th>\n",
              "      <th>ratio_ma_Volume_vix_1d_5d_x</th>\n",
              "      <th>ratio_ma_Volume_vix_1d_20d_x</th>\n",
              "      <th>Open_spx</th>\n",
              "      <th>High_spx</th>\n",
              "      <th>Low_spx</th>\n",
              "      <th>Close_spx</th>\n",
              "      <th>Tick Count_spx</th>\n",
              "      <th>Up Ticks_spx</th>\n",
              "      <th>Down Ticks_spx</th>\n",
              "      <th>Same Ticks_spx</th>\n",
              "      <th>adjusted_close_spx</th>\n",
              "      <th>volat_spx_c_to_c_1d</th>\n",
              "      <th>volat_spx_c_to_c_5d</th>\n",
              "      <th>volat_spx_c_to_c_1m</th>\n",
              "      <th>ratio_ma_Close_spx_10min_1d</th>\n",
              "      <th>ratio_ma_Close_spx_1d_5d</th>\n",
              "      <th>ratio_ma_Close_spx_1d_20d</th>\n",
              "      <th>ratio_ma_adjusted_close_spx_10min_1d</th>\n",
              "      <th>ratio_ma_adjusted_close_spx_1d_5d</th>\n",
              "      <th>ratio_ma_adjusted_close_spx_1d_20d</th>\n",
              "      <th>return_spx_c_to_c_1d</th>\n",
              "      <th>return_spx_c_to_c_1w</th>\n",
              "      <th>return_spx_c_to_c_1m</th>\n",
              "      <th>...</th>\n",
              "      <th>ratio_ma_Close_ux2_10min_1d</th>\n",
              "      <th>ratio_ma_Close_ux2_1d_5d</th>\n",
              "      <th>ratio_ma_Close_ux2_1d_20d</th>\n",
              "      <th>ratio_ma_Volume_ux2_10min_1d</th>\n",
              "      <th>ratio_ma_Volume_ux2_1d_5d</th>\n",
              "      <th>ratio_ma_Volume_ux2_1d_20d</th>\n",
              "      <th>Open_ux3</th>\n",
              "      <th>High_ux3</th>\n",
              "      <th>Low_ux3</th>\n",
              "      <th>Close_ux3</th>\n",
              "      <th>Volume_ux3</th>\n",
              "      <th>Tick Count_ux3</th>\n",
              "      <th>Up Ticks_ux3</th>\n",
              "      <th>Down Ticks_ux3</th>\n",
              "      <th>Same Ticks_ux3</th>\n",
              "      <th>volat_ux3_c_to_c_1d</th>\n",
              "      <th>volat_ux3_c_to_c_5d</th>\n",
              "      <th>volat_ux3_c_to_c_1m</th>\n",
              "      <th>ratio_ma_Close_ux3_10min_1d</th>\n",
              "      <th>ratio_ma_Close_ux3_1d_5d</th>\n",
              "      <th>ratio_ma_Close_ux3_1d_20d</th>\n",
              "      <th>ratio_ma_Volume_ux3_10min_1d</th>\n",
              "      <th>ratio_ma_Volume_ux3_1d_5d</th>\n",
              "      <th>ratio_ma_Volume_ux3_1d_20d</th>\n",
              "      <th>delta_with_future_1m</th>\n",
              "      <th>delta_with_future_2m</th>\n",
              "      <th>delta_with_future_3m</th>\n",
              "      <th>mae_delta_with_future_1m_1d</th>\n",
              "      <th>mae_delta_with_future_1m_1w</th>\n",
              "      <th>mae_delta_with_future_1m_1m</th>\n",
              "      <th>mae_delta_with_future_2m_1d</th>\n",
              "      <th>mae_delta_with_future_2m_1w</th>\n",
              "      <th>mae_delta_with_future_2m_1m</th>\n",
              "      <th>mae_delta_with_future_3m_1d</th>\n",
              "      <th>mae_delta_with_future_3m_1w</th>\n",
              "      <th>mae_delta_with_future_3m_1m</th>\n",
              "      <th>day</th>\n",
              "      <th>hour</th>\n",
              "      <th>minute</th>\n",
              "      <th>month</th>\n",
              "    </tr>\n",
              "  </thead>\n",
              "  <tbody>\n",
              "    <tr>\n",
              "      <th>0</th>\n",
              "      <td>4.8000</td>\n",
              "      <td>4.85</td>\n",
              "      <td>4.7000</td>\n",
              "      <td>4.7000</td>\n",
              "      <td>787001</td>\n",
              "      <td>1234</td>\n",
              "      <td>196</td>\n",
              "      <td>212</td>\n",
              "      <td>826</td>\n",
              "      <td>2012-07-02 14:40:00</td>\n",
              "      <td>0.085685</td>\n",
              "      <td>0.255362</td>\n",
              "      <td>0.405252</td>\n",
              "      <td>0.974851</td>\n",
              "      <td>0.954974</td>\n",
              "      <td>0.842751</td>\n",
              "      <td>17.620477</td>\n",
              "      <td>0.440480</td>\n",
              "      <td>0.286456</td>\n",
              "      <td>1362.33</td>\n",
              "      <td>1364.45</td>\n",
              "      <td>1360.93</td>\n",
              "      <td>1364.10</td>\n",
              "      <td>120</td>\n",
              "      <td>68</td>\n",
              "      <td>47</td>\n",
              "      <td>5</td>\n",
              "      <td>1364.10</td>\n",
              "      <td>2.674408</td>\n",
              "      <td>16.086486</td>\n",
              "      <td>15.419275</td>\n",
              "      <td>1.004531</td>\n",
              "      <td>1.016453</td>\n",
              "      <td>1.018794</td>\n",
              "      <td>1.004531</td>\n",
              "      <td>1.016453</td>\n",
              "      <td>1.018794</td>\n",
              "      <td>49.91</td>\n",
              "      <td>30.15</td>\n",
              "      <td>44.74</td>\n",
              "      <td>...</td>\n",
              "      <td>NaN</td>\n",
              "      <td>NaN</td>\n",
              "      <td>NaN</td>\n",
              "      <td>NaN</td>\n",
              "      <td>NaN</td>\n",
              "      <td>NaN</td>\n",
              "      <td>23.25</td>\n",
              "      <td>23.33</td>\n",
              "      <td>23.15</td>\n",
              "      <td>23.23</td>\n",
              "      <td>257</td>\n",
              "      <td>83</td>\n",
              "      <td>14</td>\n",
              "      <td>14</td>\n",
              "      <td>55</td>\n",
              "      <td>NaN</td>\n",
              "      <td>NaN</td>\n",
              "      <td>NaN</td>\n",
              "      <td>NaN</td>\n",
              "      <td>NaN</td>\n",
              "      <td>NaN</td>\n",
              "      <td>NaN</td>\n",
              "      <td>NaN</td>\n",
              "      <td>NaN</td>\n",
              "      <td>-14.5500</td>\n",
              "      <td>-16.8800</td>\n",
              "      <td>-18.5300</td>\n",
              "      <td>NaN</td>\n",
              "      <td>NaN</td>\n",
              "      <td>NaN</td>\n",
              "      <td>NaN</td>\n",
              "      <td>NaN</td>\n",
              "      <td>NaN</td>\n",
              "      <td>NaN</td>\n",
              "      <td>NaN</td>\n",
              "      <td>NaN</td>\n",
              "      <td>0</td>\n",
              "      <td>14</td>\n",
              "      <td>40</td>\n",
              "      <td>7</td>\n",
              "    </tr>\n",
              "    <tr>\n",
              "      <th>1</th>\n",
              "      <td>4.7100</td>\n",
              "      <td>4.71</td>\n",
              "      <td>4.5700</td>\n",
              "      <td>4.5899</td>\n",
              "      <td>1000263</td>\n",
              "      <td>1816</td>\n",
              "      <td>227</td>\n",
              "      <td>223</td>\n",
              "      <td>1366</td>\n",
              "      <td>2012-07-02 14:50:00</td>\n",
              "      <td>0.094579</td>\n",
              "      <td>0.253296</td>\n",
              "      <td>0.407838</td>\n",
              "      <td>0.954821</td>\n",
              "      <td>0.953789</td>\n",
              "      <td>0.840582</td>\n",
              "      <td>11.592777</td>\n",
              "      <td>0.788539</td>\n",
              "      <td>0.554845</td>\n",
              "      <td>1364.30</td>\n",
              "      <td>1366.35</td>\n",
              "      <td>1364.30</td>\n",
              "      <td>1365.74</td>\n",
              "      <td>120</td>\n",
              "      <td>63</td>\n",
              "      <td>48</td>\n",
              "      <td>9</td>\n",
              "      <td>1365.74</td>\n",
              "      <td>2.959452</td>\n",
              "      <td>16.304055</td>\n",
              "      <td>15.466582</td>\n",
              "      <td>1.005368</td>\n",
              "      <td>1.016601</td>\n",
              "      <td>1.019110</td>\n",
              "      <td>1.005368</td>\n",
              "      <td>1.016601</td>\n",
              "      <td>1.019110</td>\n",
              "      <td>50.66</td>\n",
              "      <td>32.93</td>\n",
              "      <td>47.79</td>\n",
              "      <td>...</td>\n",
              "      <td>NaN</td>\n",
              "      <td>NaN</td>\n",
              "      <td>NaN</td>\n",
              "      <td>NaN</td>\n",
              "      <td>NaN</td>\n",
              "      <td>NaN</td>\n",
              "      <td>23.20</td>\n",
              "      <td>23.21</td>\n",
              "      <td>22.90</td>\n",
              "      <td>22.98</td>\n",
              "      <td>331</td>\n",
              "      <td>166</td>\n",
              "      <td>26</td>\n",
              "      <td>33</td>\n",
              "      <td>107</td>\n",
              "      <td>NaN</td>\n",
              "      <td>NaN</td>\n",
              "      <td>NaN</td>\n",
              "      <td>NaN</td>\n",
              "      <td>NaN</td>\n",
              "      <td>NaN</td>\n",
              "      <td>NaN</td>\n",
              "      <td>NaN</td>\n",
              "      <td>NaN</td>\n",
              "      <td>-14.4301</td>\n",
              "      <td>-16.7101</td>\n",
              "      <td>-18.3901</td>\n",
              "      <td>NaN</td>\n",
              "      <td>NaN</td>\n",
              "      <td>NaN</td>\n",
              "      <td>NaN</td>\n",
              "      <td>NaN</td>\n",
              "      <td>NaN</td>\n",
              "      <td>NaN</td>\n",
              "      <td>NaN</td>\n",
              "      <td>NaN</td>\n",
              "      <td>0</td>\n",
              "      <td>14</td>\n",
              "      <td>50</td>\n",
              "      <td>7</td>\n",
              "    </tr>\n",
              "    <tr>\n",
              "      <th>2</th>\n",
              "      <td>4.5900</td>\n",
              "      <td>4.60</td>\n",
              "      <td>4.5300</td>\n",
              "      <td>4.5600</td>\n",
              "      <td>600198</td>\n",
              "      <td>1478</td>\n",
              "      <td>177</td>\n",
              "      <td>186</td>\n",
              "      <td>1115</td>\n",
              "      <td>2012-07-02 15:00:00</td>\n",
              "      <td>0.102156</td>\n",
              "      <td>0.252493</td>\n",
              "      <td>0.410570</td>\n",
              "      <td>0.951819</td>\n",
              "      <td>0.952139</td>\n",
              "      <td>0.838032</td>\n",
              "      <td>5.397632</td>\n",
              "      <td>0.972518</td>\n",
              "      <td>0.711351</td>\n",
              "      <td>1365.68</td>\n",
              "      <td>1366.15</td>\n",
              "      <td>1363.69</td>\n",
              "      <td>1363.69</td>\n",
              "      <td>120</td>\n",
              "      <td>34</td>\n",
              "      <td>75</td>\n",
              "      <td>11</td>\n",
              "      <td>1363.69</td>\n",
              "      <td>3.048460</td>\n",
              "      <td>16.484036</td>\n",
              "      <td>15.506067</td>\n",
              "      <td>1.003591</td>\n",
              "      <td>1.016658</td>\n",
              "      <td>1.019325</td>\n",
              "      <td>1.003591</td>\n",
              "      <td>1.016658</td>\n",
              "      <td>1.019325</td>\n",
              "      <td>47.59</td>\n",
              "      <td>29.95</td>\n",
              "      <td>45.64</td>\n",
              "      <td>...</td>\n",
              "      <td>NaN</td>\n",
              "      <td>NaN</td>\n",
              "      <td>NaN</td>\n",
              "      <td>NaN</td>\n",
              "      <td>NaN</td>\n",
              "      <td>NaN</td>\n",
              "      <td>22.96</td>\n",
              "      <td>23.05</td>\n",
              "      <td>22.84</td>\n",
              "      <td>23.00</td>\n",
              "      <td>419</td>\n",
              "      <td>169</td>\n",
              "      <td>30</td>\n",
              "      <td>28</td>\n",
              "      <td>111</td>\n",
              "      <td>NaN</td>\n",
              "      <td>NaN</td>\n",
              "      <td>NaN</td>\n",
              "      <td>NaN</td>\n",
              "      <td>NaN</td>\n",
              "      <td>NaN</td>\n",
              "      <td>NaN</td>\n",
              "      <td>NaN</td>\n",
              "      <td>NaN</td>\n",
              "      <td>-14.3900</td>\n",
              "      <td>-16.6600</td>\n",
              "      <td>-18.4400</td>\n",
              "      <td>NaN</td>\n",
              "      <td>NaN</td>\n",
              "      <td>NaN</td>\n",
              "      <td>NaN</td>\n",
              "      <td>NaN</td>\n",
              "      <td>NaN</td>\n",
              "      <td>NaN</td>\n",
              "      <td>NaN</td>\n",
              "      <td>NaN</td>\n",
              "      <td>0</td>\n",
              "      <td>15</td>\n",
              "      <td>0</td>\n",
              "      <td>7</td>\n",
              "    </tr>\n",
              "    <tr>\n",
              "      <th>3</th>\n",
              "      <td>4.5600</td>\n",
              "      <td>4.77</td>\n",
              "      <td>4.5588</td>\n",
              "      <td>4.7490</td>\n",
              "      <td>891071</td>\n",
              "      <td>2126</td>\n",
              "      <td>308</td>\n",
              "      <td>299</td>\n",
              "      <td>1519</td>\n",
              "      <td>2012-07-02 15:10:00</td>\n",
              "      <td>0.095848</td>\n",
              "      <td>0.248312</td>\n",
              "      <td>0.412464</td>\n",
              "      <td>0.993091</td>\n",
              "      <td>0.951734</td>\n",
              "      <td>0.836738</td>\n",
              "      <td>6.036683</td>\n",
              "      <td>1.212727</td>\n",
              "      <td>0.936887</td>\n",
              "      <td>1363.51</td>\n",
              "      <td>1363.76</td>\n",
              "      <td>1355.80</td>\n",
              "      <td>1356.60</td>\n",
              "      <td>120</td>\n",
              "      <td>53</td>\n",
              "      <td>63</td>\n",
              "      <td>4</td>\n",
              "      <td>1356.60</td>\n",
              "      <td>3.003990</td>\n",
              "      <td>16.575235</td>\n",
              "      <td>15.521330</td>\n",
              "      <td>0.998339</td>\n",
              "      <td>1.016527</td>\n",
              "      <td>1.019308</td>\n",
              "      <td>0.998339</td>\n",
              "      <td>1.016527</td>\n",
              "      <td>1.019308</td>\n",
              "      <td>38.19</td>\n",
              "      <td>24.44</td>\n",
              "      <td>41.74</td>\n",
              "      <td>...</td>\n",
              "      <td>NaN</td>\n",
              "      <td>NaN</td>\n",
              "      <td>NaN</td>\n",
              "      <td>NaN</td>\n",
              "      <td>NaN</td>\n",
              "      <td>NaN</td>\n",
              "      <td>23.00</td>\n",
              "      <td>23.50</td>\n",
              "      <td>23.00</td>\n",
              "      <td>23.45</td>\n",
              "      <td>453</td>\n",
              "      <td>204</td>\n",
              "      <td>47</td>\n",
              "      <td>37</td>\n",
              "      <td>120</td>\n",
              "      <td>NaN</td>\n",
              "      <td>NaN</td>\n",
              "      <td>NaN</td>\n",
              "      <td>NaN</td>\n",
              "      <td>NaN</td>\n",
              "      <td>NaN</td>\n",
              "      <td>NaN</td>\n",
              "      <td>NaN</td>\n",
              "      <td>NaN</td>\n",
              "      <td>-14.7510</td>\n",
              "      <td>-17.0010</td>\n",
              "      <td>-18.7010</td>\n",
              "      <td>NaN</td>\n",
              "      <td>NaN</td>\n",
              "      <td>NaN</td>\n",
              "      <td>NaN</td>\n",
              "      <td>NaN</td>\n",
              "      <td>NaN</td>\n",
              "      <td>NaN</td>\n",
              "      <td>NaN</td>\n",
              "      <td>NaN</td>\n",
              "      <td>0</td>\n",
              "      <td>15</td>\n",
              "      <td>10</td>\n",
              "      <td>7</td>\n",
              "    </tr>\n",
              "    <tr>\n",
              "      <th>4</th>\n",
              "      <td>4.7477</td>\n",
              "      <td>4.77</td>\n",
              "      <td>4.5824</td>\n",
              "      <td>4.6100</td>\n",
              "      <td>420382</td>\n",
              "      <td>1137</td>\n",
              "      <td>148</td>\n",
              "      <td>167</td>\n",
              "      <td>822</td>\n",
              "      <td>2012-07-02 15:20:00</td>\n",
              "      <td>0.095873</td>\n",
              "      <td>0.245462</td>\n",
              "      <td>0.414920</td>\n",
              "      <td>0.966804</td>\n",
              "      <td>0.950558</td>\n",
              "      <td>0.834612</td>\n",
              "      <td>2.546299</td>\n",
              "      <td>1.318792</td>\n",
              "      <td>1.043571</td>\n",
              "      <td>1356.60</td>\n",
              "      <td>1360.09</td>\n",
              "      <td>1356.46</td>\n",
              "      <td>1359.60</td>\n",
              "      <td>120</td>\n",
              "      <td>69</td>\n",
              "      <td>40</td>\n",
              "      <td>11</td>\n",
              "      <td>1359.60</td>\n",
              "      <td>2.952994</td>\n",
              "      <td>16.690044</td>\n",
              "      <td>15.540198</td>\n",
              "      <td>1.000443</td>\n",
              "      <td>1.016439</td>\n",
              "      <td>1.019357</td>\n",
              "      <td>1.000443</td>\n",
              "      <td>1.016439</td>\n",
              "      <td>1.019357</td>\n",
              "      <td>41.63</td>\n",
              "      <td>29.08</td>\n",
              "      <td>45.27</td>\n",
              "      <td>...</td>\n",
              "      <td>NaN</td>\n",
              "      <td>NaN</td>\n",
              "      <td>NaN</td>\n",
              "      <td>NaN</td>\n",
              "      <td>NaN</td>\n",
              "      <td>NaN</td>\n",
              "      <td>23.43</td>\n",
              "      <td>23.44</td>\n",
              "      <td>23.10</td>\n",
              "      <td>23.15</td>\n",
              "      <td>180</td>\n",
              "      <td>62</td>\n",
              "      <td>5</td>\n",
              "      <td>15</td>\n",
              "      <td>42</td>\n",
              "      <td>NaN</td>\n",
              "      <td>NaN</td>\n",
              "      <td>NaN</td>\n",
              "      <td>NaN</td>\n",
              "      <td>NaN</td>\n",
              "      <td>NaN</td>\n",
              "      <td>NaN</td>\n",
              "      <td>NaN</td>\n",
              "      <td>NaN</td>\n",
              "      <td>-14.7400</td>\n",
              "      <td>-16.8900</td>\n",
              "      <td>-18.5400</td>\n",
              "      <td>NaN</td>\n",
              "      <td>NaN</td>\n",
              "      <td>NaN</td>\n",
              "      <td>NaN</td>\n",
              "      <td>NaN</td>\n",
              "      <td>NaN</td>\n",
              "      <td>NaN</td>\n",
              "      <td>NaN</td>\n",
              "      <td>NaN</td>\n",
              "      <td>0</td>\n",
              "      <td>15</td>\n",
              "      <td>20</td>\n",
              "      <td>7</td>\n",
              "    </tr>\n",
              "  </tbody>\n",
              "</table>\n",
              "<p>5 rows × 129 columns</p>\n",
              "</div>"
            ],
            "text/plain": [
              "   Open_vix_x  High_vix_x  Low_vix_x  Close_vix_x  ...  day  hour  minute  month\n",
              "0      4.8000        4.85     4.7000       4.7000  ...    0    14      40      7\n",
              "1      4.7100        4.71     4.5700       4.5899  ...    0    14      50      7\n",
              "2      4.5900        4.60     4.5300       4.5600  ...    0    15       0      7\n",
              "3      4.5600        4.77     4.5588       4.7490  ...    0    15      10      7\n",
              "4      4.7477        4.77     4.5824       4.6100  ...    0    15      20      7\n",
              "\n",
              "[5 rows x 129 columns]"
            ]
          },
          "metadata": {
            "tags": []
          },
          "execution_count": 50
        }
      ]
    },
    {
      "cell_type": "code",
      "metadata": {
        "id": "uSpd8MQ4bUw5",
        "colab_type": "code",
        "colab": {}
      },
      "source": [
        "threshold_std = target_series.rolling(9*6).std() / 5\n",
        "\n",
        "df['target_up'] = target_series.shift(-1) > target_series + threshold_std\n",
        "df['target_down'] = target_series.shift(-1) < target_series - threshold_std\n",
        "df['target_stay'] = np.abs(target_series.shift(-1) - target_series) <= threshold_std"
      ],
      "execution_count": 0,
      "outputs": []
    },
    {
      "cell_type": "code",
      "metadata": {
        "id": "1g4No1mgbUzl",
        "colab_type": "code",
        "colab": {}
      },
      "source": [
        "targets_array = df[['target_down', 'target_stay', 'target_up']].values\n",
        "df['target'] = np.array([elt.tolist().index(True) if True in elt else 1 for elt in targets_array])"
      ],
      "execution_count": 0,
      "outputs": []
    },
    {
      "cell_type": "code",
      "metadata": {
        "id": "Rj0wgXT2bU0G",
        "colab_type": "code",
        "colab": {}
      },
      "source": [
        "df['bips'] = target_series.shift(-1)/target_series"
      ],
      "execution_count": 0,
      "outputs": []
    },
    {
      "cell_type": "code",
      "metadata": {
        "id": "m-yyayAzbU0m",
        "colab_type": "code",
        "colab": {}
      },
      "source": [
        "df.drop(['target_down', 'target_stay', 'target_up'], axis = 1, inplace = True)"
      ],
      "execution_count": 0,
      "outputs": []
    },
    {
      "cell_type": "markdown",
      "metadata": {
        "id": "LEsfbr96bU0t",
        "colab_type": "text"
      },
      "source": [
        "# Build cross features and choose final ones"
      ]
    },
    {
      "cell_type": "code",
      "metadata": {
        "scrolled": true,
        "id": "7L2w3JcFbU0u",
        "colab_type": "code",
        "outputId": "09849bf9-df11-4f9c-81fe-6458533b78a4",
        "colab": {
          "base_uri": "https://localhost:8080/",
          "height": 151
        }
      },
      "source": [
        "df.columns"
      ],
      "execution_count": 0,
      "outputs": [
        {
          "output_type": "execute_result",
          "data": {
            "text/plain": [
              "Index(['Open_vix_x', 'High_vix_x', 'Low_vix_x', 'Close_vix_x', 'Volume_vix_x',\n",
              "       'Tick Count_vix_x', 'Up Ticks_vix_x', 'Down Ticks_vix_x',\n",
              "       'Same Ticks_vix_x', 'Date and Time',\n",
              "       ...\n",
              "       'mae_delta_with_future_2m_1m', 'mae_delta_with_future_3m_1d',\n",
              "       'mae_delta_with_future_3m_1w', 'mae_delta_with_future_3m_1m', 'day',\n",
              "       'hour', 'minute', 'month', 'target', 'bips'],\n",
              "      dtype='object', length=131)"
            ]
          },
          "metadata": {
            "tags": []
          },
          "execution_count": 55
        }
      ]
    },
    {
      "cell_type": "code",
      "metadata": {
        "id": "sdVlWP7CbU03",
        "colab_type": "code",
        "colab": {}
      },
      "source": [
        "df['Close_ux2'] = np.clip(df.Close_ux2, 0.001, 100)\n",
        "df['Close_ux3'] = np.clip(df.Close_ux3, 0.001, 100)"
      ],
      "execution_count": 0,
      "outputs": []
    },
    {
      "cell_type": "code",
      "metadata": {
        "id": "6ziLznRSbU4_",
        "colab_type": "code",
        "colab": {}
      },
      "source": [
        "df['close_ux1/ux2'] = df.Close_ux1/df.Close_ux2\n",
        "df['close_ux2/ux3'] = df.Close_ux2/df.Close_ux3"
      ],
      "execution_count": 0,
      "outputs": []
    },
    {
      "cell_type": "code",
      "metadata": {
        "id": "GZOqwZ75bU5H",
        "colab_type": "code",
        "colab": {}
      },
      "source": [
        "add_rollings(df, 'close_ux1/ux2')\n"
      ],
      "execution_count": 0,
      "outputs": []
    },
    {
      "cell_type": "code",
      "metadata": {
        "id": "suy0IGn9bU5L",
        "colab_type": "code",
        "outputId": "ec5077db-6be6-4afc-badd-9af145c0f9a2",
        "colab": {
          "base_uri": "https://localhost:8080/",
          "height": 690
        }
      },
      "source": [
        "for name in ['vix', 'spx', 'ux1', 'ux2', 'ux3']:\n",
        "    df['ratio_ticks_'+name] = df['Up Ticks_'+name]/np.clip(df['Down Ticks_'+name], 1, 10000)"
      ],
      "execution_count": 0,
      "outputs": [
        {
          "output_type": "error",
          "ename": "KeyError",
          "evalue": "ignored",
          "traceback": [
            "\u001b[0;31m---------------------------------------------------------------------------\u001b[0m",
            "\u001b[0;31mKeyError\u001b[0m                                  Traceback (most recent call last)",
            "\u001b[0;32m/usr/local/lib/python3.6/dist-packages/pandas/core/indexes/base.py\u001b[0m in \u001b[0;36mget_loc\u001b[0;34m(self, key, method, tolerance)\u001b[0m\n\u001b[1;32m   2896\u001b[0m             \u001b[0;32mtry\u001b[0m\u001b[0;34m:\u001b[0m\u001b[0;34m\u001b[0m\u001b[0;34m\u001b[0m\u001b[0m\n\u001b[0;32m-> 2897\u001b[0;31m                 \u001b[0;32mreturn\u001b[0m \u001b[0mself\u001b[0m\u001b[0;34m.\u001b[0m\u001b[0m_engine\u001b[0m\u001b[0;34m.\u001b[0m\u001b[0mget_loc\u001b[0m\u001b[0;34m(\u001b[0m\u001b[0mkey\u001b[0m\u001b[0;34m)\u001b[0m\u001b[0;34m\u001b[0m\u001b[0;34m\u001b[0m\u001b[0m\n\u001b[0m\u001b[1;32m   2898\u001b[0m             \u001b[0;32mexcept\u001b[0m \u001b[0mKeyError\u001b[0m\u001b[0;34m:\u001b[0m\u001b[0;34m\u001b[0m\u001b[0;34m\u001b[0m\u001b[0m\n",
            "\u001b[0;32mpandas/_libs/index.pyx\u001b[0m in \u001b[0;36mpandas._libs.index.IndexEngine.get_loc\u001b[0;34m()\u001b[0m\n",
            "\u001b[0;32mpandas/_libs/index.pyx\u001b[0m in \u001b[0;36mpandas._libs.index.IndexEngine.get_loc\u001b[0;34m()\u001b[0m\n",
            "\u001b[0;32mpandas/_libs/hashtable_class_helper.pxi\u001b[0m in \u001b[0;36mpandas._libs.hashtable.PyObjectHashTable.get_item\u001b[0;34m()\u001b[0m\n",
            "\u001b[0;32mpandas/_libs/hashtable_class_helper.pxi\u001b[0m in \u001b[0;36mpandas._libs.hashtable.PyObjectHashTable.get_item\u001b[0;34m()\u001b[0m\n",
            "\u001b[0;31mKeyError\u001b[0m: 'Up Ticks_vix'",
            "\nDuring handling of the above exception, another exception occurred:\n",
            "\u001b[0;31mKeyError\u001b[0m                                  Traceback (most recent call last)",
            "\u001b[0;32m<ipython-input-59-09d0f98acdca>\u001b[0m in \u001b[0;36m<module>\u001b[0;34m()\u001b[0m\n\u001b[1;32m      1\u001b[0m \u001b[0;32mfor\u001b[0m \u001b[0mname\u001b[0m \u001b[0;32min\u001b[0m \u001b[0;34m[\u001b[0m\u001b[0;34m'vix'\u001b[0m\u001b[0;34m,\u001b[0m \u001b[0;34m'spx'\u001b[0m\u001b[0;34m,\u001b[0m \u001b[0;34m'ux1'\u001b[0m\u001b[0;34m,\u001b[0m \u001b[0;34m'ux2'\u001b[0m\u001b[0;34m,\u001b[0m \u001b[0;34m'ux3'\u001b[0m\u001b[0;34m]\u001b[0m\u001b[0;34m:\u001b[0m\u001b[0;34m\u001b[0m\u001b[0;34m\u001b[0m\u001b[0m\n\u001b[0;32m----> 2\u001b[0;31m     \u001b[0mdf\u001b[0m\u001b[0;34m[\u001b[0m\u001b[0;34m'ratio_ticks_'\u001b[0m\u001b[0;34m+\u001b[0m\u001b[0mname\u001b[0m\u001b[0;34m]\u001b[0m \u001b[0;34m=\u001b[0m \u001b[0mdf\u001b[0m\u001b[0;34m[\u001b[0m\u001b[0;34m'Up Ticks_'\u001b[0m\u001b[0;34m+\u001b[0m\u001b[0mname\u001b[0m\u001b[0;34m]\u001b[0m\u001b[0;34m/\u001b[0m\u001b[0mnp\u001b[0m\u001b[0;34m.\u001b[0m\u001b[0mclip\u001b[0m\u001b[0;34m(\u001b[0m\u001b[0mdf\u001b[0m\u001b[0;34m[\u001b[0m\u001b[0;34m'Down Ticks_'\u001b[0m\u001b[0;34m+\u001b[0m\u001b[0mname\u001b[0m\u001b[0;34m]\u001b[0m\u001b[0;34m,\u001b[0m \u001b[0;36m1\u001b[0m\u001b[0;34m,\u001b[0m \u001b[0;36m10000\u001b[0m\u001b[0;34m)\u001b[0m\u001b[0;34m\u001b[0m\u001b[0;34m\u001b[0m\u001b[0m\n\u001b[0m",
            "\u001b[0;32m/usr/local/lib/python3.6/dist-packages/pandas/core/frame.py\u001b[0m in \u001b[0;36m__getitem__\u001b[0;34m(self, key)\u001b[0m\n\u001b[1;32m   2993\u001b[0m             \u001b[0;32mif\u001b[0m \u001b[0mself\u001b[0m\u001b[0;34m.\u001b[0m\u001b[0mcolumns\u001b[0m\u001b[0;34m.\u001b[0m\u001b[0mnlevels\u001b[0m \u001b[0;34m>\u001b[0m \u001b[0;36m1\u001b[0m\u001b[0;34m:\u001b[0m\u001b[0;34m\u001b[0m\u001b[0;34m\u001b[0m\u001b[0m\n\u001b[1;32m   2994\u001b[0m                 \u001b[0;32mreturn\u001b[0m \u001b[0mself\u001b[0m\u001b[0;34m.\u001b[0m\u001b[0m_getitem_multilevel\u001b[0m\u001b[0;34m(\u001b[0m\u001b[0mkey\u001b[0m\u001b[0;34m)\u001b[0m\u001b[0;34m\u001b[0m\u001b[0;34m\u001b[0m\u001b[0m\n\u001b[0;32m-> 2995\u001b[0;31m             \u001b[0mindexer\u001b[0m \u001b[0;34m=\u001b[0m \u001b[0mself\u001b[0m\u001b[0;34m.\u001b[0m\u001b[0mcolumns\u001b[0m\u001b[0;34m.\u001b[0m\u001b[0mget_loc\u001b[0m\u001b[0;34m(\u001b[0m\u001b[0mkey\u001b[0m\u001b[0;34m)\u001b[0m\u001b[0;34m\u001b[0m\u001b[0;34m\u001b[0m\u001b[0m\n\u001b[0m\u001b[1;32m   2996\u001b[0m             \u001b[0;32mif\u001b[0m \u001b[0mis_integer\u001b[0m\u001b[0;34m(\u001b[0m\u001b[0mindexer\u001b[0m\u001b[0;34m)\u001b[0m\u001b[0;34m:\u001b[0m\u001b[0;34m\u001b[0m\u001b[0;34m\u001b[0m\u001b[0m\n\u001b[1;32m   2997\u001b[0m                 \u001b[0mindexer\u001b[0m \u001b[0;34m=\u001b[0m \u001b[0;34m[\u001b[0m\u001b[0mindexer\u001b[0m\u001b[0;34m]\u001b[0m\u001b[0;34m\u001b[0m\u001b[0;34m\u001b[0m\u001b[0m\n",
            "\u001b[0;32m/usr/local/lib/python3.6/dist-packages/pandas/core/indexes/base.py\u001b[0m in \u001b[0;36mget_loc\u001b[0;34m(self, key, method, tolerance)\u001b[0m\n\u001b[1;32m   2897\u001b[0m                 \u001b[0;32mreturn\u001b[0m \u001b[0mself\u001b[0m\u001b[0;34m.\u001b[0m\u001b[0m_engine\u001b[0m\u001b[0;34m.\u001b[0m\u001b[0mget_loc\u001b[0m\u001b[0;34m(\u001b[0m\u001b[0mkey\u001b[0m\u001b[0;34m)\u001b[0m\u001b[0;34m\u001b[0m\u001b[0;34m\u001b[0m\u001b[0m\n\u001b[1;32m   2898\u001b[0m             \u001b[0;32mexcept\u001b[0m \u001b[0mKeyError\u001b[0m\u001b[0;34m:\u001b[0m\u001b[0;34m\u001b[0m\u001b[0;34m\u001b[0m\u001b[0m\n\u001b[0;32m-> 2899\u001b[0;31m                 \u001b[0;32mreturn\u001b[0m \u001b[0mself\u001b[0m\u001b[0;34m.\u001b[0m\u001b[0m_engine\u001b[0m\u001b[0;34m.\u001b[0m\u001b[0mget_loc\u001b[0m\u001b[0;34m(\u001b[0m\u001b[0mself\u001b[0m\u001b[0;34m.\u001b[0m\u001b[0m_maybe_cast_indexer\u001b[0m\u001b[0;34m(\u001b[0m\u001b[0mkey\u001b[0m\u001b[0;34m)\u001b[0m\u001b[0;34m)\u001b[0m\u001b[0;34m\u001b[0m\u001b[0;34m\u001b[0m\u001b[0m\n\u001b[0m\u001b[1;32m   2900\u001b[0m         \u001b[0mindexer\u001b[0m \u001b[0;34m=\u001b[0m \u001b[0mself\u001b[0m\u001b[0;34m.\u001b[0m\u001b[0mget_indexer\u001b[0m\u001b[0;34m(\u001b[0m\u001b[0;34m[\u001b[0m\u001b[0mkey\u001b[0m\u001b[0;34m]\u001b[0m\u001b[0;34m,\u001b[0m \u001b[0mmethod\u001b[0m\u001b[0;34m=\u001b[0m\u001b[0mmethod\u001b[0m\u001b[0;34m,\u001b[0m \u001b[0mtolerance\u001b[0m\u001b[0;34m=\u001b[0m\u001b[0mtolerance\u001b[0m\u001b[0;34m)\u001b[0m\u001b[0;34m\u001b[0m\u001b[0;34m\u001b[0m\u001b[0m\n\u001b[1;32m   2901\u001b[0m         \u001b[0;32mif\u001b[0m \u001b[0mindexer\u001b[0m\u001b[0;34m.\u001b[0m\u001b[0mndim\u001b[0m \u001b[0;34m>\u001b[0m \u001b[0;36m1\u001b[0m \u001b[0;32mor\u001b[0m \u001b[0mindexer\u001b[0m\u001b[0;34m.\u001b[0m\u001b[0msize\u001b[0m \u001b[0;34m>\u001b[0m \u001b[0;36m1\u001b[0m\u001b[0;34m:\u001b[0m\u001b[0;34m\u001b[0m\u001b[0;34m\u001b[0m\u001b[0m\n",
            "\u001b[0;32mpandas/_libs/index.pyx\u001b[0m in \u001b[0;36mpandas._libs.index.IndexEngine.get_loc\u001b[0;34m()\u001b[0m\n",
            "\u001b[0;32mpandas/_libs/index.pyx\u001b[0m in \u001b[0;36mpandas._libs.index.IndexEngine.get_loc\u001b[0;34m()\u001b[0m\n",
            "\u001b[0;32mpandas/_libs/hashtable_class_helper.pxi\u001b[0m in \u001b[0;36mpandas._libs.hashtable.PyObjectHashTable.get_item\u001b[0;34m()\u001b[0m\n",
            "\u001b[0;32mpandas/_libs/hashtable_class_helper.pxi\u001b[0m in \u001b[0;36mpandas._libs.hashtable.PyObjectHashTable.get_item\u001b[0;34m()\u001b[0m\n",
            "\u001b[0;31mKeyError\u001b[0m: 'Up Ticks_vix'"
          ]
        }
      ]
    },
    {
      "cell_type": "code",
      "metadata": {
        "id": "aMav227kbU5U",
        "colab_type": "code",
        "colab": {}
      },
      "source": [
        "train_features = [\n",
        " 'ratio_ma_Close_ux1_1d_20d',      \n",
        " 'ratio_ma_Close_spx_10min_1d',\n",
        " 'ratio_ma_Close_vix_10min_1d',\n",
        "\n",
        "    \n",
        " 'ratio_ticks_vix',\n",
        "\n",
        " 'volat_spx_c_to_c_1d',\n",
        " 'close_ux1/ux2', \n",
        " 'returns_ux1',\n",
        "    \n",
        "  'month', 'hour', 'day'\n",
        "                 ]"
      ],
      "execution_count": 0,
      "outputs": []
    },
    {
      "cell_type": "code",
      "metadata": {
        "scrolled": true,
        "id": "3ioZWoDPbU5Y",
        "colab_type": "code",
        "outputId": "e414d89d-4dc9-46a0-c6d5-cc13444178f2",
        "colab": {
          "base_uri": "https://localhost:8080/",
          "height": 1000
        }
      },
      "source": [
        "np.abs(df.corr()['target']).sort_values().to_dict()"
      ],
      "execution_count": 0,
      "outputs": [
        {
          "output_type": "execute_result",
          "data": {
            "text/plain": [
              "{'Close_spx': 0.009648906163926229,\n",
              " 'Close_ux1': 0.009528504794981145,\n",
              " 'Close_ux2': 0.00888425671293047,\n",
              " 'Close_ux3': 0.007166692120335526,\n",
              " 'Close_vix_x': 0.017258158602511404,\n",
              " 'Close_vix_y': 0.017258158602511404,\n",
              " 'Down Ticks_spx': 0.018103482109183854,\n",
              " 'Down Ticks_ux1': 0.002565968956360386,\n",
              " 'Down Ticks_ux2': 0.0026280618545173567,\n",
              " 'Down Ticks_ux3': 0.0018301759169159111,\n",
              " 'Down Ticks_vix_x': 0.009577492164665724,\n",
              " 'Down Ticks_vix_y': 0.009577492164665724,\n",
              " 'High_spx': 0.009687952979543998,\n",
              " 'High_ux1': 0.009023798621951419,\n",
              " 'High_ux2': 0.008373328049759798,\n",
              " 'High_ux3': 0.00673321493175448,\n",
              " 'High_vix_x': 0.01705908674268618,\n",
              " 'High_vix_y': 0.01705908674268618,\n",
              " 'Low_spx': 0.009655755496521047,\n",
              " 'Low_ux1': 0.009114022764684069,\n",
              " 'Low_ux2': 0.00845598201466464,\n",
              " 'Low_ux3': 0.006745233954071457,\n",
              " 'Low_vix_x': 0.017059440188681663,\n",
              " 'Low_vix_y': 0.017059440188681663,\n",
              " 'Open_spx': 0.009668171746869429,\n",
              " 'Open_ux1': 0.008974616653410034,\n",
              " 'Open_ux2': 0.008293691055488652,\n",
              " 'Open_ux3': 0.006629224186232507,\n",
              " 'Open_vix_x': 0.016996979827012947,\n",
              " 'Open_vix_y': 0.016996979827012947,\n",
              " 'Same Ticks_spx': 0.001988525345581216,\n",
              " 'Same Ticks_ux1': 0.006685732953060356,\n",
              " 'Same Ticks_ux2': 0.005127396694559015,\n",
              " 'Same Ticks_ux3': 0.005431785855344343,\n",
              " 'Same Ticks_vix_x': 0.005271668708826294,\n",
              " 'Same Ticks_vix_y': 0.005271668708826294,\n",
              " 'Tick Count_spx': 0.010125365600717714,\n",
              " 'Tick Count_ux1': 0.005009899484382023,\n",
              " 'Tick Count_ux2': 0.0034160966757394062,\n",
              " 'Tick Count_ux3': 0.003789153372796433,\n",
              " 'Tick Count_vix_x': 0.006985003198061449,\n",
              " 'Tick Count_vix_y': 0.006985003198061449,\n",
              " 'Up Ticks_spx': 0.009260090990377966,\n",
              " 'Up Ticks_ux1': 0.0014640729658943032,\n",
              " 'Up Ticks_ux2': 0.0012424921341082811,\n",
              " 'Up Ticks_ux3': 0.00022800629663813414,\n",
              " 'Up Ticks_vix_x': 0.010525436035233706,\n",
              " 'Up Ticks_vix_y': 0.010525436035233706,\n",
              " 'Volume_ux1': 0.0022996330379504858,\n",
              " 'Volume_ux2': 0.00014902410066482125,\n",
              " 'Volume_ux3': 0.0020428395547462002,\n",
              " 'Volume_vix_x': 0.0003118426832830032,\n",
              " 'Volume_vix_y': 0.0003118426832830032,\n",
              " 'adjusted_close_spx': 0.009648906163926229,\n",
              " 'bips': 0.4683096476288841,\n",
              " 'close_ux1/ux2': 0.007911209766730981,\n",
              " 'close_ux2/ux3': 0.012018734117628532,\n",
              " 'day': 0.008212564867478737,\n",
              " 'delta_with_future_1m': 0.01528619348065575,\n",
              " 'delta_with_future_2m': 0.015597294679494451,\n",
              " 'delta_with_future_3m': 0.01582710362110587,\n",
              " 'hour': 0.005429435637173236,\n",
              " 'mae_close_ux1/ux2_1d': 0.007107043411363795,\n",
              " 'mae_close_ux1/ux2_1m': 0.004560117055213237,\n",
              " 'mae_close_ux1/ux2_1w': 0.003926461724257779,\n",
              " 'mae_delta_with_future_1m_1d': 0.006010405844267948,\n",
              " 'mae_delta_with_future_1m_1m': 0.011035228554734313,\n",
              " 'mae_delta_with_future_1m_1w': 0.008702392086322076,\n",
              " 'mae_delta_with_future_2m_1d': 0.006037826107203607,\n",
              " 'mae_delta_with_future_2m_1m': 0.011537285486984558,\n",
              " 'mae_delta_with_future_2m_1w': 0.00926105815653564,\n",
              " 'mae_delta_with_future_3m_1d': 0.00605171110058883,\n",
              " 'mae_delta_with_future_3m_1m': 0.011813701269867844,\n",
              " 'mae_delta_with_future_3m_1w': 0.009756130800870282,\n",
              " 'minute': 0.0014293800613999557,\n",
              " 'month': 0.005634263713523987,\n",
              " 'ratio_ma_Close_spx_10min_1d': 0.007792671877425567,\n",
              " 'ratio_ma_Close_spx_1d_20d': 0.004964941308191413,\n",
              " 'ratio_ma_Close_spx_1d_5d': 0.0003245876664634694,\n",
              " 'ratio_ma_Close_ux1_10min_1d': 0.0116260910985108,\n",
              " 'ratio_ma_Close_ux1_1d_20d': 0.006640531383131933,\n",
              " 'ratio_ma_Close_ux1_1d_5d': 0.010143115585868997,\n",
              " 'ratio_ma_Close_ux2_10min_1d': 0.014332430572251548,\n",
              " 'ratio_ma_Close_ux2_1d_20d': 0.006994816402510573,\n",
              " 'ratio_ma_Close_ux2_1d_5d': 0.010914254628946025,\n",
              " 'ratio_ma_Close_ux3_10min_1d': 0.014603658153733903,\n",
              " 'ratio_ma_Close_ux3_1d_20d': 0.0065194987824513185,\n",
              " 'ratio_ma_Close_ux3_1d_5d': 0.010465358911145294,\n",
              " 'ratio_ma_Close_vix_10min_1d_x': 0.016949431182342885,\n",
              " 'ratio_ma_Close_vix_10min_1d_y': 0.016949431182342885,\n",
              " 'ratio_ma_Close_vix_1d_20d_x': 0.0036425529583215843,\n",
              " 'ratio_ma_Close_vix_1d_20d_y': 0.0036425529583215843,\n",
              " 'ratio_ma_Close_vix_1d_5d_x': 0.002663176763864573,\n",
              " 'ratio_ma_Close_vix_1d_5d_y': 0.002663176763864573,\n",
              " 'ratio_ma_Volume_ux1_10min_1d': 0.0012671215424821369,\n",
              " 'ratio_ma_Volume_ux1_1d_20d': 0.0011434844542651944,\n",
              " 'ratio_ma_Volume_ux1_1d_5d': 0.005137440104945515,\n",
              " 'ratio_ma_Volume_ux2_10min_1d': 0.0011759318908128487,\n",
              " 'ratio_ma_Volume_ux2_1d_20d': 0.0029939693570470017,\n",
              " 'ratio_ma_Volume_ux2_1d_5d': 0.005392691438972388,\n",
              " 'ratio_ma_Volume_ux3_10min_1d': 0.00042165226086718447,\n",
              " 'ratio_ma_Volume_ux3_1d_20d': 0.0006537161784576956,\n",
              " 'ratio_ma_Volume_ux3_1d_5d': 0.005330725110020652,\n",
              " 'ratio_ma_Volume_vix_10min_1d_x': 0.0011812885410584471,\n",
              " 'ratio_ma_Volume_vix_10min_1d_y': 0.0011812885410584471,\n",
              " 'ratio_ma_Volume_vix_1d_20d_x': 0.0013120059059907646,\n",
              " 'ratio_ma_Volume_vix_1d_20d_y': 0.0013120059059907646,\n",
              " 'ratio_ma_Volume_vix_1d_5d_x': 0.0011403862362501592,\n",
              " 'ratio_ma_Volume_vix_1d_5d_y': 0.0011403862362501592,\n",
              " 'ratio_ma_adjusted_close_spx_10min_1d': 0.007792671877425567,\n",
              " 'ratio_ma_adjusted_close_spx_1d_20d': 0.004964941308191413,\n",
              " 'ratio_ma_adjusted_close_spx_1d_5d': 0.0003245876664634694,\n",
              " 'return_spx_c_to_c_1d': 0.004291160398223602,\n",
              " 'return_spx_c_to_c_1m': 0.007751951946329281,\n",
              " 'return_spx_c_to_c_1w': 0.00341149276539672,\n",
              " 'returns_ux1': 0.006810077579476976,\n",
              " 'target': 1.0,\n",
              " 'volat_spx_c_to_c_1d': 0.002001377562596122,\n",
              " 'volat_spx_c_to_c_1m': 0.004628998779859752,\n",
              " 'volat_spx_c_to_c_5d': 0.007252539128001311,\n",
              " 'volat_ux1_c_to_c_1d': 0.000933169646391234,\n",
              " 'volat_ux1_c_to_c_1m': 0.0019281133015682827,\n",
              " 'volat_ux1_c_to_c_5d': 0.0003183397903327107,\n",
              " 'volat_ux2_c_to_c_1d': 2.6906721778804218e-05,\n",
              " 'volat_ux2_c_to_c_1m': 0.005078520925396637,\n",
              " 'volat_ux2_c_to_c_5d': 0.0012944427490651329,\n",
              " 'volat_ux3_c_to_c_1d': 0.0012010171616504341,\n",
              " 'volat_ux3_c_to_c_1m': 0.0036590896214668497,\n",
              " 'volat_ux3_c_to_c_5d': 0.0026098613907496234,\n",
              " 'volat_vix_c_to_c_1d_x': 0.010394662173358632,\n",
              " 'volat_vix_c_to_c_1d_y': 0.010394662173358632,\n",
              " 'volat_vix_c_to_c_1m_x': 0.008991972915327167,\n",
              " 'volat_vix_c_to_c_1m_y': 0.008991972915327167,\n",
              " 'volat_vix_c_to_c_5d_x': 0.00572312773298102,\n",
              " 'volat_vix_c_to_c_5d_y': 0.00572312773298102}"
            ]
          },
          "metadata": {
            "tags": []
          },
          "execution_count": 61
        }
      ]
    },
    {
      "cell_type": "markdown",
      "metadata": {
        "id": "4OpGKKarbU5j",
        "colab_type": "text"
      },
      "source": [
        "# Separate train from test"
      ]
    },
    {
      "cell_type": "code",
      "metadata": {
        "id": "XTZeki4cbU5l",
        "colab_type": "code",
        "colab": {}
      },
      "source": [
        "df_train = df[df['Date and Time']<'2018-06-01']\n",
        "df_test = df[df['Date and Time']>'2018-06-01']"
      ],
      "execution_count": 0,
      "outputs": []
    },
    {
      "cell_type": "code",
      "metadata": {
        "id": "E1pYoOw0bU8J",
        "colab_type": "code",
        "colab": {}
      },
      "source": [
        "def build_X_Y(df, train_features):\n",
        "    X = df[train_features]\n",
        "    Y = df['target']\n",
        "    return X, Y"
      ],
      "execution_count": 0,
      "outputs": []
    },
    {
      "cell_type": "code",
      "metadata": {
        "id": "NEbPZcehbU8N",
        "colab_type": "code",
        "outputId": "571b0acd-e8f9-482c-f2c4-b9bd45615211",
        "colab": {
          "base_uri": "https://localhost:8080/",
          "height": 34
        }
      },
      "source": [
        "df_train.shape"
      ],
      "execution_count": 0,
      "outputs": [
        {
          "output_type": "execute_result",
          "data": {
            "text/plain": [
              "(56958, 136)"
            ]
          },
          "metadata": {
            "tags": []
          },
          "execution_count": 64
        }
      ]
    },
    {
      "cell_type": "code",
      "metadata": {
        "id": "xwFgxoTRbU8R",
        "colab_type": "code",
        "colab": {}
      },
      "source": [
        "df_train = df_train.dropna(axis = 0)"
      ],
      "execution_count": 0,
      "outputs": []
    },
    {
      "cell_type": "code",
      "metadata": {
        "id": "95DZwY0mbU80",
        "colab_type": "code",
        "outputId": "78db5442-f8b4-49f3-a112-28b023e1d911",
        "colab": {
          "base_uri": "https://localhost:8080/",
          "height": 168
        }
      },
      "source": [
        "df_train['close_ux1/ux2'].describe()"
      ],
      "execution_count": 0,
      "outputs": [
        {
          "output_type": "execute_result",
          "data": {
            "text/plain": [
              "count    55879.000000\n",
              "mean         0.942592\n",
              "std          0.053172\n",
              "min          0.787588\n",
              "25%          0.908321\n",
              "50%          0.936607\n",
              "75%          0.967478\n",
              "max          1.402141\n",
              "Name: close_ux1/ux2, dtype: float64"
            ]
          },
          "metadata": {
            "tags": []
          },
          "execution_count": 66
        }
      ]
    },
    {
      "cell_type": "code",
      "metadata": {
        "id": "qXDB31lBbU88",
        "colab_type": "code",
        "outputId": "9119e1e8-0d79-409b-c9c0-93f9366ee60b",
        "colab": {
          "base_uri": "https://localhost:8080/",
          "height": 34
        }
      },
      "source": [
        "df_train.shape"
      ],
      "execution_count": 0,
      "outputs": [
        {
          "output_type": "execute_result",
          "data": {
            "text/plain": [
              "(55879, 136)"
            ]
          },
          "metadata": {
            "tags": []
          },
          "execution_count": 67
        }
      ]
    },
    {
      "cell_type": "code",
      "metadata": {
        "id": "f6L39q2NbU9C",
        "colab_type": "code",
        "outputId": "468ae820-9896-4218-b814-ae4d3b831225",
        "colab": {
          "base_uri": "https://localhost:8080/",
          "height": 320
        }
      },
      "source": [
        "X_train, y_train = build_X_Y(df_train, train_features)\n",
        "X_test, y_test = build_X_Y(df_test, train_features)"
      ],
      "execution_count": 0,
      "outputs": [
        {
          "output_type": "error",
          "ename": "KeyError",
          "evalue": "ignored",
          "traceback": [
            "\u001b[0;31m---------------------------------------------------------------------------\u001b[0m",
            "\u001b[0;31mKeyError\u001b[0m                                  Traceback (most recent call last)",
            "\u001b[0;32m<ipython-input-68-74a16538a499>\u001b[0m in \u001b[0;36m<module>\u001b[0;34m()\u001b[0m\n\u001b[0;32m----> 1\u001b[0;31m \u001b[0mX_train\u001b[0m\u001b[0;34m,\u001b[0m \u001b[0my_train\u001b[0m \u001b[0;34m=\u001b[0m \u001b[0mbuild_X_Y\u001b[0m\u001b[0;34m(\u001b[0m\u001b[0mdf_train\u001b[0m\u001b[0;34m,\u001b[0m \u001b[0mtrain_features\u001b[0m\u001b[0;34m)\u001b[0m\u001b[0;34m\u001b[0m\u001b[0;34m\u001b[0m\u001b[0m\n\u001b[0m\u001b[1;32m      2\u001b[0m \u001b[0mX_test\u001b[0m\u001b[0;34m,\u001b[0m \u001b[0my_test\u001b[0m \u001b[0;34m=\u001b[0m \u001b[0mbuild_X_Y\u001b[0m\u001b[0;34m(\u001b[0m\u001b[0mdf_test\u001b[0m\u001b[0;34m,\u001b[0m \u001b[0mtrain_features\u001b[0m\u001b[0;34m)\u001b[0m\u001b[0;34m\u001b[0m\u001b[0;34m\u001b[0m\u001b[0m\n",
            "\u001b[0;32m<ipython-input-63-904affbc1538>\u001b[0m in \u001b[0;36mbuild_X_Y\u001b[0;34m(df, train_features)\u001b[0m\n\u001b[1;32m      1\u001b[0m \u001b[0;32mdef\u001b[0m \u001b[0mbuild_X_Y\u001b[0m\u001b[0;34m(\u001b[0m\u001b[0mdf\u001b[0m\u001b[0;34m,\u001b[0m \u001b[0mtrain_features\u001b[0m\u001b[0;34m)\u001b[0m\u001b[0;34m:\u001b[0m\u001b[0;34m\u001b[0m\u001b[0;34m\u001b[0m\u001b[0m\n\u001b[0;32m----> 2\u001b[0;31m     \u001b[0mX\u001b[0m \u001b[0;34m=\u001b[0m \u001b[0mdf\u001b[0m\u001b[0;34m[\u001b[0m\u001b[0mtrain_features\u001b[0m\u001b[0;34m]\u001b[0m\u001b[0;34m\u001b[0m\u001b[0;34m\u001b[0m\u001b[0m\n\u001b[0m\u001b[1;32m      3\u001b[0m     \u001b[0mY\u001b[0m \u001b[0;34m=\u001b[0m \u001b[0mdf\u001b[0m\u001b[0;34m[\u001b[0m\u001b[0;34m'target'\u001b[0m\u001b[0;34m]\u001b[0m\u001b[0;34m\u001b[0m\u001b[0;34m\u001b[0m\u001b[0m\n\u001b[1;32m      4\u001b[0m     \u001b[0;32mreturn\u001b[0m \u001b[0mX\u001b[0m\u001b[0;34m,\u001b[0m \u001b[0mY\u001b[0m\u001b[0;34m\u001b[0m\u001b[0;34m\u001b[0m\u001b[0m\n",
            "\u001b[0;32m/usr/local/lib/python3.6/dist-packages/pandas/core/frame.py\u001b[0m in \u001b[0;36m__getitem__\u001b[0;34m(self, key)\u001b[0m\n\u001b[1;32m   2999\u001b[0m             \u001b[0;32mif\u001b[0m \u001b[0mis_iterator\u001b[0m\u001b[0;34m(\u001b[0m\u001b[0mkey\u001b[0m\u001b[0;34m)\u001b[0m\u001b[0;34m:\u001b[0m\u001b[0;34m\u001b[0m\u001b[0;34m\u001b[0m\u001b[0m\n\u001b[1;32m   3000\u001b[0m                 \u001b[0mkey\u001b[0m \u001b[0;34m=\u001b[0m \u001b[0mlist\u001b[0m\u001b[0;34m(\u001b[0m\u001b[0mkey\u001b[0m\u001b[0;34m)\u001b[0m\u001b[0;34m\u001b[0m\u001b[0;34m\u001b[0m\u001b[0m\n\u001b[0;32m-> 3001\u001b[0;31m             \u001b[0mindexer\u001b[0m \u001b[0;34m=\u001b[0m \u001b[0mself\u001b[0m\u001b[0;34m.\u001b[0m\u001b[0mloc\u001b[0m\u001b[0;34m.\u001b[0m\u001b[0m_convert_to_indexer\u001b[0m\u001b[0;34m(\u001b[0m\u001b[0mkey\u001b[0m\u001b[0;34m,\u001b[0m \u001b[0maxis\u001b[0m\u001b[0;34m=\u001b[0m\u001b[0;36m1\u001b[0m\u001b[0;34m,\u001b[0m \u001b[0mraise_missing\u001b[0m\u001b[0;34m=\u001b[0m\u001b[0;32mTrue\u001b[0m\u001b[0;34m)\u001b[0m\u001b[0;34m\u001b[0m\u001b[0;34m\u001b[0m\u001b[0m\n\u001b[0m\u001b[1;32m   3002\u001b[0m \u001b[0;34m\u001b[0m\u001b[0m\n\u001b[1;32m   3003\u001b[0m         \u001b[0;31m# take() does not accept boolean indexers\u001b[0m\u001b[0;34m\u001b[0m\u001b[0;34m\u001b[0m\u001b[0;34m\u001b[0m\u001b[0m\n",
            "\u001b[0;32m/usr/local/lib/python3.6/dist-packages/pandas/core/indexing.py\u001b[0m in \u001b[0;36m_convert_to_indexer\u001b[0;34m(self, obj, axis, is_setter, raise_missing)\u001b[0m\n\u001b[1;32m   1283\u001b[0m                 \u001b[0;31m# When setting, missing keys are not allowed, even with .loc:\u001b[0m\u001b[0;34m\u001b[0m\u001b[0;34m\u001b[0m\u001b[0;34m\u001b[0m\u001b[0m\n\u001b[1;32m   1284\u001b[0m                 \u001b[0mkwargs\u001b[0m \u001b[0;34m=\u001b[0m \u001b[0;34m{\u001b[0m\u001b[0;34m\"raise_missing\"\u001b[0m\u001b[0;34m:\u001b[0m \u001b[0;32mTrue\u001b[0m \u001b[0;32mif\u001b[0m \u001b[0mis_setter\u001b[0m \u001b[0;32melse\u001b[0m \u001b[0mraise_missing\u001b[0m\u001b[0;34m}\u001b[0m\u001b[0;34m\u001b[0m\u001b[0;34m\u001b[0m\u001b[0m\n\u001b[0;32m-> 1285\u001b[0;31m                 \u001b[0;32mreturn\u001b[0m \u001b[0mself\u001b[0m\u001b[0;34m.\u001b[0m\u001b[0m_get_listlike_indexer\u001b[0m\u001b[0;34m(\u001b[0m\u001b[0mobj\u001b[0m\u001b[0;34m,\u001b[0m \u001b[0maxis\u001b[0m\u001b[0;34m,\u001b[0m \u001b[0;34m**\u001b[0m\u001b[0mkwargs\u001b[0m\u001b[0;34m)\u001b[0m\u001b[0;34m[\u001b[0m\u001b[0;36m1\u001b[0m\u001b[0;34m]\u001b[0m\u001b[0;34m\u001b[0m\u001b[0;34m\u001b[0m\u001b[0m\n\u001b[0m\u001b[1;32m   1286\u001b[0m         \u001b[0;32melse\u001b[0m\u001b[0;34m:\u001b[0m\u001b[0;34m\u001b[0m\u001b[0;34m\u001b[0m\u001b[0m\n\u001b[1;32m   1287\u001b[0m             \u001b[0;32mtry\u001b[0m\u001b[0;34m:\u001b[0m\u001b[0;34m\u001b[0m\u001b[0;34m\u001b[0m\u001b[0m\n",
            "\u001b[0;32m/usr/local/lib/python3.6/dist-packages/pandas/core/indexing.py\u001b[0m in \u001b[0;36m_get_listlike_indexer\u001b[0;34m(self, key, axis, raise_missing)\u001b[0m\n\u001b[1;32m   1090\u001b[0m \u001b[0;34m\u001b[0m\u001b[0m\n\u001b[1;32m   1091\u001b[0m         self._validate_read_indexer(\n\u001b[0;32m-> 1092\u001b[0;31m             \u001b[0mkeyarr\u001b[0m\u001b[0;34m,\u001b[0m \u001b[0mindexer\u001b[0m\u001b[0;34m,\u001b[0m \u001b[0mo\u001b[0m\u001b[0;34m.\u001b[0m\u001b[0m_get_axis_number\u001b[0m\u001b[0;34m(\u001b[0m\u001b[0maxis\u001b[0m\u001b[0;34m)\u001b[0m\u001b[0;34m,\u001b[0m \u001b[0mraise_missing\u001b[0m\u001b[0;34m=\u001b[0m\u001b[0mraise_missing\u001b[0m\u001b[0;34m\u001b[0m\u001b[0;34m\u001b[0m\u001b[0m\n\u001b[0m\u001b[1;32m   1093\u001b[0m         )\n\u001b[1;32m   1094\u001b[0m         \u001b[0;32mreturn\u001b[0m \u001b[0mkeyarr\u001b[0m\u001b[0;34m,\u001b[0m \u001b[0mindexer\u001b[0m\u001b[0;34m\u001b[0m\u001b[0;34m\u001b[0m\u001b[0m\n",
            "\u001b[0;32m/usr/local/lib/python3.6/dist-packages/pandas/core/indexing.py\u001b[0m in \u001b[0;36m_validate_read_indexer\u001b[0;34m(self, key, indexer, axis, raise_missing)\u001b[0m\n\u001b[1;32m   1183\u001b[0m             \u001b[0;32mif\u001b[0m \u001b[0;32mnot\u001b[0m \u001b[0;34m(\u001b[0m\u001b[0mself\u001b[0m\u001b[0;34m.\u001b[0m\u001b[0mname\u001b[0m \u001b[0;34m==\u001b[0m \u001b[0;34m\"loc\"\u001b[0m \u001b[0;32mand\u001b[0m \u001b[0;32mnot\u001b[0m \u001b[0mraise_missing\u001b[0m\u001b[0;34m)\u001b[0m\u001b[0;34m:\u001b[0m\u001b[0;34m\u001b[0m\u001b[0;34m\u001b[0m\u001b[0m\n\u001b[1;32m   1184\u001b[0m                 \u001b[0mnot_found\u001b[0m \u001b[0;34m=\u001b[0m \u001b[0mlist\u001b[0m\u001b[0;34m(\u001b[0m\u001b[0mset\u001b[0m\u001b[0;34m(\u001b[0m\u001b[0mkey\u001b[0m\u001b[0;34m)\u001b[0m \u001b[0;34m-\u001b[0m \u001b[0mset\u001b[0m\u001b[0;34m(\u001b[0m\u001b[0max\u001b[0m\u001b[0;34m)\u001b[0m\u001b[0;34m)\u001b[0m\u001b[0;34m\u001b[0m\u001b[0;34m\u001b[0m\u001b[0m\n\u001b[0;32m-> 1185\u001b[0;31m                 \u001b[0;32mraise\u001b[0m \u001b[0mKeyError\u001b[0m\u001b[0;34m(\u001b[0m\u001b[0;34m\"{} not in index\"\u001b[0m\u001b[0;34m.\u001b[0m\u001b[0mformat\u001b[0m\u001b[0;34m(\u001b[0m\u001b[0mnot_found\u001b[0m\u001b[0;34m)\u001b[0m\u001b[0;34m)\u001b[0m\u001b[0;34m\u001b[0m\u001b[0;34m\u001b[0m\u001b[0m\n\u001b[0m\u001b[1;32m   1186\u001b[0m \u001b[0;34m\u001b[0m\u001b[0m\n\u001b[1;32m   1187\u001b[0m             \u001b[0;31m# we skip the warning on Categorical/Interval\u001b[0m\u001b[0;34m\u001b[0m\u001b[0;34m\u001b[0m\u001b[0;34m\u001b[0m\u001b[0m\n",
            "\u001b[0;31mKeyError\u001b[0m: \"['ratio_ticks_vix', 'ratio_ma_Close_vix_10min_1d'] not in index\""
          ]
        }
      ]
    },
    {
      "cell_type": "markdown",
      "metadata": {
        "id": "a5Up4soBbVCY",
        "colab_type": "text"
      },
      "source": [
        "# Build and choose model\n"
      ]
    },
    {
      "cell_type": "code",
      "metadata": {
        "id": "Pw2Jvn8IbVCZ",
        "colab_type": "code",
        "colab": {}
      },
      "source": [
        "from lightgbm import LGBMClassifier"
      ],
      "execution_count": 0,
      "outputs": []
    },
    {
      "cell_type": "code",
      "metadata": {
        "id": "Bbn3fTB-bVCe",
        "colab_type": "code",
        "colab": {}
      },
      "source": [
        "from sklearn.ensemble import RandomForestClassifier"
      ],
      "execution_count": 0,
      "outputs": []
    },
    {
      "cell_type": "code",
      "metadata": {
        "id": "useM8zhpbVCq",
        "colab_type": "code",
        "outputId": "c7b75c5d-8012-41a0-9b71-a3174c7110d2",
        "colab": {
          "base_uri": "https://localhost:8080/",
          "height": 70
        }
      },
      "source": [
        "from sklearn.pipeline import make_pipeline\n",
        "from imblearn.over_sampling import SMOTE\n",
        "from sklearn.impute import SimpleImputer"
      ],
      "execution_count": 0,
      "outputs": [
        {
          "output_type": "stream",
          "text": [
            "/usr/local/lib/python3.6/dist-packages/sklearn/externals/six.py:31: DeprecationWarning: The module is deprecated in version 0.21 and will be removed in version 0.23 since we've dropped support for Python 2.7. Please rely on the official version of six (https://pypi.org/project/six/).\n",
            "  \"(https://pypi.org/project/six/).\", DeprecationWarning)\n"
          ],
          "name": "stderr"
        }
      ]
    },
    {
      "cell_type": "code",
      "metadata": {
        "id": "wrlhJD8ybVD_",
        "colab_type": "code",
        "colab": {}
      },
      "source": [
        "model = LGBMClassifier(n_estimators=30, class_weight='balanced'\n",
        "                      )"
      ],
      "execution_count": 0,
      "outputs": []
    },
    {
      "cell_type": "code",
      "metadata": {
        "id": "a_QAdoUmbVEF",
        "colab_type": "code",
        "colab": {}
      },
      "source": [
        "#model = RandomForestClassifier(n_estimators=20, n_jobs=-1, class_weight='balanced')"
      ],
      "execution_count": 0,
      "outputs": []
    },
    {
      "cell_type": "code",
      "metadata": {
        "id": "E_qzrzjfbVGJ",
        "colab_type": "code",
        "outputId": "6e97228f-8ecd-468f-fbc1-80e2f3200ab3",
        "colab": {
          "base_uri": "https://localhost:8080/",
          "height": 134
        }
      },
      "source": [
        "np.random.seed(42)\n",
        "model.fit(X_train, y_train)"
      ],
      "execution_count": 0,
      "outputs": [
        {
          "output_type": "execute_result",
          "data": {
            "text/plain": [
              "LGBMClassifier(boosting_type='gbdt', class_weight='balanced',\n",
              "               colsample_bytree=1.0, importance_type='split', learning_rate=0.1,\n",
              "               max_depth=-1, min_child_samples=20, min_child_weight=0.001,\n",
              "               min_split_gain=0.0, n_estimators=30, n_jobs=-1, num_leaves=31,\n",
              "               objective=None, random_state=None, reg_alpha=0.0, reg_lambda=0.0,\n",
              "               silent=True, subsample=1.0, subsample_for_bin=200000,\n",
              "               subsample_freq=0)"
            ]
          },
          "metadata": {
            "tags": []
          },
          "execution_count": 85
        }
      ]
    },
    {
      "cell_type": "code",
      "metadata": {
        "id": "VBBY-aCUbVGN",
        "colab_type": "code",
        "colab": {}
      },
      "source": [
        "pred = model.predict(X_test)"
      ],
      "execution_count": 0,
      "outputs": []
    },
    {
      "cell_type": "markdown",
      "metadata": {
        "id": "7hc0nIoWbVGS",
        "colab_type": "text"
      },
      "source": [
        "# Study results"
      ]
    },
    {
      "cell_type": "code",
      "metadata": {
        "id": "TfMuEO-KbVGU",
        "colab_type": "code",
        "colab": {}
      },
      "source": [
        "from sklearn.metrics import confusion_matrix, f1_score"
      ],
      "execution_count": 0,
      "outputs": []
    },
    {
      "cell_type": "code",
      "metadata": {
        "id": "7q7rNMgIbVGX",
        "colab_type": "code",
        "colab": {}
      },
      "source": [
        "cf = confusion_matrix(y_test, pred)"
      ],
      "execution_count": 0,
      "outputs": []
    },
    {
      "cell_type": "code",
      "metadata": {
        "id": "ayDYCXdtbVGc",
        "colab_type": "code",
        "outputId": "d1a761e3-40d8-4ca2-e28e-cb5a79fb3d10",
        "colab": {
          "base_uri": "https://localhost:8080/",
          "height": 34
        }
      },
      "source": [
        "print(f1_score(pred, y_test, average = 'macro'))"
      ],
      "execution_count": 0,
      "outputs": [
        {
          "output_type": "stream",
          "text": [
            "0.37298419736502936\n"
          ],
          "name": "stdout"
        }
      ]
    },
    {
      "cell_type": "code",
      "metadata": {
        "id": "-0YJG1XTbVGj",
        "colab_type": "code",
        "outputId": "31263844-64ed-4ec8-9376-ad28d9496582",
        "colab": {
          "base_uri": "https://localhost:8080/",
          "height": 84
        }
      },
      "source": [
        "pd.Series(pred).value_counts()"
      ],
      "execution_count": 0,
      "outputs": [
        {
          "output_type": "execute_result",
          "data": {
            "text/plain": [
              "1    8698\n",
              "0    3605\n",
              "2    3151\n",
              "dtype: int64"
            ]
          },
          "metadata": {
            "tags": []
          },
          "execution_count": 90
        }
      ]
    },
    {
      "cell_type": "code",
      "metadata": {
        "id": "G6Jfw4y-bVGq",
        "colab_type": "code",
        "colab": {}
      },
      "source": [
        ""
      ],
      "execution_count": 0,
      "outputs": []
    },
    {
      "cell_type": "code",
      "metadata": {
        "id": "v3puUgNsbVGu",
        "colab_type": "code",
        "outputId": "fcda43fd-7c99-46cd-e9c1-d6ae9760f180",
        "colab": {
          "base_uri": "https://localhost:8080/",
          "height": 67
        }
      },
      "source": [
        "cf"
      ],
      "execution_count": 0,
      "outputs": [
        {
          "output_type": "execute_result",
          "data": {
            "text/plain": [
              "array([[1017, 1852,  901],\n",
              "       [1669, 4953, 1396],\n",
              "       [ 919, 1893,  854]])"
            ]
          },
          "metadata": {
            "tags": []
          },
          "execution_count": 91
        }
      ]
    },
    {
      "cell_type": "code",
      "metadata": {
        "id": "GrL5TrS1bVJD",
        "colab_type": "code",
        "outputId": "7cda88b5-7612-408b-8212-6fe99bc6bf27",
        "colab": {
          "base_uri": "https://localhost:8080/",
          "height": 67
        }
      },
      "source": [
        "cf/cf.sum(axis = 0)"
      ],
      "execution_count": 0,
      "outputs": [
        {
          "output_type": "execute_result",
          "data": {
            "text/plain": [
              "array([[0.28210818, 0.21292251, 0.28594097],\n",
              "       [0.4629681 , 0.56944125, 0.44303396],\n",
              "       [0.25492372, 0.21763624, 0.27102507]])"
            ]
          },
          "metadata": {
            "tags": []
          },
          "execution_count": 92
        }
      ]
    },
    {
      "cell_type": "code",
      "metadata": {
        "id": "BP62jeOobVJM",
        "colab_type": "code",
        "outputId": "bb2dd11b-1ad5-411b-d6d5-9267f3bc9c18",
        "colab": {
          "base_uri": "https://localhost:8080/",
          "height": 34
        }
      },
      "source": [
        "model.feature_importances_"
      ],
      "execution_count": 0,
      "outputs": [
        {
          "output_type": "execute_result",
          "data": {
            "text/plain": [
              "array([330, 291, 298, 321, 380, 351, 222, 122, 277, 108])"
            ]
          },
          "metadata": {
            "tags": []
          },
          "execution_count": 93
        }
      ]
    },
    {
      "cell_type": "markdown",
      "metadata": {
        "id": "O-kfZkxtbVJP",
        "colab_type": "text"
      },
      "source": [
        "# Threshold study"
      ]
    },
    {
      "cell_type": "code",
      "metadata": {
        "id": "1YDUTm_wbVJQ",
        "colab_type": "code",
        "colab": {}
      },
      "source": [
        "pred_probas = model.predict_proba(X_test)"
      ],
      "execution_count": 0,
      "outputs": []
    },
    {
      "cell_type": "code",
      "metadata": {
        "id": "xQQRR87jbVJT",
        "colab_type": "code",
        "colab": {}
      },
      "source": [
        "thresh = 0.4"
      ],
      "execution_count": 0,
      "outputs": []
    },
    {
      "cell_type": "code",
      "metadata": {
        "id": "a2p15TMMbVJY",
        "colab_type": "code",
        "colab": {}
      },
      "source": [
        "good=0\n",
        "total = 0\n",
        "for proba, pred in zip(pred_probas.tolist(), y_test.tolist()):\n",
        "    if max(proba)>thresh and np.argmax(proba) != 1:\n",
        "        if np.argmax(proba) == pred:\n",
        "            good+=1\n",
        "        total+=1"
      ],
      "execution_count": 0,
      "outputs": []
    },
    {
      "cell_type": "code",
      "metadata": {
        "id": "ZFIUTtN0bVJc",
        "colab_type": "code",
        "outputId": "6944e5d6-c9ba-4364-dee5-0d1a39fbe9e6",
        "colab": {
          "base_uri": "https://localhost:8080/",
          "height": 34
        }
      },
      "source": [
        "good"
      ],
      "execution_count": 0,
      "outputs": [
        {
          "output_type": "execute_result",
          "data": {
            "text/plain": [
              "148"
            ]
          },
          "metadata": {
            "tags": []
          },
          "execution_count": 97
        }
      ]
    },
    {
      "cell_type": "code",
      "metadata": {
        "id": "0EwMBc5rbVLx",
        "colab_type": "code",
        "outputId": "47a319f3-cd96-4840-fcc1-cb58b6d3aa28",
        "colab": {
          "base_uri": "https://localhost:8080/",
          "height": 34
        }
      },
      "source": [
        "total"
      ],
      "execution_count": 0,
      "outputs": [
        {
          "output_type": "execute_result",
          "data": {
            "text/plain": [
              "540"
            ]
          },
          "metadata": {
            "tags": []
          },
          "execution_count": 98
        }
      ]
    },
    {
      "cell_type": "code",
      "metadata": {
        "id": "N_VqAH8UbVMR",
        "colab_type": "code",
        "outputId": "90d7987d-ff00-463f-9eb5-73a008be9b29",
        "colab": {
          "base_uri": "https://localhost:8080/",
          "height": 34
        }
      },
      "source": [
        "len(pred_probas)"
      ],
      "execution_count": 0,
      "outputs": [
        {
          "output_type": "execute_result",
          "data": {
            "text/plain": [
              "15454"
            ]
          },
          "metadata": {
            "tags": []
          },
          "execution_count": 99
        }
      ]
    },
    {
      "cell_type": "code",
      "metadata": {
        "id": "l5gB1OhgbVMV",
        "colab_type": "code",
        "outputId": "425b1148-0e5e-4ecf-bd5f-a9ad33e77cc3",
        "colab": {
          "base_uri": "https://localhost:8080/",
          "height": 34
        }
      },
      "source": [
        "print(good/total)"
      ],
      "execution_count": 0,
      "outputs": [
        {
          "output_type": "stream",
          "text": [
            "0.2740740740740741\n"
          ],
          "name": "stdout"
        }
      ]
    },
    {
      "cell_type": "markdown",
      "metadata": {
        "id": "9hsvU9cjbVMY",
        "colab_type": "text"
      },
      "source": [
        "# Teersheet"
      ]
    },
    {
      "cell_type": "code",
      "metadata": {
        "id": "ErR9Jx9TbVMZ",
        "colab_type": "code",
        "colab": {}
      },
      "source": [
        "money = df_test[['Date and Time', 'bips']].copy()\n",
        "money.index = money['Date and Time']\n",
        "money['date'] = money.index.date"
      ],
      "execution_count": 0,
      "outputs": []
    },
    {
      "cell_type": "code",
      "metadata": {
        "id": "opy6NbY5bVMh",
        "colab_type": "code",
        "outputId": "2251928e-9d55-4f12-9352-765d30f253ed",
        "colab": {
          "base_uri": "https://localhost:8080/",
          "height": 34
        }
      },
      "source": [
        "len(money)"
      ],
      "execution_count": 0,
      "outputs": [
        {
          "output_type": "execute_result",
          "data": {
            "text/plain": [
              "15454"
            ]
          },
          "metadata": {
            "tags": []
          },
          "execution_count": 102
        }
      ]
    },
    {
      "cell_type": "code",
      "metadata": {
        "id": "5cCnRASwbVMq",
        "colab_type": "code",
        "outputId": "e2b70ae9-d131-43be-bae6-76cb1b962ee1",
        "colab": {
          "base_uri": "https://localhost:8080/",
          "height": 34
        }
      },
      "source": [
        "len(pred_probas)"
      ],
      "execution_count": 0,
      "outputs": [
        {
          "output_type": "execute_result",
          "data": {
            "text/plain": [
              "15454"
            ]
          },
          "metadata": {
            "tags": []
          },
          "execution_count": 103
        }
      ]
    },
    {
      "cell_type": "code",
      "metadata": {
        "id": "DApZYR2-bVMz",
        "colab_type": "code",
        "colab": {}
      },
      "source": [
        "for i in range(3):\n",
        "    money[f'proba_'+str(i)] = pred_probas[:,i]"
      ],
      "execution_count": 0,
      "outputs": []
    },
    {
      "cell_type": "code",
      "metadata": {
        "id": "E1TJ91exbVOR",
        "colab_type": "code",
        "colab": {}
      },
      "source": [
        "COST_1W = 10**-4\n",
        "SPREAD = 0#0.5 * 10**-4\n",
        "\n",
        "IN_THRESHOLD = 0.4\n",
        "OUT_THRESHOLD = 0.4\n"
      ],
      "execution_count": 0,
      "outputs": []
    },
    {
      "cell_type": "code",
      "metadata": {
        "id": "yo0QDv66bVOg",
        "colab_type": "code",
        "colab": {}
      },
      "source": [
        "def compute_inv(inv, gain_market):\n",
        "    return inv * gain_market + (1-inv) \n",
        "\n",
        "def choose_pose(proba_vector, last_pose):\n",
        "    final_pose = last_pose\n",
        "    \n",
        "    thresh = OUT_THRESHOLD\n",
        "    if last_pose == 1:\n",
        "        thresh = IN_THRESHOLD\n",
        "\n",
        "    if np.max(proba_vector)>thresh:\n",
        "        final_pose = np.argmax(proba_vector)\n",
        "    return final_pose, thresh\n",
        "\n",
        "def compute_cost(pose, last_pose):\n",
        "    if pose == last_pose:\n",
        "        cost = 0\n",
        "    elif pose == 1:\n",
        "        cost = (COST_1W + SPREAD)\n",
        "    else:\n",
        "        cost = 2*(COST_1W + SPREAD)\n",
        "    return cost\n",
        "    "
      ],
      "execution_count": 0,
      "outputs": []
    },
    {
      "cell_type": "code",
      "metadata": {
        "id": "zlwRoJCNbVO_",
        "colab_type": "code",
        "colab": {}
      },
      "source": [
        "money_made = []\n",
        "last_pose = 1\n",
        "poses = [last_pose]\n",
        "for proba, bips in zip(money[[f'proba_'+str(i) for i in range(3)]].values,\n",
        "                       money['bips'].values):\n",
        "    \n",
        "    inv = 1\n",
        "    pose, thresh = choose_pose(proba, last_pose)\n",
        "\n",
        "    poses.append(pose)\n",
        "    cost = compute_cost(pose, last_pose)\n",
        "    \n",
        "    if pose == 1:\n",
        "        gain = 1\n",
        "    elif pose == 0:\n",
        "        gain = compute_inv(inv, 1/bips) \n",
        "    elif pose == 2:\n",
        "        gain = compute_inv(inv, bips) \n",
        "    last_pose = pose\n",
        "    money_made.append(gain - cost)"
      ],
      "execution_count": 0,
      "outputs": []
    },
    {
      "cell_type": "code",
      "metadata": {
        "id": "I9zv1zqCbVPE",
        "colab_type": "code",
        "outputId": "ab242656-d101-40cb-f785-5144f3f1e1aa",
        "colab": {
          "base_uri": "https://localhost:8080/",
          "height": 84
        }
      },
      "source": [
        "pd.Series(poses).value_counts()"
      ],
      "execution_count": 0,
      "outputs": [
        {
          "output_type": "execute_result",
          "data": {
            "text/plain": [
              "1    11679\n",
              "0     2103\n",
              "2     1673\n",
              "dtype: int64"
            ]
          },
          "metadata": {
            "tags": []
          },
          "execution_count": 108
        }
      ]
    },
    {
      "cell_type": "code",
      "metadata": {
        "id": "i5pdD-wXbVPL",
        "colab_type": "code",
        "colab": {}
      },
      "source": [
        "money['money_made'] = money_made \n",
        "money.money_made -= 1"
      ],
      "execution_count": 0,
      "outputs": []
    },
    {
      "cell_type": "code",
      "metadata": {
        "id": "sMLHoy-obVPP",
        "colab_type": "code",
        "outputId": "9395f43c-1145-469b-f4c7-97e7e353b99d",
        "colab": {
          "base_uri": "https://localhost:8080/",
          "height": 235
        }
      },
      "source": [
        "money['money_made']"
      ],
      "execution_count": 0,
      "outputs": [
        {
          "output_type": "execute_result",
          "data": {
            "text/plain": [
              "Date and Time\n",
              "2018-06-01 14:40:00    0.0\n",
              "2018-06-01 14:50:00    0.0\n",
              "2018-06-01 15:00:00    0.0\n",
              "2018-06-01 15:10:00    0.0\n",
              "2018-06-01 15:20:00    0.0\n",
              "                      ... \n",
              "2019-12-31 20:40:00    0.0\n",
              "2019-12-31 20:50:00    0.0\n",
              "2019-12-31 21:00:00    0.0\n",
              "2019-12-31 21:10:00    0.0\n",
              "2019-12-31 21:20:00    0.0\n",
              "Name: money_made, Length: 15454, dtype: float64"
            ]
          },
          "metadata": {
            "tags": []
          },
          "execution_count": 110
        }
      ]
    },
    {
      "cell_type": "code",
      "metadata": {
        "scrolled": true,
        "id": "A0hjSPhlbVPS",
        "colab_type": "code",
        "outputId": "40fbd3f8-c494-4e58-9ca7-ef1ac2412b9c",
        "colab": {
          "base_uri": "https://localhost:8080/",
          "height": 168
        }
      },
      "source": [
        "money['money_made'].describe()"
      ],
      "execution_count": 0,
      "outputs": [
        {
          "output_type": "execute_result",
          "data": {
            "text/plain": [
              "count    15454.000000\n",
              "mean         0.000006\n",
              "std          0.001231\n",
              "min         -0.009154\n",
              "25%          0.000000\n",
              "50%          0.000000\n",
              "75%          0.000000\n",
              "max          0.143672\n",
              "Name: money_made, dtype: float64"
            ]
          },
          "metadata": {
            "tags": []
          },
          "execution_count": 111
        }
      ]
    },
    {
      "cell_type": "code",
      "metadata": {
        "id": "xgkWJoPxbVR6",
        "colab_type": "code",
        "outputId": "14fc3a7a-c97c-4e54-9e1d-02361ad08548",
        "colab": {
          "base_uri": "https://localhost:8080/",
          "height": 894
        }
      },
      "source": [
        "!pip install pyfolio \n",
        "import pyfolio as pf"
      ],
      "execution_count": 0,
      "outputs": [
        {
          "output_type": "stream",
          "text": [
            "Collecting pyfolio\n",
            "\u001b[?25l  Downloading https://files.pythonhosted.org/packages/28/b4/99799b743c4619752f88b70354924132a2e9b82f4656fe7c55eaa9101392/pyfolio-0.9.2.tar.gz (91kB)\n",
            "\r\u001b[K     |███▋                            | 10kB 19.5MB/s eta 0:00:01\r\u001b[K     |███████▏                        | 20kB 3.1MB/s eta 0:00:01\r\u001b[K     |██████████▉                     | 30kB 4.2MB/s eta 0:00:01\r\u001b[K     |██████████████▍                 | 40kB 2.9MB/s eta 0:00:01\r\u001b[K     |██████████████████              | 51kB 3.3MB/s eta 0:00:01\r\u001b[K     |█████████████████████▋          | 61kB 3.9MB/s eta 0:00:01\r\u001b[K     |█████████████████████████▏      | 71kB 4.2MB/s eta 0:00:01\r\u001b[K     |████████████████████████████▊   | 81kB 4.4MB/s eta 0:00:01\r\u001b[K     |████████████████████████████████| 92kB 3.6MB/s \n",
            "\u001b[?25hRequirement already satisfied: ipython>=3.2.3 in /usr/local/lib/python3.6/dist-packages (from pyfolio) (5.5.0)\n",
            "Requirement already satisfied: matplotlib>=1.4.0 in /usr/local/lib/python3.6/dist-packages (from pyfolio) (3.1.2)\n",
            "Requirement already satisfied: numpy>=1.11.1 in /usr/local/lib/python3.6/dist-packages (from pyfolio) (1.17.4)\n",
            "Requirement already satisfied: pandas>=0.18.1 in /usr/local/lib/python3.6/dist-packages (from pyfolio) (0.25.3)\n",
            "Requirement already satisfied: pytz>=2014.10 in /usr/local/lib/python3.6/dist-packages (from pyfolio) (2018.9)\n",
            "Requirement already satisfied: scipy>=0.14.0 in /usr/local/lib/python3.6/dist-packages (from pyfolio) (1.3.3)\n",
            "Requirement already satisfied: scikit-learn>=0.16.1 in /usr/local/lib/python3.6/dist-packages (from pyfolio) (0.21.3)\n",
            "Requirement already satisfied: seaborn>=0.7.1 in /usr/local/lib/python3.6/dist-packages (from pyfolio) (0.9.0)\n",
            "Collecting empyrical>=0.5.0\n",
            "\u001b[?25l  Downloading https://files.pythonhosted.org/packages/84/9e/9506e8b25464ff57ef93b5ba9092b464b44dc76b717695b126b3c93214a2/empyrical-0.5.3.tar.gz (50kB)\n",
            "\u001b[K     |████████████████████████████████| 51kB 4.3MB/s \n",
            "\u001b[?25hRequirement already satisfied: traitlets>=4.2 in /usr/local/lib/python3.6/dist-packages (from ipython>=3.2.3->pyfolio) (4.3.3)\n",
            "Requirement already satisfied: simplegeneric>0.8 in /usr/local/lib/python3.6/dist-packages (from ipython>=3.2.3->pyfolio) (0.8.1)\n",
            "Requirement already satisfied: pexpect; sys_platform != \"win32\" in /usr/local/lib/python3.6/dist-packages (from ipython>=3.2.3->pyfolio) (4.7.0)\n",
            "Requirement already satisfied: decorator in /usr/local/lib/python3.6/dist-packages (from ipython>=3.2.3->pyfolio) (4.4.1)\n",
            "Requirement already satisfied: prompt-toolkit<2.0.0,>=1.0.4 in /usr/local/lib/python3.6/dist-packages (from ipython>=3.2.3->pyfolio) (1.0.18)\n",
            "Requirement already satisfied: setuptools>=18.5 in /usr/local/lib/python3.6/dist-packages (from ipython>=3.2.3->pyfolio) (42.0.2)\n",
            "Requirement already satisfied: pygments in /usr/local/lib/python3.6/dist-packages (from ipython>=3.2.3->pyfolio) (2.1.3)\n",
            "Requirement already satisfied: pickleshare in /usr/local/lib/python3.6/dist-packages (from ipython>=3.2.3->pyfolio) (0.7.5)\n",
            "Requirement already satisfied: kiwisolver>=1.0.1 in /usr/local/lib/python3.6/dist-packages (from matplotlib>=1.4.0->pyfolio) (1.1.0)\n",
            "Requirement already satisfied: pyparsing!=2.0.4,!=2.1.2,!=2.1.6,>=2.0.1 in /usr/local/lib/python3.6/dist-packages (from matplotlib>=1.4.0->pyfolio) (2.4.5)\n",
            "Requirement already satisfied: cycler>=0.10 in /usr/local/lib/python3.6/dist-packages (from matplotlib>=1.4.0->pyfolio) (0.10.0)\n",
            "Requirement already satisfied: python-dateutil>=2.1 in /usr/local/lib/python3.6/dist-packages (from matplotlib>=1.4.0->pyfolio) (2.6.1)\n",
            "Requirement already satisfied: joblib>=0.11 in /usr/local/lib/python3.6/dist-packages (from scikit-learn>=0.16.1->pyfolio) (0.14.1)\n",
            "Requirement already satisfied: pandas-datareader>=0.2 in /usr/local/lib/python3.6/dist-packages (from empyrical>=0.5.0->pyfolio) (0.7.4)\n",
            "Requirement already satisfied: six in /usr/local/lib/python3.6/dist-packages (from traitlets>=4.2->ipython>=3.2.3->pyfolio) (1.12.0)\n",
            "Requirement already satisfied: ipython-genutils in /usr/local/lib/python3.6/dist-packages (from traitlets>=4.2->ipython>=3.2.3->pyfolio) (0.2.0)\n",
            "Requirement already satisfied: ptyprocess>=0.5 in /usr/local/lib/python3.6/dist-packages (from pexpect; sys_platform != \"win32\"->ipython>=3.2.3->pyfolio) (0.6.0)\n",
            "Requirement already satisfied: wcwidth in /usr/local/lib/python3.6/dist-packages (from prompt-toolkit<2.0.0,>=1.0.4->ipython>=3.2.3->pyfolio) (0.1.7)\n",
            "Requirement already satisfied: requests>=2.3.0 in /usr/local/lib/python3.6/dist-packages (from pandas-datareader>=0.2->empyrical>=0.5.0->pyfolio) (2.21.0)\n",
            "Requirement already satisfied: wrapt in /usr/local/lib/python3.6/dist-packages (from pandas-datareader>=0.2->empyrical>=0.5.0->pyfolio) (1.11.2)\n",
            "Requirement already satisfied: lxml in /usr/local/lib/python3.6/dist-packages (from pandas-datareader>=0.2->empyrical>=0.5.0->pyfolio) (4.2.6)\n",
            "Requirement already satisfied: certifi>=2017.4.17 in /usr/local/lib/python3.6/dist-packages (from requests>=2.3.0->pandas-datareader>=0.2->empyrical>=0.5.0->pyfolio) (2019.11.28)\n",
            "Requirement already satisfied: idna<2.9,>=2.5 in /usr/local/lib/python3.6/dist-packages (from requests>=2.3.0->pandas-datareader>=0.2->empyrical>=0.5.0->pyfolio) (2.8)\n",
            "Requirement already satisfied: urllib3<1.25,>=1.21.1 in /usr/local/lib/python3.6/dist-packages (from requests>=2.3.0->pandas-datareader>=0.2->empyrical>=0.5.0->pyfolio) (1.24.3)\n",
            "Requirement already satisfied: chardet<3.1.0,>=3.0.2 in /usr/local/lib/python3.6/dist-packages (from requests>=2.3.0->pandas-datareader>=0.2->empyrical>=0.5.0->pyfolio) (3.0.4)\n",
            "Building wheels for collected packages: pyfolio, empyrical\n",
            "  Building wheel for pyfolio (setup.py) ... \u001b[?25l\u001b[?25hdone\n",
            "  Created wheel for pyfolio: filename=pyfolio-0.9.2-cp36-none-any.whl size=88668 sha256=f75974d646b188fd80a1a682c7c288ab80d26d20d97d2bc7805aec4a220e6f82\n",
            "  Stored in directory: /root/.cache/pip/wheels/0d/a8/7d/ac33fe6bf6f3db370291c9de303460d00b8f97cc40a1d80f72\n",
            "  Building wheel for empyrical (setup.py) ... \u001b[?25l\u001b[?25hdone\n",
            "  Created wheel for empyrical: filename=empyrical-0.5.3-cp36-none-any.whl size=37089 sha256=1296756301097a1b1507cccef360366fba963a2faeb044ad36a4fb9a1d72a97f\n",
            "  Stored in directory: /root/.cache/pip/wheels/10/a4/3b/951bd609878a82fd72b9ea23699daf1eaada4ff6f583152876\n",
            "Successfully built pyfolio empyrical\n",
            "Installing collected packages: empyrical, pyfolio\n",
            "Successfully installed empyrical-0.5.3 pyfolio-0.9.2\n"
          ],
          "name": "stdout"
        },
        {
          "output_type": "stream",
          "text": [
            "/usr/local/lib/python3.6/dist-packages/pyfolio/pos.py:28: UserWarning: Module \"zipline.assets\" not found; mutltipliers will not be applied to position notionals.\n",
            "  ' to position notionals.'\n"
          ],
          "name": "stderr"
        }
      ]
    },
    {
      "cell_type": "code",
      "metadata": {
        "scrolled": true,
        "id": "Xi8D7BrlbVSA",
        "colab_type": "code",
        "colab": {}
      },
      "source": [
        "money_made_daily = money.groupby('date')['money_made'].sum()"
      ],
      "execution_count": 0,
      "outputs": []
    },
    {
      "cell_type": "code",
      "metadata": {
        "id": "JN9cbmiJbVSD",
        "colab_type": "code",
        "colab": {}
      },
      "source": [
        "money_made_daily.index = pd.to_datetime(money_made_daily.index)"
      ],
      "execution_count": 0,
      "outputs": []
    },
    {
      "cell_type": "code",
      "metadata": {
        "scrolled": false,
        "id": "uy4cnCsXbVSF",
        "colab_type": "code",
        "outputId": "e8d0bfda-d55b-4f46-8272-31944c6edf6a",
        "colab": {
          "base_uri": "https://localhost:8080/",
          "height": 1000
        }
      },
      "source": [
        "pf.create_full_tear_sheet(money_made_daily)"
      ],
      "execution_count": 0,
      "outputs": [
        {
          "output_type": "display_data",
          "data": {
            "text/html": [
              "<table border=\"1\" class=\"dataframe\">\n",
              "  <thead>\n",
              "    <tr style=\"text-align: right;\"><th>Start date</th><td colspan=2>2018-06-01</td></tr>\n",
              "    <tr style=\"text-align: right;\"><th>End date</th><td colspan=2>2019-12-31</td></tr>\n",
              "    <tr style=\"text-align: right;\"><th>Total months</th><td colspan=2>18</td></tr>\n",
              "    <tr style=\"text-align: right;\">\n",
              "      <th></th>\n",
              "      <th>Backtest</th>\n",
              "    </tr>\n",
              "  </thead>\n",
              "  <tbody>\n",
              "    <tr>\n",
              "      <th>Annual return</th>\n",
              "      <td>5.3%</td>\n",
              "    </tr>\n",
              "    <tr>\n",
              "      <th>Cumulative returns</th>\n",
              "      <td>8.2%</td>\n",
              "    </tr>\n",
              "    <tr>\n",
              "      <th>Annual volatility</th>\n",
              "      <td>12.3%</td>\n",
              "    </tr>\n",
              "    <tr>\n",
              "      <th>Sharpe ratio</th>\n",
              "      <td>0.48</td>\n",
              "    </tr>\n",
              "    <tr>\n",
              "      <th>Calmar ratio</th>\n",
              "      <td>0.67</td>\n",
              "    </tr>\n",
              "    <tr>\n",
              "      <th>Stability</th>\n",
              "      <td>0.04</td>\n",
              "    </tr>\n",
              "    <tr>\n",
              "      <th>Max drawdown</th>\n",
              "      <td>-8.0%</td>\n",
              "    </tr>\n",
              "    <tr>\n",
              "      <th>Omega ratio</th>\n",
              "      <td>1.27</td>\n",
              "    </tr>\n",
              "    <tr>\n",
              "      <th>Sortino ratio</th>\n",
              "      <td>1.94</td>\n",
              "    </tr>\n",
              "    <tr>\n",
              "      <th>Skew</th>\n",
              "      <td>15.90</td>\n",
              "    </tr>\n",
              "    <tr>\n",
              "      <th>Kurtosis</th>\n",
              "      <td>286.31</td>\n",
              "    </tr>\n",
              "    <tr>\n",
              "      <th>Tail ratio</th>\n",
              "      <td>0.93</td>\n",
              "    </tr>\n",
              "    <tr>\n",
              "      <th>Daily value at risk</th>\n",
              "      <td>-1.5%</td>\n",
              "    </tr>\n",
              "  </tbody>\n",
              "</table>"
            ],
            "text/plain": [
              "<IPython.core.display.HTML object>"
            ]
          },
          "metadata": {
            "tags": []
          }
        },
        {
          "output_type": "stream",
          "text": [
            "/usr/local/lib/python3.6/dist-packages/numpy/core/fromnumeric.py:61: FutureWarning: \n",
            "The current behaviour of 'Series.argmin' is deprecated, use 'idxmin'\n",
            "instead.\n",
            "The behavior of 'argmin' will be corrected to return the positional\n",
            "minimum in the future. For now, use 'series.values.argmin' or\n",
            "'np.argmin(np.array(values))' to get the position of the minimum\n",
            "row.\n",
            "  return bound(*args, **kwds)\n"
          ],
          "name": "stderr"
        },
        {
          "output_type": "display_data",
          "data": {
            "text/html": [
              "<table border=\"1\" class=\"dataframe\">\n",
              "  <thead>\n",
              "    <tr style=\"text-align: right;\">\n",
              "      <th>Worst drawdown periods</th>\n",
              "      <th>Net drawdown in %</th>\n",
              "      <th>Peak date</th>\n",
              "      <th>Valley date</th>\n",
              "      <th>Recovery date</th>\n",
              "      <th>Duration</th>\n",
              "    </tr>\n",
              "  </thead>\n",
              "  <tbody>\n",
              "    <tr>\n",
              "      <th>0</th>\n",
              "      <td>7.99</td>\n",
              "      <td>2018-10-26</td>\n",
              "      <td>2019-09-17</td>\n",
              "      <td>2019-11-29</td>\n",
              "      <td>286</td>\n",
              "    </tr>\n",
              "    <tr>\n",
              "      <th>1</th>\n",
              "      <td>2.85</td>\n",
              "      <td>2019-11-29</td>\n",
              "      <td>2019-12-27</td>\n",
              "      <td>NaT</td>\n",
              "      <td>NaN</td>\n",
              "    </tr>\n",
              "    <tr>\n",
              "      <th>2</th>\n",
              "      <td>2.24</td>\n",
              "      <td>2018-07-09</td>\n",
              "      <td>2018-10-03</td>\n",
              "      <td>2018-10-12</td>\n",
              "      <td>70</td>\n",
              "    </tr>\n",
              "    <tr>\n",
              "      <th>3</th>\n",
              "      <td>0.39</td>\n",
              "      <td>2018-06-26</td>\n",
              "      <td>2018-06-28</td>\n",
              "      <td>2018-06-29</td>\n",
              "      <td>4</td>\n",
              "    </tr>\n",
              "    <tr>\n",
              "      <th>4</th>\n",
              "      <td>0.38</td>\n",
              "      <td>2018-06-15</td>\n",
              "      <td>2018-06-18</td>\n",
              "      <td>2018-06-21</td>\n",
              "      <td>5</td>\n",
              "    </tr>\n",
              "  </tbody>\n",
              "</table>"
            ],
            "text/plain": [
              "<IPython.core.display.HTML object>"
            ]
          },
          "metadata": {
            "tags": []
          }
        },
        {
          "output_type": "display_data",
          "data": {
            "text/html": [
              "<table border=\"1\" class=\"dataframe\">\n",
              "  <thead>\n",
              "    <tr style=\"text-align: right;\">\n",
              "      <th>Stress Events</th>\n",
              "      <th>mean</th>\n",
              "      <th>min</th>\n",
              "      <th>max</th>\n",
              "    </tr>\n",
              "  </thead>\n",
              "  <tbody>\n",
              "    <tr>\n",
              "      <th>New Normal</th>\n",
              "      <td>0.02%</td>\n",
              "      <td>-1.08%</td>\n",
              "      <td>14.17%</td>\n",
              "    </tr>\n",
              "  </tbody>\n",
              "</table>"
            ],
            "text/plain": [
              "<IPython.core.display.HTML object>"
            ]
          },
          "metadata": {
            "tags": []
          }
        },
        {
          "output_type": "display_data",
          "data": {
            "image/png": "[encoded data removed]",
            "text/plain": [
              "<Figure size 1008x4752 with 12 Axes>"
            ]
          },
          "metadata": {
            "tags": []
          }
        },
        {
          "output_type": "display_data",
          "data": {
            "image/png": "[encoded data removed]",
            "text/plain": [
              "<Figure size 1008x432 with 1 Axes>"
            ]
          },
          "metadata": {
            "tags": []
          }
        }
      ]
    },
    {
      "cell_type": "code",
      "metadata": {
        "id": "QqNt3LL2bVSK",
        "colab_type": "code",
        "outputId": "3bebf85f-153f-4ea6-e95d-e3cd00745017",
        "colab": {
          "base_uri": "https://localhost:8080/",
          "height": 1000
        }
      },
      "source": [
        "money_made"
      ],
      "execution_count": 0,
      "outputs": [
        {
          "output_type": "execute_result",
          "data": {
            "text/plain": [
              "[1,\n",
              " 1,\n",
              " 1,\n",
              " 1,\n",
              " 1,\n",
              " 1,\n",
              " 1,\n",
              " 1,\n",
              " 1,\n",
              " 1,\n",
              " 1,\n",
              " 1,\n",
              " 1,\n",
              " 1,\n",
              " 1,\n",
              " 1,\n",
              " 1,\n",
              " 1,\n",
              " 1,\n",
              " 1,\n",
              " 1,\n",
              " 1,\n",
              " 1,\n",
              " 1,\n",
              " 1,\n",
              " 1,\n",
              " 1,\n",
              " 1,\n",
              " 1,\n",
              " 1,\n",
              " 1,\n",
              " 1,\n",
              " 1,\n",
              " 1,\n",
              " 1,\n",
              " 1,\n",
              " 1,\n",
              " 1,\n",
              " 1,\n",
              " 1,\n",
              " 1.0028986777583797,\n",
              " 1.0002426906768642,\n",
              " 1.000197571602375,\n",
              " 0.9999,\n",
              " 1,\n",
              " 1,\n",
              " 1,\n",
              " 1,\n",
              " 1,\n",
              " 1,\n",
              " 1,\n",
              " 1,\n",
              " 1,\n",
              " 1,\n",
              " 1,\n",
              " 1,\n",
              " 1,\n",
              " 1,\n",
              " 1,\n",
              " 1,\n",
              " 1,\n",
              " 1,\n",
              " 1,\n",
              " 1,\n",
              " 1,\n",
              " 1,\n",
              " 1,\n",
              " 1,\n",
              " 1,\n",
              " 1,\n",
              " 1,\n",
              " 1,\n",
              " 1,\n",
              " 1,\n",
              " 1,\n",
              " 1,\n",
              " 1,\n",
              " 1,\n",
              " 1,\n",
              " 1,\n",
              " 1,\n",
              " 0.9999040600773514,\n",
              " 1.000249718199948,\n",
              " 1.000221916316744,\n",
              " 1.0005026676049795,\n",
              " 0.9998138638836337,\n",
              " 1.0001411182749969,\n",
              " 0.9991129375972391,\n",
              " 0.9997676330127594,\n",
              " 1.0003573039164673,\n",
              " 0.998488069271395,\n",
              " 1.0010557865088543,\n",
              " 0.9995004180529488,\n",
              " 0.9997431420667345,\n",
              " 0.9993729667422393,\n",
              " 1.0002105318743868,\n",
              " 1.000114621938639,\n",
              " 1.0000243109579907,\n",
              " 1.000267414036806,\n",
              " 1.0001527671689465,\n",
              " 0.9998493390357699,\n",
              " 1.000275674726044,\n",
              " 1.000385282887886,\n",
              " 0.9999,\n",
              " 1,\n",
              " 1,\n",
              " 1,\n",
              " 1,\n",
              " 1,\n",
              " 1,\n",
              " 1,\n",
              " 1,\n",
              " 1,\n",
              " 1,\n",
              " 1,\n",
              " 1,\n",
              " 1,\n",
              " 1,\n",
              " 1,\n",
              " 1,\n",
              " 1,\n",
              " 0.9997861251786384,\n",
              " 1.0020361582861583,\n",
              " 0.9990895716140199,\n",
              " 0.9993000984020068,\n",
              " 0.9996810096737283,\n",
              " 0.9998820746536811,\n",
              " 1.0007631363516531,\n",
              " 0.9999653384355155,\n",
              " 0.9990017123406381,\n",
              " 1.0013323803113052,\n",
              " 1.0003465123531654,\n",
              " 1.0002286189338043,\n",
              " 1.0006683843798918,\n",
              " 1.0002803262859536,\n",
              " 1.0005362765110888,\n",
              " 1.0001832736829366,\n",
              " 0.9999,\n",
              " 1,\n",
              " 1,\n",
              " 1,\n",
              " 1,\n",
              " 1,\n",
              " 1,\n",
              " 1,\n",
              " 1,\n",
              " 1,\n",
              " 1,\n",
              " 1,\n",
              " 1,\n",
              " 1,\n",
              " 1,\n",
              " 1,\n",
              " 1,\n",
              " 1,\n",
              " 1,\n",
              " 1,\n",
              " 1,\n",
              " 1,\n",
              " 1,\n",
              " 1,\n",
              " 1,\n",
              " 1,\n",
              " 1,\n",
              " 1,\n",
              " 1,\n",
              " 1,\n",
              " 1,\n",
              " 1,\n",
              " 1,\n",
              " 1,\n",
              " 1,\n",
              " 1,\n",
              " 1,\n",
              " 1,\n",
              " 1,\n",
              " 1,\n",
              " 1.0000826855123675,\n",
              " 1.000258480753523,\n",
              " 0.9999,\n",
              " 1,\n",
              " 1,\n",
              " 1,\n",
              " 1,\n",
              " 1,\n",
              " 1,\n",
              " 1,\n",
              " 1,\n",
              " 1,\n",
              " 1,\n",
              " 1,\n",
              " 1,\n",
              " 1,\n",
              " 1,\n",
              " 1,\n",
              " 1,\n",
              " 1,\n",
              " 1,\n",
              " 1,\n",
              " 1,\n",
              " 1,\n",
              " 1,\n",
              " 1,\n",
              " 1,\n",
              " 0.999296685362852,\n",
              " 0.9998413415605782,\n",
              " 1.0009245045449058,\n",
              " 0.999724283395312,\n",
              " 1.0000413688967948,\n",
              " 0.9996656152507024,\n",
              " 0.9993103162889497,\n",
              " 1.0004451530084062,\n",
              " 1.000645012193145,\n",
              " 1.0001240934285636,\n",
              " 1.0002722823464534,\n",
              " 0.9998828470913345,\n",
              " 0.9992797698020228,\n",
              " 1.0001896708693134,\n",
              " 1.0002689367688282,\n",
              " 1.0000689396054585,\n",
              " 1.0004480765452608,\n",
              " 1.00100599809136,\n",
              " 0.9999277235321852,\n",
              " 1.000019275117888,\n",
              " 1.0001893055446562,\n",
              " 0.9996331608799459,\n",
              " 1.000082620729541,\n",
              " 1.0002960331557136,\n",
              " 0.9998931843052506,\n",
              " 1.0001205934851434,\n",
              " 0.9994975877328819,\n",
              " 0.9999,\n",
              " 1,\n",
              " 1,\n",
              " 1,\n",
              " 1,\n",
              " 1,\n",
              " 1,\n",
              " 1,\n",
              " 1,\n",
              " 1,\n",
              " 1,\n",
              " 1,\n",
              " 1,\n",
              " 0.9995251076375408,\n",
              " 0.9990285129726131,\n",
              " 0.9998352519615312,\n",
              " 0.9993943079552708,\n",
              " 1.0002582100140163,\n",
              " 0.9998831489370467,\n",
              " 1.0001408968289152,\n",
              " 0.9998764237019337,\n",
              " 0.9999210387184927,\n",
              " 0.9998652382914435,\n",
              " 1.0001098870910141,\n",
              " 0.9999347587964027,\n",
              " 0.9996052749002889,\n",
              " 0.9997357756357684,\n",
              " 0.999293613373339,\n",
              " 0.9998354321449021,\n",
              " 0.9997532091381174,\n",
              " 0.9998217939183749,\n",
              " 0.9999931459669157,\n",
              " 0.9999485973942306,\n",
              " 1.0000546953639577,\n",
              " 0.9999,\n",
              " 1,\n",
              " 1,\n",
              " 1,\n",
              " 1,\n",
              " 1,\n",
              " 1,\n",
              " 1,\n",
              " 1,\n",
              " 1,\n",
              " 1,\n",
              " 1,\n",
              " 1,\n",
              " 1,\n",
              " 1,\n",
              " 1,\n",
              " 1,\n",
              " 1,\n",
              " 1,\n",
              " 1,\n",
              " 0.9999924054808076,\n",
              " 1.0007276692824651,\n",
              " 0.9995400278729378,\n",
              " 0.9999450526807422,\n",
              " 1.000662838459742,\n",
              " 1.00001372848489,\n",
              " 0.999680817108203,\n",
              " 0.999800876144962,\n",
              " 1.0001819942448613,\n",
              " 1.000322723511781,\n",
              " 0.9997872084842035,\n",
              " 0.9996292520159422,\n",
              " 1.000418963237693,\n",
              " 1.000226557324152,\n",
              " 1.0002730426963824,\n",
              " 1.000420088261079,\n",
              " 0.999907402644169,\n",
              " 1.0000548775886788,\n",
              " 0.9998868211843305,\n",
              " 0.9999,\n",
              " 1,\n",
              " 1,\n",
              " 1,\n",
              " 1,\n",
              " 1,\n",
              " 1,\n",
              " 1,\n",
              " 1,\n",
              " 1,\n",
              " 1,\n",
              " 1,\n",
              " 1,\n",
              " 1,\n",
              " 1,\n",
              " 1,\n",
              " 1,\n",
              " 1,\n",
              " 1,\n",
              " 1,\n",
              " 1,\n",
              " 1,\n",
              " 0.9998548943455392,\n",
              " 1.0000068618402769,\n",
              " 0.999766751847977,\n",
              " 1.0003465621718814,\n",
              " 0.9996535578918482,\n",
              " 0.9998490975001628,\n",
              " 0.9998388346718057,\n",
              " 1.0004391110745186,\n",
              " 1.0001200838528388,\n",
              " 0.9999142331759797,\n",
              " 0.9993280399336268,\n",
              " 1.0000068567823863,\n",
              " 0.9998423188723742,\n",
              " 1.0000050732446264,\n",
              " 1.0001903514576356,\n",
              " 0.9999622876968752,\n",
              " 0.9999,\n",
              " 1,\n",
              " 1,\n",
              " 1,\n",
              " 1,\n",
              " 1,\n",
              " 1,\n",
              " 1,\n",
              " 1,\n",
              " 1,\n",
              " 1,\n",
              " 1,\n",
              " 1,\n",
              " 1,\n",
              " 1,\n",
              " 1,\n",
              " 1.0003271521139692,\n",
              " 0.9992637666030247,\n",
              " 0.9992245348924986,\n",
              " 1.0002711431601563,\n",
              " 1.000934428538547,\n",
              " 1.000364284953313,\n",
              " 1.000839246466738,\n",
              " 1.0007951642995325,\n",
              " 0.9999,\n",
              " 1,\n",
              " 1.0013933485441338,\n",
              " 0.9997079499460567,\n",
              " 0.999522272744457,\n",
              " 1.0015576538226132,\n",
              " 0.9999622350012874,\n",
              " 0.9998420676774336,\n",
              " 0.9988874314087729,\n",
              " 0.999968373359368,\n",
              " 0.9989143468479617,\n",
              " 0.9997866255519343,\n",
              " 1.0001239212824478,\n",
              " 1.0005472511814084,\n",
              " 1.0004712729874579,\n",
              " 0.9997868236378202,\n",
              " 1.0001825453870148,\n",
              " 0.9999,\n",
              " 1,\n",
              " 1,\n",
              " 1,\n",
              " 1,\n",
              " 1,\n",
              " 1,\n",
              " 1,\n",
              " 1,\n",
              " 1,\n",
              " 1,\n",
              " 1,\n",
              " 1,\n",
              " 1,\n",
              " 1,\n",
              " 1,\n",
              " 1,\n",
              " 1,\n",
              " 1,\n",
              " 1,\n",
              " 1,\n",
              " 1,\n",
              " 1,\n",
              " 1,\n",
              " 1,\n",
              " 0.9998687783925801,\n",
              " 1.0028698229505482,\n",
              " 0.9994932187846903,\n",
              " 1.000013790155208,\n",
              " 1.000448380999683,\n",
              " 0.9996309948539659,\n",
              " 0.9996343352318005,\n",
              " 1.0015284471285308,\n",
              " 0.998439921443832,\n",
              " 0.9999551324971871,\n",
              " 0.9996825769233423,\n",
              " 1.0000345036987965,\n",
              " 1.0006532364204854,\n",
              " 1.000151247794303,\n",
              " 0.9999965468659354,\n",
              " 0.9992837808311372,\n",
              " 1.0003954640385246,\n",
              " 0.9999,\n",
              " 1,\n",
              " 1,\n",
              " 1,\n",
              " 1,\n",
              " 1,\n",
              " 1,\n",
              " 1,\n",
              " 1,\n",
              " 1,\n",
              " 1,\n",
              " 1,\n",
              " 1,\n",
              " 1,\n",
              " 1,\n",
              " 1,\n",
              " 1,\n",
              " 1,\n",
              " 1,\n",
              " 1,\n",
              " 1,\n",
              " 1,\n",
              " 1,\n",
              " 1,\n",
              " 1,\n",
              " 1,\n",
              " 1,\n",
              " 1,\n",
              " 1,\n",
              " 1,\n",
              " 1,\n",
              " 1,\n",
              " 1,\n",
              " 1,\n",
              " 1,\n",
              " 1,\n",
              " 1,\n",
              " 1,\n",
              " 1,\n",
              " 1,\n",
              " 1,\n",
              " 1,\n",
              " 1,\n",
              " 1,\n",
              " 1,\n",
              " 1,\n",
              " 1,\n",
              " 1,\n",
              " 1,\n",
              " 1,\n",
              " 1,\n",
              " 1,\n",
              " 1,\n",
              " 1,\n",
              " 1,\n",
              " 1,\n",
              " 1,\n",
              " 1,\n",
              " 1,\n",
              " 1,\n",
              " 1,\n",
              " 1,\n",
              " 1,\n",
              " 1,\n",
              " 1,\n",
              " 0.9996482334721078,\n",
              " 1.0049255107487747,\n",
              " 0.9999351829128797,\n",
              " 0.998731531831273,\n",
              " 0.9992886168282026,\n",
              " 0.999227343812363,\n",
              " 1.0007328424562376,\n",
              " 0.9999270683924835,\n",
              " 0.9980831490429609,\n",
              " 0.9997851370271283,\n",
              " 0.9999,\n",
              " 1,\n",
              " 1,\n",
              " 1,\n",
              " 1,\n",
              " 1,\n",
              " 1,\n",
              " 1,\n",
              " 1,\n",
              " 1,\n",
              " 1,\n",
              " 1,\n",
              " 1,\n",
              " 1,\n",
              " 1,\n",
              " 1,\n",
              " 1,\n",
              " 1,\n",
              " 1,\n",
              " 1,\n",
              " 1,\n",
              " 1,\n",
              " 1,\n",
              " 1,\n",
              " 1,\n",
              " 1,\n",
              " 1,\n",
              " 1,\n",
              " 1,\n",
              " 1,\n",
              " 1,\n",
              " 1,\n",
              " 0.9995616300359973,\n",
              " 0.9996583598764621,\n",
              " 0.999720134749935,\n",
              " 0.9980645874806459,\n",
              " 0.9992070197794893,\n",
              " 0.9998831418620368,\n",
              " 1.0001549972327863,\n",
              " 1.000488623053305,\n",
              " 0.9994641320757331,\n",
              " 1.0002424376762,\n",
              " 0.9993286907919886,\n",
              " 1.0002664349439678,\n",
              " 0.9994187233365279,\n",
              " 0.9994950979544553,\n",
              " 1.0003563249406702,\n",
              " 0.9999,\n",
              " 1,\n",
              " 1,\n",
              " 1,\n",
              " 1,\n",
              " 1,\n",
              " 1,\n",
              " 1,\n",
              " 1,\n",
              " 1,\n",
              " 1,\n",
              " 1,\n",
              " 1,\n",
              " 1,\n",
              " 1,\n",
              " 1,\n",
              " 1,\n",
              " 1,\n",
              " 1,\n",
              " 1,\n",
              " 1,\n",
              " 1,\n",
              " 1,\n",
              " 1,\n",
              " 1,\n",
              " 0.9998970147185187,\n",
              " 1.0025429248486024,\n",
              " 1.00047431349699,\n",
              " 0.9995921203175931,\n",
              " 0.9994679656596016,\n",
              " 1.0000644010310247,\n",
              " 1.0012535198599666,\n",
              " 1.0003183589289297,\n",
              " 0.9998477645609737,\n",
              " 0.9994640035133706,\n",
              " 0.9999,\n",
              " 1,\n",
              " 1,\n",
              " 1,\n",
              " 1,\n",
              " 1,\n",
              " 1,\n",
              " 1,\n",
              " 1,\n",
              " 1,\n",
              " 1,\n",
              " 1,\n",
              " 1,\n",
              " 1,\n",
              " 1,\n",
              " 1,\n",
              " 1,\n",
              " 1,\n",
              " 1,\n",
              " 1,\n",
              " 1,\n",
              " 1,\n",
              " 1,\n",
              " 1,\n",
              " 1,\n",
              " 1,\n",
              " 1,\n",
              " 1,\n",
              " 1,\n",
              " 1,\n",
              " 1,\n",
              " 1,\n",
              " 0.9958796265255516,\n",
              " 0.9988700211392968,\n",
              " 0.9992203027592231,\n",
              " 1.0012157481257662,\n",
              " 1.0005031464101608,\n",
              " 0.9988286683423219,\n",
              " 0.9998675455138014,\n",
              " 0.9986389679826791,\n",
              " 1.0013314743813175,\n",
              " 0.9999,\n",
              " 1,\n",
              " 1,\n",
              " 1,\n",
              " 1,\n",
              " 1,\n",
              " 1,\n",
              " 1,\n",
              " 1,\n",
              " 1,\n",
              " 1,\n",
              " 1,\n",
              " 1,\n",
              " 1,\n",
              " 1,\n",
              " 1,\n",
              " 1,\n",
              " 1,\n",
              " 1,\n",
              " 1,\n",
              " 1,\n",
              " 1,\n",
              " 1,\n",
              " 1,\n",
              " 1,\n",
              " 1,\n",
              " 1,\n",
              " 1,\n",
              " 1,\n",
              " 1,\n",
              " 1,\n",
              " 1,\n",
              " 1.0006386972979573,\n",
              " 1.0011315016902809,\n",
              " 0.9996623955431754,\n",
              " 0.9998675040152833,\n",
              " 1.000205528364656,\n",
              " 0.9994357838425211,\n",
              " 0.9996236435486232,\n",
              " 0.9995712104415486,\n",
              " 1.0004324610872213,\n",
              " 1.00024332851092,\n",
              " 1.0000773721895073,\n",
              " 0.9997058690280785,\n",
              " 0.9999,\n",
              " 1,\n",
              " 1,\n",
              " 1,\n",
              " 1,\n",
              " 1,\n",
              " 1,\n",
              " 1,\n",
              " 1,\n",
              " 1,\n",
              " 1,\n",
              " 1,\n",
              " 1,\n",
              " 1,\n",
              " 1,\n",
              " 1,\n",
              " 1,\n",
              " 1,\n",
              " 1,\n",
              " 1,\n",
              " 1,\n",
              " 1,\n",
              " 1,\n",
              " 1,\n",
              " 1,\n",
              " 1,\n",
              " 1,\n",
              " 1,\n",
              " 0.9998278906963609,\n",
              " 1.002771560650114,\n",
              " 0.998581199216634,\n",
              " 0.9988762174311162,\n",
              " 0.9997618468880936,\n",
              " 1.0006729078289702,\n",
              " 0.9996360422191026,\n",
              " 1.0009674399251012,\n",
              " 0.9991789904700541,\n",
              " 0.9996532978310311,\n",
              " 0.9999,\n",
              " 1,\n",
              " 1,\n",
              " 1,\n",
              " 1,\n",
              " 1,\n",
              " 1,\n",
              " 1,\n",
              " 1,\n",
              " 1,\n",
              " 1,\n",
              " 1,\n",
              " 1,\n",
              " 1,\n",
              " 1,\n",
              " 1,\n",
              " 1,\n",
              " 1,\n",
              " 1,\n",
              " 1,\n",
              " 1,\n",
              " 1,\n",
              " 1,\n",
              " 1,\n",
              " 1.0004952110786602,\n",
              " 1.0003599623961614,\n",
              " 0.9985204054926455,\n",
              " 1.000390989097688,\n",
              " 1.0017170113511584,\n",
              " 1.002032363638912,\n",
              " 0.9999,\n",
              " 0.9999261586444954,\n",
              " 0.9981558442739655,\n",
              " 1.0019663512092534,\n",
              " 0.9983168930054832,\n",
              " 0.9998670487266417,\n",
              " 1.000696729920874,\n",
              " 0.9994226428958833,\n",
              " 1.0001189847104648,\n",
              " 0.9993250426656967,\n",
              " 0.9988751720427855,\n",
              " 1.0001677043372534,\n",
              " 0.9997240627739724,\n",
              " 0.9988939828480115,\n",
              " 0.9995361764900764,\n",
              " 1.0014318792192418,\n",
              " 0.9995775995084795,\n",
              " 0.9999,\n",
              " 1,\n",
              " 1,\n",
              " 1,\n",
              " 1,\n",
              " 1,\n",
              " 1,\n",
              " 1,\n",
              " 1,\n",
              " 1,\n",
              " 1,\n",
              " 1,\n",
              " 1,\n",
              " 1,\n",
              " 1,\n",
              " 1,\n",
              " 1,\n",
              " 1,\n",
              " 1,\n",
              " 1,\n",
              " 1,\n",
              " 1,\n",
              " 1,\n",
              " 1,\n",
              " 1,\n",
              " 1,\n",
              " 1.00374070116582,\n",
              " 1.0002987345465661,\n",
              " 1.000142377425191,\n",
              " 1.0004409599733342,\n",
              " 0.9996564110573166,\n",
              " 0.9999375078115238,\n",
              " 1.0005069127623967,\n",
              " 1.000735692175289,\n",
              " 1.000343163092629,\n",
              " 0.9999,\n",
              " 1,\n",
              " 1,\n",
              " 1,\n",
              " 1,\n",
              " 1,\n",
              " 1,\n",
              " 1,\n",
              " 1,\n",
              " 1,\n",
              " 1,\n",
              " 1,\n",
              " 1,\n",
              " 1,\n",
              " 1,\n",
              " 1,\n",
              " 1,\n",
              " 1,\n",
              " 1,\n",
              " 1,\n",
              " 1,\n",
              " 1,\n",
              " 1,\n",
              " 1,\n",
              " 1,\n",
              " 1,\n",
              " 1,\n",
              " 1,\n",
              " 1,\n",
              " 1.00203913392253,\n",
              " 0.9999,\n",
              " 0.9998558275208744,\n",
              " 0.9974901363238275,\n",
              " 0.9999678985053535,\n",
              " 0.9990529707364462,\n",
              " 0.9994411807850013,\n",
              " 1.0008389320395137,\n",
              " 0.9991198966227778,\n",
              " 0.9991032391559981,\n",
              " 1.0002233677575623,\n",
              " 0.9998359912063371,\n",
              " 0.9999,\n",
              " 1,\n",
              " 1,\n",
              " 1,\n",
              " 1,\n",
              " 1,\n",
              " 1,\n",
              " 1,\n",
              " 1,\n",
              " 1,\n",
              " 1,\n",
              " 1,\n",
              " 1,\n",
              " 1,\n",
              " 1,\n",
              " 1,\n",
              " 1,\n",
              " 1,\n",
              " 1,\n",
              " 1,\n",
              " 1,\n",
              " 1,\n",
              " 1,\n",
              " 1,\n",
              " 1,\n",
              " 1,\n",
              " 1,\n",
              " 1,\n",
              " 1,\n",
              " 1,\n",
              " 1,\n",
              " 0.9997165028615166,\n",
              " 1.0017953383830125,\n",
              " 1.0005939005372888,\n",
              " 0.9990558768196933,\n",
              " 0.9999,\n",
              " 1,\n",
              " 1,\n",
              " 1,\n",
              " 1,\n",
              " 1,\n",
              " 1,\n",
              " 1,\n",
              " 1,\n",
              " 1,\n",
              " 1,\n",
              " 1,\n",
              " 1,\n",
              " 1,\n",
              " 1,\n",
              " 1,\n",
              " 1,\n",
              " 1,\n",
              " 1,\n",
              " 1,\n",
              " 1,\n",
              " 1,\n",
              " 1.0009826889239635,\n",
              " 0.9998989673769144,\n",
              " 1.0004705455888967,\n",
              " 0.9996167394281055,\n",
              " 1.0011720589517747,\n",
              " 0.9996617521933799,\n",
              " 0.9994179947654381,\n",
              " 0.9995367015940252,\n",
              " 0.9995960834018133,\n",
              " 0.9997041142049549,\n",
              " 0.999714638687338,\n",
              " 0.9999,\n",
              " 1,\n",
              " 1,\n",
              " 1,\n",
              " 1,\n",
              " 1,\n",
              " 1,\n",
              " 1,\n",
              " 1,\n",
              " 1,\n",
              " 1,\n",
              " 1,\n",
              " 1,\n",
              " 1,\n",
              " 1,\n",
              " 1,\n",
              " 1,\n",
              " 1,\n",
              " 1,\n",
              " 1,\n",
              " 1,\n",
              " 1,\n",
              " 1,\n",
              " 1,\n",
              " 1,\n",
              " 1,\n",
              " 0.9989848316243705,\n",
              " 0.9991617405058901,\n",
              " 1.001284276292954,\n",
              " 1.0004437203175374,\n",
              " 1.0000864870858426,\n",
              " 1.0000451800508177,\n",
              " 1.0000207874277638,\n",
              " 1.0007587253414265,\n",
              " 1.0003011829218897,\n",
              " 0.9999,\n",
              " 1,\n",
              " 1,\n",
              " 1,\n",
              " 1,\n",
              " 1,\n",
              " 1,\n",
              " 1,\n",
              " 1,\n",
              " 1,\n",
              " 1,\n",
              " 1,\n",
              " 1,\n",
              " 1,\n",
              " 1,\n",
              " 1,\n",
              " 1,\n",
              " 1,\n",
              " 1,\n",
              " 1,\n",
              " 1,\n",
              " 1,\n",
              " 1,\n",
              " 1,\n",
              " 1,\n",
              " 1,\n",
              " 1,\n",
              " 1,\n",
              " 1,\n",
              " 1,\n",
              " 1,\n",
              " 0.9998414247347092,\n",
              " 1.003797110054057,\n",
              " 0.9999552948135105,\n",
              " 0.9998486833733979,\n",
              " 0.9999,\n",
              " 1,\n",
              " 1,\n",
              " 1,\n",
              " 1,\n",
              " 1,\n",
              " 1,\n",
              " 1,\n",
              " 1,\n",
              " 1,\n",
              " 1,\n",
              " 1,\n",
              " 1,\n",
              " 1,\n",
              " 1,\n",
              " 1,\n",
              " 1,\n",
              " 1,\n",
              " 1,\n",
              " 1,\n",
              " 1,\n",
              " 1,\n",
              " 1,\n",
              " 1,\n",
              " 1,\n",
              " 1,\n",
              " 1,\n",
              " 1,\n",
              " 1,\n",
              " 1,\n",
              " 1,\n",
              " 1,\n",
              " 1,\n",
              " 1,\n",
              " ...]"
            ]
          },
          "metadata": {
            "tags": []
          },
          "execution_count": 103
        }
      ]
    },
    {
      "cell_type": "code",
      "metadata": {
        "id": "qNviTqBWbVSR",
        "colab_type": "code",
        "colab": {}
      },
      "source": [
        ""
      ],
      "execution_count": 0,
      "outputs": []
    },
    {
      "cell_type": "code",
      "metadata": {
        "id": "bGywo-4dbVSX",
        "colab_type": "code",
        "colab": {}
      },
      "source": [
        ""
      ],
      "execution_count": 0,
      "outputs": []
    },
    {
      "cell_type": "code",
      "metadata": {
        "id": "rtxhEQd-bVSa",
        "colab_type": "code",
        "colab": {}
      },
      "source": [
        ""
      ],
      "execution_count": 0,
      "outputs": []
    }
  ]
}